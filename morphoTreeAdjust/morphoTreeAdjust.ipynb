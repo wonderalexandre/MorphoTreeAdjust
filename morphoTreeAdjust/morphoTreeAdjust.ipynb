{
 "cells": [
  {
   "cell_type": "markdown",
   "id": "91c62304-7e82-49ab-9830-575459a6b06f",
   "metadata": {},
   "source": [
    "# 1. Install Library"
   ]
  },
  {
   "cell_type": "code",
   "execution_count": 1,
   "id": "ff43bae8-0956-4930-bd9c-8eadc3286131",
   "metadata": {},
   "outputs": [],
   "source": [
    "#!pip install morphoTreeAdjust"
   ]
  },
  {
   "cell_type": "markdown",
   "id": "59559460-1879-4add-b09d-b1083af31258",
   "metadata": {},
   "source": [
    "# 2. Importing library"
   ]
  },
  {
   "cell_type": "code",
   "execution_count": 2,
   "id": "b222cb83-f1ec-49b9-93fe-26d4f26b35ed",
   "metadata": {},
   "outputs": [],
   "source": [
    "import numpy as np\n",
    "import cv2 as cv\n",
    "import matplotlib.pyplot as plt\n",
    "import morphoTreeAdjust as mta\n",
    "\n",
    "from PrettyPrint import PrettyPrintTree\n",
    "from colorama import Fore, Back\n",
    "\n",
    "printTree = PrettyPrintTree(\n",
    "    lambda node: node.children,\n",
    "    lambda node: (str(node.id) + \": \"+str(node.level)), color=Back.BLACK + Fore.WHITE)\n"
   ]
  },
  {
   "cell_type": "markdown",
   "id": "59473491-70e7-4708-ae01-986c7a200da0",
   "metadata": {},
   "source": [
    "# 3. Creating the mintree and maxtree of an input image"
   ]
  },
  {
   "cell_type": "code",
   "execution_count": 3,
   "id": "ca364b5f-1dd5-4f73-8457-ef942ae3504a",
   "metadata": {},
   "outputs": [
    {
     "data": {
      "text/plain": [
       "<matplotlib.image.AxesImage at 0x7fb850b0c3d0>"
      ]
     },
     "execution_count": 3,
     "metadata": {},
     "output_type": "execute_result"
    },
    {
     "data": {
      "image/png": "[encoded data removed]",
      "text/plain": [
       "<Figure size 432x288 with 1 Axes>"
      ]
     },
     "metadata": {
      "needs_background": "light"
     },
     "output_type": "display_data"
    }
   ],
   "source": [
    "img_f = np.array([\n",
    "[203,203,203,203,203,203,203,203,203,203,203,203,203,203,203,203,203,203,203,203,203,203,203,203,203],\n",
    "[203,203,203, 78, 78, 78, 78, 78, 78, 78, 78, 78, 78, 78, 78, 78, 78,203,203,203,203,203,203,203,203],\n",
    "[203,203, 78, 78, 78, 78, 78, 78, 78, 78, 78, 78, 78, 78, 78, 78, 78, 78,203,203,203,203,203,203,203],\n",
    "[203,203, 78, 78,126,126,126,126,126,126,126, 78, 78, 78, 78, 78, 78, 78,203,203,203, 54, 54,203,203],\n",
    "[203,203, 78, 78,126, 38, 38, 38,126,126,126, 78, 78, 78, 78, 78, 78, 78,203,203, 54, 54, 54, 54,203],\n",
    "[203,203, 78, 78,126, 38, 38, 38,126,126,126, 78, 78, 78, 78, 78, 78, 78,203, 54, 54, 54, 80, 54,203],\n",
    "[203,203, 78, 78,126, 38, 38, 38,126, 78, 78, 78, 78, 78, 78, 78, 78, 78,203, 54, 80, 54, 54, 54,203],\n",
    "[203, 78, 78, 78,126, 38, 38,126,126, 78, 78, 78,203,203,203,203,203,203,203, 54, 54, 54, 54,203,203],\n",
    "[203, 78, 78, 78,126,126,126,126, 78, 78,203,203,203,203,203,203,203,203, 54, 54, 54, 54, 54,203,203],\n",
    "[203, 78, 78, 78,126,126,126, 78, 78, 78,203,203,253,253,253,203,203,203, 54, 80, 54, 54, 54,203,203],\n",
    "[203, 78, 78, 78,126,126,126, 78, 78, 78,203,203,253,253,253,203,203, 54, 54, 54, 54, 54,203,203,203],\n",
    "[203, 78, 78, 78,126,126,126, 78, 78, 78,203,203,253,253,253,203,203,203, 54, 54, 54,203,203,203,203],\n",
    "[203, 78, 78, 78,126,126,126, 78, 78, 78, 78,203,203,203,203,203,203,203,203,203,203,203,203,203,203],\n",
    "[203, 78, 78, 78,126,126,126, 78, 78, 78, 78,203,203,203,126,126,126,126,203,203,203,203,203,203,203],\n",
    "[203, 78, 78, 78,126,126,126, 78, 78, 78, 78,203,203,126,126,126,126,126,126,126,126,126,203,203,203],\n",
    "[203, 78, 78, 78, 78, 78, 78, 78, 78, 78, 78,203,203,126,126,126,126,126,126, 72,126,126,203,203,203],\n",
    "[203, 78, 78, 78, 78, 78, 78,161,161,161, 78, 78,203,126,126,126,126,126,126, 72, 72,126,126,126,203],\n",
    "[203, 78, 78, 78, 78, 78,161,161,161,161,161, 78,203,126,126,126,126,126, 72, 72, 72,126,126,126,203],\n",
    "[203, 78, 78, 78, 78, 78,161, 30, 30, 30,161, 78,203,203,126,126,126, 72, 72, 72, 72, 72,126,126,203],\n",
    "[203, 78, 78, 78, 78, 78,161, 30, 90, 30,161, 78, 78,203,126,126, 72, 72, 72, 72, 72, 72, 72,126,203],\n",
    "[203, 78, 78, 78, 78, 78,161, 30, 30, 30,161, 78, 78,203,203,126,126,126,126,126,126,126,126,126,203],\n",
    "[203, 78, 78, 78, 78, 78,161,161,161,161,161, 78, 78, 78,203,203,126,126,126,126,126,126,126,203,203],\n",
    "[203, 78, 78, 78, 78, 78,161,161,161,161,161, 78, 78, 78,203,203,203,203,126,126,126,126,203,203,203],\n",
    "[203,203, 78, 78, 78, 78, 78, 78, 78, 78, 78, 78, 78, 78, 78,203,203,203,203,203,203,203,203,203,203],\n",
    "[203,203,203,203,203,203,203,203,203,203,203,203,203,203,203,203,203,203,203,203,203,203,203,203,203]\n",
    "])\n",
    "\n",
    "num_rows, num_cols = img_f.shape\n",
    "img_f_vector = img_f.ravel()\n",
    "\n",
    "maxtree = mta.ComponentTree(img_f_vector, num_rows, num_cols, True, 1.5)\n",
    "mintree = mta.ComponentTree(img_f_vector, num_rows, num_cols, False, 1.5)\n",
    "plt.imshow(img_f, cmap='gray')"
   ]
  },
  {
   "cell_type": "code",
   "execution_count": 4,
   "id": "521f59f6-5e03-478b-a5ef-8ae2bf521a23",
   "metadata": {},
   "outputs": [
    {
     "name": "stdout",
     "output_type": "stream",
     "text": [
      "Maxtree of the input image\n",
      "                                         \u001b[40m\u001b[37m 0: 30 \u001b[0m\n",
      "                               ┌────────────┴───────────┐\n",
      "                            \u001b[40m\u001b[37m 1: 38 \u001b[0m                  \u001b[40m\u001b[37m 8: 90 \u001b[0m\n",
      "                               │\n",
      "                            \u001b[40m\u001b[37m 2: 54 \u001b[0m\n",
      "              ┌────────────────┴┬───────┬───────┐\n",
      "           \u001b[40m\u001b[37m 3: 72 \u001b[0m           \u001b[40m\u001b[37m 5: 80 \u001b[0m \u001b[40m\u001b[37m 6: 80 \u001b[0m \u001b[40m\u001b[37m 7: 80 \u001b[0m\n",
      "              │\n",
      "           \u001b[40m\u001b[37m 4: 78 \u001b[0m\n",
      "    ┌────────┬┴────────┐\n",
      "\u001b[40m\u001b[37m 9: 126 \u001b[0m \u001b[40m\u001b[37m 10: 126 \u001b[0m \u001b[40m\u001b[37m 11: 161 \u001b[0m\n",
      "             │\n",
      "         \u001b[40m\u001b[37m 12: 203 \u001b[0m\n",
      "             │\n",
      "         \u001b[40m\u001b[37m 13: 253 \u001b[0m\n"
     ]
    }
   ],
   "source": [
    "print(\"Maxtree of the input image\")\n",
    "printTree(maxtree.root)"
   ]
  },
  {
   "cell_type": "code",
   "execution_count": 5,
   "id": "12312f47-86fe-4c19-b0ac-dbc849d54e6d",
   "metadata": {},
   "outputs": [
    {
     "name": "stdout",
     "output_type": "stream",
     "text": [
      "Mintree of the input image\n",
      "                         \u001b[40m\u001b[37m 0: 253 \u001b[0m\n",
      "                            │\n",
      "                        \u001b[40m\u001b[37m 1: 203 \u001b[0m\n",
      "                ┌──────────┴──┬───────┐\n",
      "            \u001b[40m\u001b[37m 2: 161 \u001b[0m      \u001b[40m\u001b[37m 4: 126 \u001b[0m \u001b[40m\u001b[37m 6: 80 \u001b[0m\n",
      "         ┌─────┴─────┐       │        │\n",
      "     \u001b[40m\u001b[37m 3: 126 \u001b[0m     \u001b[40m\u001b[37m 5: 90 \u001b[0m \u001b[40m\u001b[37m 8: 72 \u001b[0m  \u001b[40m\u001b[37m 9: 54 \u001b[0m\n",
      "   ┌────┴───┐        │\n",
      "\u001b[40m\u001b[37m 7: 78 \u001b[0m \u001b[40m\u001b[37m 10: 38 \u001b[0m \u001b[40m\u001b[37m 11: 30 \u001b[0m\n"
     ]
    }
   ],
   "source": [
    "print(\"Mintree of the input image\")\n",
    "printTree(mintree.root)"
   ]
  },
  {
   "cell_type": "markdown",
   "id": "583bf237-aa9e-4b49-80e5-7d1ab90b46e2",
   "metadata": {},
   "source": [
    "# 4. Pruning an leaf of the maxtree and adjusting the mintree"
   ]
  },
  {
   "cell_type": "code",
   "execution_count": 6,
   "id": "52d7ca1a-cbc0-4fa5-85b9-a2bba155c0bc",
   "metadata": {},
   "outputs": [],
   "source": [
    "leaves = maxtree.leaves()"
   ]
  },
  {
   "cell_type": "code",
   "execution_count": 7,
   "id": "fc3e410f-859f-4cb8-b919-02cd6068c793",
   "metadata": {},
   "outputs": [
    {
     "name": "stdout",
     "output_type": "stream",
     "text": [
      "leaf of maxtree of input image: (id:level) = (9: 126)\n"
     ]
    },
    {
     "data": {
      "image/png": "[encoded data removed]",
      "text/plain": [
       "<Figure size 432x288 with 1 Axes>"
      ]
     },
     "metadata": {
      "needs_background": "light"
     },
     "output_type": "display_data"
    }
   ],
   "source": [
    "Lmax = leaves.pop()\n",
    "plt.imshow(maxtree.recNode(Lmax).reshape(num_rows, num_cols), cmap='gray')\n",
    "print(f'leaf of maxtree of input image: (id:level) = ({Lmax.id}: {Lmax.level})')"
   ]
  },
  {
   "cell_type": "code",
   "execution_count": 8,
   "id": "de02ddd9-f4d4-4294-afe7-4c3e0bb6470d",
   "metadata": {},
   "outputs": [
    {
     "name": "stdout",
     "output_type": "stream",
     "text": [
      "The reconstruction images are equals? True\n"
     ]
    }
   ],
   "source": [
    "#first adjust the mintree \n",
    "adjust = mta.ComponentTreeAdjustment()\n",
    "adjust.adjustMinTree(mintree, Lmax)\n",
    "\n",
    "#after, pruning the maxtree\n",
    "maxtree.prunning(Lmax)\n",
    "\n",
    "#reconstructed images of both trees\n",
    "img_g_vector_maxtree = maxtree.reconstructionImage()\n",
    "img_g_vector_mintree = mintree.reconstructionImage()\n",
    "\n",
    "print(\"The reconstruction images are equals?\", (img_g_vector_maxtree == img_g_vector_mintree).all() )"
   ]
  },
  {
   "cell_type": "code",
   "execution_count": 9,
   "id": "1b0a43bf-f44d-428e-ad04-21228a1ac4e4",
   "metadata": {},
   "outputs": [
    {
     "data": {
      "text/plain": [
       "Text(0.5, 1.0, 'reconstructed images: mintree')"
      ]
     },
     "execution_count": 9,
     "metadata": {},
     "output_type": "execute_result"
    },
    {
     "data": {
      "image/png": "[encoded data removed]",
      "text/plain": [
       "<Figure size 1440x1440 with 2 Axes>"
      ]
     },
     "metadata": {
      "needs_background": "light"
     },
     "output_type": "display_data"
    }
   ],
   "source": [
    "fig, axs = plt.subplots(1, 2, figsize=(20, 20))\n",
    "\n",
    "axs[0].axis('off')\n",
    "axs[0].imshow(img_g_vector_maxtree.reshape(num_rows, num_cols), cmap='gray')\n",
    "axs[0].set_title('reconstructed images: maxtree')\n",
    "\n",
    "axs[1].axis('off')\n",
    "axs[1].imshow(img_g_vector_mintree.reshape(num_rows, num_cols), cmap='gray')\n",
    "axs[1].set_title('reconstructed images: mintree')\n"
   ]
  },
  {
   "cell_type": "code",
   "execution_count": 10,
   "id": "e0195137-e4be-4546-97de-eef5c31ea4f4",
   "metadata": {},
   "outputs": [
    {
     "name": "stdout",
     "output_type": "stream",
     "text": [
      "Maxtree of the filtered image\n",
      "                                 \u001b[40m\u001b[37m 0: 30 \u001b[0m\n",
      "                        ┌───────────┴──────────┐\n",
      "                     \u001b[40m\u001b[37m 1: 38 \u001b[0m                \u001b[40m\u001b[37m 8: 90 \u001b[0m\n",
      "                        │\n",
      "                     \u001b[40m\u001b[37m 2: 54 \u001b[0m\n",
      "         ┌─────────────┬┴──────┬───────┐\n",
      "      \u001b[40m\u001b[37m 3: 72 \u001b[0m       \u001b[40m\u001b[37m 5: 80 \u001b[0m \u001b[40m\u001b[37m 6: 80 \u001b[0m \u001b[40m\u001b[37m 7: 80 \u001b[0m\n",
      "         │\n",
      "      \u001b[40m\u001b[37m 4: 78 \u001b[0m\n",
      "    ┌────┴────┐\n",
      "\u001b[40m\u001b[37m 10: 126 \u001b[0m \u001b[40m\u001b[37m 11: 161 \u001b[0m\n",
      "    │\n",
      "\u001b[40m\u001b[37m 12: 203 \u001b[0m\n",
      "    │\n",
      "\u001b[40m\u001b[37m 13: 253 \u001b[0m\n"
     ]
    }
   ],
   "source": [
    "print(\"Maxtree of the filtered image\")\n",
    "printTree(maxtree.root)"
   ]
  },
  {
   "cell_type": "code",
   "execution_count": 11,
   "id": "d183ee4d-1355-4146-97b8-8a4fb63e84f2",
   "metadata": {},
   "outputs": [
    {
     "name": "stdout",
     "output_type": "stream",
     "text": [
      "Mintree of the filtered image\n",
      "                  \u001b[40m\u001b[37m 0: 253 \u001b[0m\n",
      "                     │\n",
      "                 \u001b[40m\u001b[37m 1: 203 \u001b[0m\n",
      "          ┌─────────┴─┬───────┐\n",
      "      \u001b[40m\u001b[37m 2: 161 \u001b[0m    \u001b[40m\u001b[37m 4: 126 \u001b[0m \u001b[40m\u001b[37m 6: 80 \u001b[0m\n",
      "    ┌────┴───┐       │        │\n",
      " \u001b[40m\u001b[37m 5: 90 \u001b[0m  \u001b[40m\u001b[37m 7: 78 \u001b[0m \u001b[40m\u001b[37m 8: 72 \u001b[0m  \u001b[40m\u001b[37m 9: 54 \u001b[0m\n",
      "    │        │\n",
      "\u001b[40m\u001b[37m 11: 30 \u001b[0m \u001b[40m\u001b[37m 10: 38 \u001b[0m\n"
     ]
    }
   ],
   "source": [
    "print(\"Mintree of the filtered image\")\n",
    "printTree(mintree.root)"
   ]
  },
  {
   "cell_type": "code",
   "execution_count": null,
   "id": "abee54a5-510b-4b11-b465-63daafc34560",
   "metadata": {},
   "outputs": [],
   "source": []
  }
 ],
 "metadata": {
  "kernelspec": {
   "display_name": "Python 3",
   "language": "python",
   "name": "python3"
  },
  "language_info": {
   "codemirror_mode": {
    "name": "ipython",
    "version": 3
   },
   "file_extension": ".py",
   "mimetype": "text/x-python",
   "name": "python",
   "nbconvert_exporter": "python",
   "pygments_lexer": "ipython3",
   "version": "3.8.8"
  }
 },
 "nbformat": 4,
 "nbformat_minor": 5
}
