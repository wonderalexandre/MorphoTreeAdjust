{
 "cells": [
  {
   "cell_type": "markdown",
   "id": "91c62304-7e82-49ab-9830-575459a6b06f",
   "metadata": {
    "id": "91c62304-7e82-49ab-9830-575459a6b06f"
   },
   "source": [
    "# 1. Install Library"
   ]
  },
  {
   "cell_type": "code",
   "execution_count": 2,
   "id": "ff43bae8-0956-4930-bd9c-8eadc3286131",
   "metadata": {
    "colab": {
     "base_uri": "https://localhost:8080/"
    },
    "id": "ff43bae8-0956-4930-bd9c-8eadc3286131",
    "outputId": "c7b71431-cc9c-477b-a26c-2bebfa6b77aa"
   },
   "outputs": [],
   "source": [
    "#!pip install morphoTreeAdjust==0.0.9\n",
    "#!pip install PrettyPrintTree"
   ]
  },
  {
   "cell_type": "markdown",
   "id": "59559460-1879-4add-b09d-b1083af31258",
   "metadata": {
    "id": "59559460-1879-4add-b09d-b1083af31258"
   },
   "source": [
    "# 2. Importing library and defining plotting functions"
   ]
  },
  {
   "cell_type": "code",
   "execution_count": 4,
   "id": "b222cb83-f1ec-49b9-93fe-26d4f26b35ed",
   "metadata": {
    "id": "b222cb83-f1ec-49b9-93fe-26d4f26b35ed"
   },
   "outputs": [],
   "source": [
    "import numpy as np\n",
    "import cv2 as cv\n",
    "import matplotlib.pyplot as plt\n",
    "import matplotlib.cm as cm\n",
    "import morphoTreeAdjust as mta\n",
    "\n",
    "from PrettyPrint import PrettyPrintTree\n",
    "from colorama import Fore, Back\n",
    "\n",
    "printTree = PrettyPrintTree(\n",
    "    lambda node: node.children,\n",
    "    lambda node: (str(node.id) + \": \" +str(node.level) +\": \" +str(node.area)), color=Back.BLACK + Fore.WHITE,\n",
    "    start_message=lambda node: f'Each node is represented by <index>: <gray level>\\n'\n",
    ")\n",
    "\n",
    "def showLevelSets(img_f):\n",
    "    print(\"Upper and lower level sets where in black are foreground pixels and white are background pixels\")\n",
    "    t_values = np.unique(img_f)\n",
    "    len = np.size(t_values)\n",
    "    max_value = np.max(img_f)\n",
    "    fig, axes = plt.subplots(len, 2, figsize=(5, 15))\n",
    "    \n",
    "    # Preenchendo os subplots com imagens limiares\n",
    "    for i, t in enumerate(t_values):\n",
    "        # Primeira coluna: img_f >= t\n",
    "        thr = t_values[i]\n",
    "        img_threshold_ge = np.where(img_f >= thr, 1, 0)\n",
    "        axes[i, 0].imshow(img_threshold_ge, cmap='gray_r', vmax=1, vmin=0, interpolation='nearest')\n",
    "        axes[i, 0].set_title(f'image ≥ {t}')\n",
    "        axes[i, 0].axis('off')\n",
    "        axes[i, 0].add_patch(plt.Rectangle((0, 0), img_threshold_ge.shape[1] - 1, img_threshold_ge.shape[0] - 1, \n",
    "                                   edgecolor='red', linewidth=0.5, fill=False))\n",
    "        # Segunda coluna: img_f <= t\n",
    "        thr = t_values[len - i -1]\n",
    "        img_threshold_le = np.where(img_f <= thr, 1, 0)\n",
    "        axes[i, 1].imshow(img_threshold_le, cmap='gray_r',vmax=1, vmin=0, interpolation='nearest')\n",
    "        axes[i, 1].set_title(f'image ≤ {thr}')\n",
    "        axes[i, 1].axis('off')\n",
    "        axes[i, 1].add_patch(plt.Rectangle((0, 0), img_threshold_le.shape[1] - 1, img_threshold_le.shape[0] - 1, \n",
    "                                   edgecolor='blue', linewidth=0.5, fill=False))\n",
    "    \n",
    "    # Ajuste de layout para evitar sobreposição\n",
    "    plt.tight_layout()\n",
    "    plt.show()\n",
    "\n",
    "\n",
    "def computeCentroid(cnps):\n",
    "    closest_pixel = cnps[len(cnps)//2]\n",
    "    px, py = closest_pixel // num_cols, closest_pixel % num_cols\n",
    "    return px, py\n",
    "    \n",
    "def showTree(tree):\n",
    "    if(tree.isMaxtree):\n",
    "        print(\"Imagem and its max-tree representation. The indexes of max-tree nodes are shown as label in the imagem.\")\n",
    "    else:\n",
    "        print(\"Imagem and its min-tree representation. The indexes of min-tree nodes are shown as label in the imagem.\")\n",
    "    img_vector = tree.reconstructionImage()\n",
    "    ids_position = []\n",
    "    \n",
    "    for node in tree.root.postOrderTraversal():\n",
    "      px, py = computeCentroid(node.cnps)\n",
    "      ids_position.append( (node.id, px, py) )\n",
    "    \n",
    "    # Plota a imagem\n",
    "    plt.figure(figsize=(8, 6))\n",
    "    image = img_vector.reshape(tree.numRows, tree.numCols)\n",
    "    # Adicionando uma borda ao redor da imagem\n",
    "    ax = plt.gca()  # Obtém o eixo atual\n",
    "    ax.add_patch(plt.Rectangle((0, 0), image.shape[1] - 1, image.shape[0] - 1, \n",
    "                               edgecolor='red', linewidth=0.5, fill=False))\n",
    "\n",
    "    plt.imshow(image, cmap='gray')\n",
    "    \n",
    "    # Adiciona rótulos nos centróides fictícios\n",
    "    for i, (id, x, y) in enumerate(ids_position):\n",
    "        plt.text(y, x, f'•{id}', color='red', fontsize=9)\n",
    "\n",
    "    \n",
    "    plt.axis('off')\n",
    "    plt.show()\n",
    "    printTree(tree.root)\n",
    "\n",
    "def showNode(node):\n",
    "    image = node.recNode().reshape(num_rows, num_cols)\n",
    "    ax = plt.gca()  # Obtém o eixo atual\n",
    "    ax.imshow(image, cmap='gray_r')\n",
    "    ax.add_patch(plt.Rectangle((0, 0), image.shape[1] - 1, image.shape[0] - 1, \n",
    "                               edgecolor='red', linewidth=0.5, fill=False))\n",
    "    ax.set_title(f\"{node}\")\n",
    "    ax.axis(\"off\")\n",
    "\n",
    "def buildMapIds(tree):\n",
    "    mapIds = np.zeros(num_rows*num_cols) \n",
    "    for p in range(num_rows*num_cols):\n",
    "        mapIds[p] = tree.getSC(p).id\n",
    "    return mapIds\n",
    "\n",
    "\n",
    "import matplotlib.pyplot as plt\n",
    "import matplotlib.patches as patches\n",
    "import matplotlib.cm as cm\n",
    "\n",
    "def getNodeContour(tree, node):\n",
    "    adj = mta.AdjacencyRelation(num_rows, num_cols, 1.5)  # Relação de adjacência\n",
    "    contour = []\n",
    "\n",
    "    for idP in node.cnps:  # Percorre os pixels do nó\n",
    "        for idQ in adj.getAdjPixels(idP):  # Verifica seus vizinhos\n",
    "            sc_p = tree.getSC(idP)\n",
    "            sc_q = tree.getSC(idQ)\n",
    "\n",
    "            if sc_p and sc_q and sc_p.id != sc_q.id:  # Verifica se são nós diferentes\n",
    "                pixel_x = idQ // num_cols\n",
    "                pixel_y = idQ % num_cols\n",
    "                contour.append((pixel_y, pixel_x))  # (x=coluna, y=linha)\n",
    "\n",
    "    return contour\n",
    "\n",
    "\n",
    "\n",
    "def showNodesOfSubtree(tree, root):\n",
    "    image = tree.reconstructionImage().reshape(num_rows, num_cols)\n",
    "    adj = mta.AdjacencyRelation(num_rows, num_cols, 1.5)\n",
    "    fig, ax = plt.subplots()\n",
    "    ax.imshow(image, cmap='gray')\n",
    "\n",
    "    # Desenha a borda do retângulo em vermelho\n",
    "    ax.add_patch(patches.Rectangle((0, 0), image.shape[1] - 1, image.shape[0] - 1, \n",
    "                                   edgecolor='red', linewidth=0.5, fill=False))\n",
    "\n",
    "    colormap = plt.colormaps['Paired']  # Obtém a paleta de cores (versão compatível)\n",
    "    ids_position = []\n",
    "    map_adj = {}\n",
    "\n",
    "    for node in root.BFSTraversal():\n",
    "        contours_x = []\n",
    "        contours_y = []\n",
    "        color = colormap(node.id % 10)  # Seleciona cor baseada no ID do nó\n",
    "\n",
    "        # Obtém um ponto de referência do nó para exibir seu ID\n",
    "        (px, py) = computeCentroid(node.cnps)\n",
    "        ids_position.append((node.id, px, py, color))\n",
    "        \n",
    "        contour = getNodeContour(tree, node)\n",
    "        if contour:\n",
    "            contour_x, contour_y = zip(*contour) if contour else ([], [])\n",
    "            ax.scatter(contour_x, contour_y, color=color, s=0.5, label=f\"Node {node.id}\")\n",
    "        \n",
    "        for idP in node.cnps:\n",
    "            for idQ in adj.getAdjPixels(idP):\n",
    "                sc_p = tree.getSC(idP)\n",
    "                sc_q = tree.getSC(idQ)\n",
    "                if sc_p and sc_q and sc_p.id != sc_q.id:    \n",
    "                    if idQ not in map_adj:\n",
    "                        nodeQ = sc_q\n",
    "                        (qx, qy) = computeCentroid(nodeQ.cnps)\n",
    "                        map_adj[idQ] = (nodeQ.id, qx, qy)\n",
    "\n",
    "                       \n",
    "\n",
    "    \n",
    "    # Plota os IDs dos nós vizinhos (em vermelho)\n",
    "    for node_id, x, y in map_adj.values():\n",
    "        plt.text(y, x, f'{node_id}', color='red', fontsize=9)\n",
    "\n",
    "    # Plota os IDs dos nós no centro\n",
    "    for node_id, x, y, color in ids_position:\n",
    "        plt.text(y, x, f'{node_id}*', color=color, fontsize=9)\n",
    "\n",
    "    \n",
    "    ax.set_title(f\"Subárvore com raiz {root}\")\n",
    "    ax.axis(\"off\")  # Remove os eixos\n",
    "    plt.show()\n"
   ]
  },
  {
   "cell_type": "markdown",
   "id": "59473491-70e7-4708-ae01-986c7a200da0",
   "metadata": {
    "id": "59473491-70e7-4708-ae01-986c7a200da0"
   },
   "source": [
    "# 3. Creating the mintree and maxtree of an input image"
   ]
  },
  {
   "cell_type": "markdown",
   "id": "57017205-89e8-48f2-80ca-f0ab021103b0",
   "metadata": {},
   "source": [
    "- Image of the JMIV paper"
   ]
  },
  {
   "cell_type": "code",
   "execution_count": 7,
   "id": "TIKz5B0Hm5Ob",
   "metadata": {
    "colab": {
     "base_uri": "https://localhost:8080/",
     "height": 461
    },
    "id": "TIKz5B0Hm5Ob",
    "outputId": "0fbfd532-7608-4d48-9a54-91fd2122e081"
   },
   "outputs": [
    {
     "name": "stdout",
     "output_type": "stream",
     "text": [
      "Upper and lower level sets where in black are foreground pixels and white are background pixels\n"
     ]
    },
    {
     "data": {
      "image/png": "[encoded data removed]",
      "text/plain": [
       "<Figure size 500x1500 with 18 Axes>"
      ]
     },
     "metadata": {},
     "output_type": "display_data"
    },
    {
     "name": "stdout",
     "output_type": "stream",
     "text": [
      "\n",
      "\n",
      "\n",
      "Imagem and its min-tree representation. The indexes of min-tree nodes are shown as label in the imagem.\n"
     ]
    },
    {
     "data": {
      "image/png": "[encoded data removed]",
      "text/plain": [
       "<Figure size 800x600 with 1 Axes>"
      ]
     },
     "metadata": {},
     "output_type": "display_data"
    },
    {
     "name": "stdout",
     "output_type": "stream",
     "text": [
      "Each node is represented by <index>: <gray level>\n",
      "\n",
      "                                                                                                \u001b[40m\u001b[37m 0: 8: 6164 \u001b[0m\n",
      "                                                                                                     |\n",
      "                                                                                                \u001b[40m\u001b[37m 1: 7: 5998 \u001b[0m\n",
      "                                                                                                     |\n",
      "                                                                                                \u001b[40m\u001b[37m 2: 6: 5818 \u001b[0m\n",
      "                                                                                       ┌─────────────┴──────────────┐\n",
      "                                                                                  \u001b[40m\u001b[37m 3: 5: 4633 \u001b[0m                 \u001b[40m\u001b[37m 17: 0: 44 \u001b[0m\n",
      "                                                                      ┌────────────────┴────────────────┐                 \n",
      "                                                                 \u001b[40m\u001b[37m 4: 4: 4218 \u001b[0m                      \u001b[40m\u001b[37m 10: 1: 23 \u001b[0m            \n",
      "                                                  ┌───────────────────┴────────┬───────────┐                              \n",
      "                                             \u001b[40m\u001b[37m 5: 3: 3439 \u001b[0m                  \u001b[40m\u001b[37m 9: 1: 42 \u001b[0m \u001b[40m\u001b[37m 12: 1: 244 \u001b[0m                        \n",
      "                                 ┌────────────────┴─────────────────┐                                                     \n",
      "                            \u001b[40m\u001b[37m 6: 2: 2785 \u001b[0m                       \u001b[40m\u001b[37m 13: 1: 56 \u001b[0m                                                \n",
      "           ┌──────────────────┬──┴─────────┬───────────┐                                                                  \n",
      "      \u001b[40m\u001b[37m 7: 1: 1061 \u001b[0m       \u001b[40m\u001b[37m 8: 1: 892 \u001b[0m  \u001b[40m\u001b[37m 11: 1: 78 \u001b[0m \u001b[40m\u001b[37m 18: 0: 134 \u001b[0m                                                            \n",
      "     ┌─────┴──────┐           |                                                                                           \n",
      "\u001b[40m\u001b[37m 14: 0: 540 \u001b[0m \u001b[40m\u001b[37m 16: 0: 38 \u001b[0m \u001b[40m\u001b[37m 15: 0: 417 \u001b[0m\n",
      "\n",
      "\n",
      "\n",
      "Imagem and its max-tree representation. The indexes of max-tree nodes are shown as label in the imagem.\n"
     ]
    },
    {
     "data": {
      "image/png": "[encoded data removed]",
      "text/plain": [
       "<Figure size 800x600 with 1 Axes>"
      ]
     },
     "metadata": {},
     "output_type": "display_data"
    },
    {
     "name": "stdout",
     "output_type": "stream",
     "text": [
      "Each node is represented by <index>: <gray level>\n",
      "\n",
      "                                                                     \u001b[40m\u001b[37m 0: 0: 6164 \u001b[0m\n",
      "                            ┌─────────────────────────────────────────────┴──────────────────────────────────────────────┐\n",
      "                       \u001b[40m\u001b[37m 1: 1: 1353 \u001b[0m                                                                                 \u001b[40m\u001b[37m 2: 1: 3638 \u001b[0m                                \n",
      "                ┌───────────┴────────────┐                                               ┌───────────────────────────────┴─────────────┬──────────────────┐     \n",
      "           \u001b[40m\u001b[37m 6: 3: 464 \u001b[0m              \u001b[40m\u001b[37m 7: 4: 474 \u001b[0m                                     \u001b[40m\u001b[37m 3: 2: 2261 \u001b[0m                                  \u001b[40m\u001b[37m 4: 3: 311 \u001b[0m        \u001b[40m\u001b[37m 13: 5: 80 \u001b[0m\n",
      "    ┌───────────┼────────────┐           |                     ┌─────────────────────────┴─┬───────────┬────────────┐            ┌─────┴──────┐           |     \n",
      "\u001b[40m\u001b[37m 9: 4: 72 \u001b[0m \u001b[40m\u001b[37m 18: 6: 112 \u001b[0m \u001b[40m\u001b[37m 22: 7: 59 \u001b[0m \u001b[40m\u001b[37m 14: 6: 431 \u001b[0m          \u001b[40m\u001b[37m 5: 3: 595 \u001b[0m                 \u001b[40m\u001b[37m 8: 4: 378 \u001b[0m \u001b[40m\u001b[37m 10: 5: 295 \u001b[0m \u001b[40m\u001b[37m 16: 6: 373 \u001b[0m \u001b[40m\u001b[37m 11: 5: 146 \u001b[0m \u001b[40m\u001b[37m 20: 7: 53 \u001b[0m \u001b[40m\u001b[37m 19: 6: 36 \u001b[0m\n",
      "                                                      ┌────────┴─────────┐                             |                                                        \n",
      "                                                 \u001b[40m\u001b[37m 12: 5: 126 \u001b[0m       \u001b[40m\u001b[37m 17: 6: 204 \u001b[0m                  \u001b[40m\u001b[37m 15: 6: 123 \u001b[0m                                                  \n",
      "                                                      |            ┌─────┴─────┐                                                                                \n",
      "                                                 \u001b[40m\u001b[37m 23: 8: 96 \u001b[0m  \u001b[40m\u001b[37m 21: 7: 68 \u001b[0m \u001b[40m\u001b[37m 24: 8: 70 \u001b[0m\n"
     ]
    }
   ],
   "source": [
    "img_jmiv = np.array([\n",
    "    [6,6,6,6,6,6,6,6,6,6,6,6,6,6,6,6,6,6,6,1,1,1,1,1,1,1,0,0,0,0,0,0,0,0,1,1,1,1,1,1,6,6,6,6,6,6,6,6,6,6,5,5,5,5,2,2,2,2,2,2,2,1,1,1,1,1,1,1,1,1,1,1,1,1,1,0,0,0,0,0,0,0,0,7,7,7,7,7,7,7,7,7],\n",
    "    [6,6,6,6,6,6,6,6,6,6,6,6,6,6,6,6,6,6,6,1,1,1,1,1,1,1,0,0,0,0,0,0,0,0,1,1,1,1,1,1,6,6,6,6,6,6,6,6,6,6,5,5,5,5,2,2,2,2,2,2,2,1,1,1,1,1,1,1,1,1,1,1,1,1,1,0,0,0,0,0,0,0,0,7,7,7,7,7,7,7,7,7],\n",
    "    [6,6,6,6,6,6,6,6,6,6,6,6,6,6,6,6,6,6,6,1,1,1,1,1,1,1,0,0,0,0,0,0,0,0,1,1,1,1,1,1,6,6,6,6,6,6,6,6,6,6,5,5,5,5,2,2,2,2,2,2,2,1,1,1,1,1,1,1,1,1,1,1,1,1,1,0,0,0,0,0,0,0,0,7,7,7,7,7,7,7,7,7],\n",
    "    [6,6,6,6,6,6,6,6,6,6,6,6,6,6,6,6,6,6,6,1,1,1,1,1,1,1,0,0,0,0,0,0,0,1,1,1,1,1,1,1,6,6,6,6,6,6,6,6,6,6,5,5,5,5,2,2,2,2,2,2,2,1,1,1,1,1,1,1,1,1,1,1,1,1,1,0,0,0,0,0,0,0,0,7,7,7,7,7,7,7,7,7],\n",
    "    [6,6,6,6,6,6,6,6,6,6,6,6,6,6,6,6,6,6,6,1,1,1,1,1,1,1,0,0,0,0,0,0,0,1,1,1,1,1,1,1,6,6,6,6,6,6,6,6,6,6,5,5,5,5,2,2,2,2,2,2,2,1,1,1,1,1,1,1,1,1,1,1,1,1,1,0,0,0,0,0,0,0,0,7,7,7,7,7,7,7,7,7],\n",
    "    [6,6,6,6,6,6,6,6,6,6,6,6,6,6,6,6,6,6,6,1,1,1,1,1,1,1,0,0,0,0,0,0,0,1,1,1,1,1,1,1,6,6,6,6,6,6,6,6,6,6,5,5,5,5,2,2,2,2,2,2,2,1,1,1,1,1,1,1,1,1,1,1,1,1,1,0,0,0,0,0,0,0,0,3,3,3,7,7,7,7,7,7],\n",
    "    [6,6,6,6,6,6,6,6,6,6,6,6,6,6,6,6,6,6,6,1,1,1,1,1,1,1,0,0,0,0,0,0,0,1,1,1,1,1,1,6,6,6,6,6,6,6,6,6,6,6,5,5,5,5,2,2,2,2,2,2,2,2,2,1,1,1,1,1,1,1,1,1,1,1,1,0,0,0,0,0,0,0,0,3,3,3,3,3,3,3,7,7],\n",
    "    [6,6,6,6,6,6,6,6,6,6,6,6,6,6,6,6,6,6,6,1,1,1,1,1,1,1,0,0,0,0,0,0,0,1,1,1,1,1,1,6,6,6,6,6,6,6,6,6,6,6,5,5,5,5,2,2,2,2,2,2,2,2,2,1,1,1,1,1,1,1,1,1,1,1,1,0,0,0,0,0,0,0,0,3,3,3,3,3,3,3,3,3],\n",
    "    [6,6,6,6,6,6,6,1,1,1,1,1,1,6,6,6,6,6,6,1,1,1,1,1,1,1,0,0,0,0,0,0,0,1,1,1,1,1,1,6,6,6,6,6,6,6,6,6,6,5,5,5,5,5,2,2,2,2,2,2,2,2,2,1,1,1,1,1,1,1,1,1,1,1,1,0,0,0,0,0,0,0,0,3,3,3,3,3,3,3,3,3],\n",
    "    [6,6,6,6,6,6,6,1,1,1,1,1,1,1,6,6,6,6,6,1,1,1,1,1,1,1,0,0,0,0,0,0,0,1,1,1,1,1,1,6,6,6,6,6,6,6,6,6,6,5,5,5,5,5,2,2,2,2,2,2,2,2,2,2,1,1,1,1,1,1,1,1,1,1,1,0,0,0,0,0,0,0,0,3,3,3,3,3,3,3,3,3],\n",
    "    [6,6,6,6,6,6,6,1,1,1,1,1,1,1,6,6,6,6,6,1,1,1,1,1,1,1,0,0,0,0,0,0,0,1,1,1,1,1,1,6,6,6,6,6,6,6,6,6,6,5,5,5,5,5,2,2,2,2,2,2,2,2,2,2,1,1,1,1,1,1,1,1,1,1,1,0,0,0,0,0,0,0,0,3,3,3,3,3,3,3,3,3],\n",
    "    [6,6,6,6,6,6,6,1,1,1,1,1,1,1,6,6,6,6,6,1,1,1,1,1,1,1,0,0,0,0,0,0,0,1,1,1,1,1,1,6,6,6,6,6,6,6,6,6,6,5,5,5,5,5,2,2,2,2,2,2,2,2,2,2,1,1,1,1,1,1,1,1,1,1,1,0,0,0,0,0,0,0,0,3,3,3,3,3,3,3,3,3],\n",
    "    [6,6,6,6,6,6,6,1,1,1,1,1,1,1,6,6,6,6,6,1,1,1,1,1,1,0,0,0,0,0,0,0,0,1,1,1,1,1,1,5,5,5,5,6,1,1,1,1,1,5,5,5,5,5,2,2,2,2,2,2,2,2,2,2,1,1,1,1,1,1,1,1,1,1,1,0,0,0,0,0,0,0,0,3,3,3,3,3,3,3,3,3],\n",
    "    [6,6,6,6,6,6,6,1,1,1,1,1,1,1,6,6,6,6,6,1,1,1,1,1,1,0,0,0,0,0,0,0,0,1,1,1,1,1,1,5,5,5,5,5,1,1,1,1,1,5,5,5,5,5,2,2,2,2,2,2,2,2,2,2,1,1,1,1,1,1,1,1,1,1,1,0,0,0,0,0,0,0,0,3,3,3,3,3,3,3,3,3],\n",
    "    [6,6,6,6,6,6,6,1,4,4,4,4,4,6,6,6,6,6,6,0,0,0,0,0,0,0,0,0,0,0,0,0,0,1,1,1,1,1,1,5,5,5,5,5,1,1,1,1,1,5,5,5,5,5,2,2,2,2,2,2,2,2,2,2,1,1,1,1,1,1,1,1,1,1,1,0,0,0,0,0,0,0,0,3,3,3,3,3,3,3,3,3],\n",
    "    [6,6,6,6,6,6,6,4,4,4,4,4,4,6,6,6,6,6,6,0,0,0,0,0,0,0,0,0,0,0,0,0,0,1,1,1,1,1,1,5,5,5,5,5,1,1,1,1,1,5,5,5,5,5,2,2,2,2,2,2,2,2,2,2,1,1,1,1,1,1,1,1,1,1,1,0,0,0,0,0,0,0,0,3,3,3,3,3,3,3,3,3],\n",
    "    [6,6,6,6,6,6,6,4,4,4,4,4,4,6,6,6,6,6,6,0,0,0,0,0,0,0,0,0,0,0,0,0,0,1,1,1,1,1,1,5,5,5,5,5,5,1,1,1,5,5,5,5,5,5,5,2,2,2,2,2,2,2,2,2,1,1,1,1,1,1,1,1,1,1,1,0,0,0,0,0,0,0,0,3,3,3,3,3,3,3,3,3],\n",
    "    [6,6,6,6,6,6,6,4,4,4,4,4,4,4,0,0,0,0,0,0,0,0,0,0,0,0,0,0,0,0,0,0,0,1,1,1,1,1,1,5,5,5,5,5,5,5,5,5,5,5,5,5,5,5,1,1,1,1,1,1,2,2,2,2,1,1,1,1,1,1,1,1,1,1,1,0,0,0,0,0,0,0,0,5,5,5,3,3,3,3,3,3],\n",
    "    [6,6,6,6,6,6,6,4,4,4,4,4,4,4,0,0,0,0,0,0,0,0,0,6,6,6,6,6,6,0,0,0,0,1,1,1,1,1,1,5,5,5,5,5,5,5,5,5,5,5,5,5,5,1,1,1,1,1,1,1,1,2,2,2,1,1,1,1,1,1,1,1,1,1,1,0,0,0,0,0,0,0,0,5,5,5,5,5,3,3,3,3],\n",
    "    [6,6,6,6,6,6,6,4,4,4,4,4,4,4,0,0,0,0,0,0,0,0,6,6,6,6,6,6,6,6,6,0,0,1,1,1,1,1,1,5,5,5,5,5,5,5,5,5,5,5,5,5,1,1,1,1,1,1,1,1,1,3,3,3,1,1,1,1,1,1,1,1,1,1,1,0,0,0,0,0,0,0,0,5,5,5,5,5,5,5,3,3],\n",
    "    [6,6,6,6,6,6,6,4,4,4,4,4,1,0,0,0,0,0,0,0,0,6,6,6,6,6,6,6,6,6,6,6,6,6,1,1,1,1,0,0,0,5,5,5,5,5,5,5,5,5,1,1,1,1,1,1,1,1,1,1,1,3,3,3,1,1,1,1,1,1,1,1,1,1,1,0,0,0,0,0,0,0,0,5,5,5,5,5,5,5,5,5],\n",
    "    [6,6,6,6,6,6,6,1,1,1,1,1,1,0,0,0,0,0,0,0,6,6,6,6,6,6,6,6,6,6,6,6,6,6,6,6,1,1,0,0,0,0,0,0,5,5,5,5,5,1,1,1,1,1,1,1,1,1,1,1,3,3,3,3,1,1,1,1,1,1,1,1,1,1,1,0,0,0,0,0,0,0,0,5,5,5,5,5,5,5,5,5],\n",
    "    [6,6,6,6,6,6,6,1,1,1,1,1,1,0,0,0,0,0,0,6,6,6,6,6,6,6,6,6,6,6,6,6,6,6,6,6,6,1,0,0,0,0,0,0,0,5,5,5,5,1,1,1,1,1,1,1,1,1,1,3,3,3,3,3,1,1,1,1,1,1,1,1,1,1,1,0,0,0,0,0,0,0,5,5,5,5,5,5,5,5,5,5],\n",
    "    [6,6,6,6,6,6,6,1,1,1,1,1,1,0,0,0,0,0,0,6,6,6,6,6,6,6,6,6,6,6,6,6,6,6,6,6,6,6,0,0,0,0,0,0,0,5,5,5,5,1,1,1,1,1,1,1,1,1,1,3,3,3,3,3,1,1,1,1,1,1,1,1,1,1,1,0,0,0,0,0,0,0,5,5,5,5,5,5,5,5,5,5],\n",
    "    [6,6,6,6,6,6,6,1,1,1,1,1,1,0,0,0,0,0,0,6,6,6,6,6,6,6,6,6,6,6,6,6,6,6,6,6,6,6,0,0,0,0,0,0,0,5,5,5,5,1,1,1,1,1,1,1,5,5,5,5,3,3,3,1,1,1,1,1,1,1,1,1,1,1,1,0,0,0,0,0,0,0,5,5,5,5,5,5,5,5,5,5],\n",
    "    [6,6,6,6,6,6,6,1,1,1,1,1,1,0,0,0,0,0,6,6,6,6,6,6,6,6,6,6,6,6,6,6,6,6,6,6,6,6,6,0,0,0,0,0,2,2,2,2,2,2,1,1,1,1,5,5,5,5,5,5,5,3,3,1,1,1,1,1,1,1,1,1,1,1,0,0,0,0,0,0,0,0,5,5,5,5,5,5,5,5,5,5],\n",
    "    [6,6,6,6,6,6,6,1,1,1,1,1,0,0,0,0,0,6,6,6,6,6,6,6,6,6,6,6,6,6,6,6,6,6,6,6,6,6,6,0,0,0,2,2,2,2,2,2,2,2,2,1,1,5,5,5,5,5,5,5,5,3,3,1,1,1,1,1,1,1,1,1,1,1,0,0,0,0,0,0,0,0,5,5,5,5,5,5,5,5,5,5],\n",
    "    [6,6,6,6,6,6,6,1,1,1,1,1,0,0,0,0,0,6,6,6,6,6,6,6,6,6,6,6,6,6,6,6,6,6,6,6,6,6,6,2,2,2,2,2,2,2,2,2,2,2,2,2,2,5,5,5,5,5,5,8,8,8,8,1,1,1,1,1,1,1,1,1,1,0,0,0,0,0,0,0,0,0,5,5,5,5,5,5,5,5,5,5],\n",
    "    [6,6,6,6,6,6,6,1,1,1,1,1,0,0,0,0,0,6,6,6,6,6,6,6,6,6,6,6,6,0,0,0,0,6,6,6,6,6,2,2,2,2,2,2,2,2,2,2,2,2,2,2,2,5,5,5,5,8,8,8,8,8,8,8,1,1,1,1,1,1,1,1,0,0,0,0,0,0,0,0,0,0,5,5,5,5,5,5,5,5,5,5],\n",
    "    [6,6,6,6,6,6,6,1,1,1,1,1,0,0,0,0,0,6,6,6,6,6,6,6,6,6,0,0,0,0,0,0,0,6,6,6,6,6,2,2,2,2,2,2,2,2,2,2,2,2,2,2,2,2,5,8,8,8,8,8,8,8,8,8,1,1,1,1,1,1,1,1,0,0,0,0,0,0,0,0,0,0,5,5,5,5,5,5,5,5,5,5],\n",
    "    [6,6,6,6,6,6,6,1,1,1,1,1,0,0,0,0,0,6,6,6,6,6,6,6,0,0,0,0,0,0,0,0,0,6,6,6,6,6,2,2,2,2,2,2,2,2,2,2,2,2,2,2,2,2,8,8,8,8,8,8,8,8,8,8,1,1,1,1,1,1,1,0,0,0,0,0,0,0,0,0,0,0,5,5,5,5,5,5,5,5,5,5],\n",
    "    [6,6,6,6,6,6,6,1,1,1,1,1,0,0,0,0,0,6,6,6,6,6,6,6,0,0,0,0,0,0,0,0,6,6,6,6,6,6,2,2,2,2,2,2,2,2,2,2,2,2,2,2,2,2,8,8,8,8,8,8,8,8,8,8,1,1,1,1,1,1,0,0,0,0,0,0,0,0,0,0,0,1,1,1,5,5,5,5,5,5,5,5],\n",
    "    [6,6,6,6,6,6,6,1,1,1,1,1,0,0,0,0,0,6,6,6,6,6,6,0,0,0,0,0,0,0,6,6,6,6,6,6,6,6,2,2,2,2,2,2,2,2,2,2,2,2,2,2,2,2,8,8,8,8,8,8,8,8,8,8,1,1,1,1,1,0,0,0,0,0,0,0,0,0,0,0,1,1,1,1,1,5,5,5,5,5,5,5],\n",
    "    [6,6,6,6,6,6,6,1,1,1,1,1,0,0,0,0,0,6,6,6,6,6,6,0,0,0,0,0,0,6,6,6,6,6,6,6,6,6,2,2,2,2,2,2,2,2,2,2,2,2,2,2,2,2,8,8,8,8,8,8,8,8,8,8,1,1,1,1,0,0,0,0,0,0,0,0,0,0,0,1,1,1,1,1,1,1,1,1,5,5,5,5],\n",
    "    [6,6,6,6,6,6,6,1,1,1,1,1,0,0,0,0,0,6,6,6,6,6,6,6,6,0,0,0,6,6,6,6,6,6,6,6,6,6,2,2,2,2,2,2,2,2,2,2,2,2,2,2,2,2,8,8,8,8,8,8,8,8,8,8,1,1,1,0,0,0,0,0,0,0,0,0,0,0,0,1,1,1,1,1,1,1,1,1,1,5,5,5],\n",
    "    [6,6,6,6,6,6,6,1,1,1,1,1,0,0,0,0,0,6,6,6,6,6,6,6,6,6,6,6,6,6,6,6,6,6,6,6,6,6,1,2,2,2,2,2,2,2,2,2,2,2,2,2,2,2,8,8,8,8,8,8,8,8,8,8,8,0,0,0,0,0,0,0,0,0,0,0,0,0,1,1,1,1,1,1,1,1,1,1,1,1,1,5],\n",
    "    [6,6,6,6,6,6,6,1,1,1,1,0,0,0,0,0,0,6,6,6,6,6,6,6,6,6,6,6,6,6,6,6,6,6,6,6,6,1,1,2,2,2,2,2,2,2,2,2,2,2,2,2,2,2,3,3,8,8,8,8,8,8,8,8,0,0,0,0,0,0,0,0,0,0,0,0,0,0,1,1,1,1,1,1,1,1,1,1,1,1,1,1],\n",
    "    [6,6,6,6,6,6,6,1,1,1,1,0,0,0,0,0,0,0,6,6,6,6,6,6,6,6,6,6,6,6,6,6,6,6,6,6,1,1,1,1,2,2,2,2,2,2,2,2,2,2,2,2,2,2,3,3,3,3,3,8,8,8,8,0,0,0,0,0,0,0,0,0,0,0,0,0,0,4,4,4,1,1,1,1,1,1,1,1,1,1,1,1],\n",
    "    [6,6,6,6,6,6,6,1,1,1,1,1,0,0,0,0,0,0,6,6,6,6,6,6,6,6,6,6,6,6,6,6,6,6,6,1,1,1,1,1,2,2,2,2,2,2,2,2,2,2,2,2,2,3,3,3,3,3,3,8,8,8,0,0,0,0,0,0,0,0,0,0,0,0,0,0,4,4,4,4,4,1,1,1,1,1,1,1,1,1,1,1],\n",
    "    [6,6,6,6,6,6,6,1,1,1,1,1,0,0,0,0,0,0,0,6,6,6,6,6,6,6,6,6,6,6,6,6,6,6,1,1,1,1,1,1,2,2,2,2,2,2,2,2,2,2,2,2,8,3,3,3,3,3,3,3,3,0,0,0,0,0,0,0,0,0,0,0,0,0,0,4,4,4,4,4,4,4,4,1,1,1,1,1,1,1,1,1],\n",
    "    [6,6,6,6,6,6,1,1,1,1,1,1,0,0,0,0,0,0,0,0,0,0,6,6,6,6,6,6,6,6,6,6,1,1,1,1,1,1,1,1,7,7,7,2,2,2,2,2,2,2,8,8,8,8,3,3,3,3,3,3,3,0,0,0,0,0,0,0,0,0,0,0,0,4,4,4,4,4,4,4,4,4,4,4,4,1,1,1,1,1,1,1],\n",
    "    [1,1,1,1,1,1,1,1,1,1,1,1,0,0,0,0,0,0,0,0,0,0,0,0,0,6,6,6,6,0,0,0,0,1,1,1,1,1,1,1,7,7,7,7,7,3,3,3,3,8,8,8,8,8,8,3,3,3,3,3,0,0,0,0,0,0,0,0,0,0,0,0,4,4,4,4,4,4,4,4,4,4,4,4,4,4,1,1,1,1,1,1],\n",
    "    [1,1,1,1,1,1,1,1,1,1,1,1,1,0,0,0,0,0,0,0,0,0,0,0,0,0,0,0,0,0,0,0,0,1,1,1,7,7,7,7,7,7,7,7,3,3,3,3,3,3,8,8,8,8,8,8,8,3,3,3,0,0,0,0,0,0,0,0,0,0,4,4,4,4,4,4,4,4,4,4,4,4,4,4,4,4,4,4,1,1,1,1],\n",
    "    [1,1,1,1,1,1,1,1,1,1,1,1,1,1,0,3,0,0,0,0,0,0,0,0,0,0,0,0,0,0,0,0,0,0,7,7,7,7,7,7,7,7,7,3,3,3,3,3,3,3,8,8,8,8,8,8,8,8,8,8,0,0,0,0,0,0,0,0,4,4,4,4,4,4,4,4,4,4,1,1,1,1,4,4,4,4,4,4,4,4,1,1],\n",
    "    [1,1,1,1,1,1,1,1,1,1,1,1,1,1,3,3,3,3,3,0,0,0,0,0,0,0,0,0,0,0,0,0,0,0,7,7,7,7,7,7,7,7,7,3,3,3,3,3,3,3,8,8,8,8,8,8,8,8,8,8,8,0,0,0,0,0,4,4,4,4,4,4,4,4,4,4,1,1,1,1,1,1,1,1,4,4,4,4,4,4,4,4],\n",
    "    [1,1,1,1,1,1,1,1,1,1,1,1,1,3,3,3,3,3,3,3,3,0,0,0,0,0,0,0,0,0,0,0,0,0,7,7,7,7,7,7,6,6,6,3,3,3,3,3,3,3,6,8,8,8,8,8,8,8,8,8,8,8,0,0,0,4,4,4,4,4,4,4,4,4,1,1,1,1,1,1,1,1,1,1,1,4,4,4,4,4,4,4],\n",
    "    [1,1,1,1,1,1,1,1,1,1,1,1,1,3,3,3,3,3,3,3,3,3,0,0,0,0,0,0,0,0,0,0,0,0,7,7,7,7,7,6,6,6,6,3,3,3,3,3,3,3,6,8,8,8,8,8,8,8,8,2,2,2,2,2,2,4,4,4,4,4,4,4,4,1,1,1,1,1,1,1,1,1,1,1,1,4,4,4,4,4,4,4],\n",
    "    [1,1,1,1,1,1,6,6,6,1,3,3,3,3,3,3,3,3,3,3,3,3,3,0,0,0,0,0,0,0,0,0,0,0,7,7,7,7,6,6,6,6,6,6,3,3,3,3,3,6,6,6,6,8,8,8,8,8,8,2,2,2,2,2,2,4,4,4,4,4,4,4,1,1,1,1,1,1,1,1,1,1,1,1,1,1,4,4,4,4,4,4],\n",
    "    [6,6,6,6,6,6,6,6,6,6,3,3,3,3,4,4,4,3,3,3,3,3,3,7,7,0,0,0,0,0,0,0,0,0,7,7,7,7,6,6,6,6,6,6,6,6,3,3,6,6,6,6,6,6,0,8,8,8,8,2,2,2,2,2,2,4,4,4,4,4,4,1,1,1,1,6,6,6,6,6,6,1,1,1,1,1,4,4,4,4,4,4],\n",
    "    [6,6,6,6,6,6,6,6,6,6,3,3,3,4,4,4,4,4,3,3,3,3,3,7,7,7,7,0,0,0,0,0,0,0,7,7,7,7,6,6,6,6,6,6,6,6,6,6,6,6,6,6,0,0,0,0,0,8,8,2,2,2,2,2,2,4,4,4,4,4,4,1,1,1,1,6,6,6,6,6,6,1,1,1,1,1,4,4,4,4,4,4],\n",
    "    [6,6,6,6,6,6,6,6,6,3,3,3,3,4,4,4,4,4,4,3,3,3,3,7,7,7,7,0,0,0,0,0,0,0,7,7,7,7,6,6,6,6,6,6,6,6,6,6,6,6,6,0,0,0,0,0,0,0,0,2,2,2,2,2,2,4,4,4,4,4,4,1,1,1,1,6,6,6,6,6,6,1,1,1,1,1,4,4,4,4,4,4],\n",
    "    [6,6,6,6,6,6,6,6,6,3,3,3,3,4,4,4,4,4,4,3,3,3,3,7,7,7,7,0,0,0,0,0,0,0,7,7,7,7,3,3,3,3,3,6,6,6,6,6,6,0,0,0,0,0,0,0,0,0,0,2,2,2,2,2,2,4,4,4,4,4,4,1,1,1,1,6,6,6,6,6,6,1,1,1,1,1,4,4,4,4,4,4],\n",
    "    [6,6,6,6,6,6,6,6,6,3,3,3,3,4,4,4,4,4,4,3,3,3,7,7,7,7,7,0,0,0,0,0,0,0,7,7,7,3,3,3,3,3,3,3,3,3,3,3,0,0,0,0,0,0,0,0,0,0,0,2,2,2,2,2,2,4,4,4,4,4,4,1,1,1,1,6,6,6,6,6,6,1,1,1,1,1,4,4,4,4,4,4],\n",
    "    [6,6,6,6,6,6,6,6,6,3,3,3,3,4,4,4,4,4,4,3,3,3,7,7,7,7,7,0,0,0,0,0,0,0,2,2,2,3,3,3,3,3,3,3,3,3,3,3,0,0,0,0,0,0,0,0,0,0,0,2,2,2,2,2,2,4,4,4,4,4,4,1,1,1,1,6,6,6,6,6,6,1,1,1,1,4,4,4,4,4,4,4],\n",
    "    [6,6,6,6,6,6,6,6,6,3,3,3,3,4,4,4,4,4,4,3,3,3,7,7,7,7,7,0,0,0,0,0,0,2,2,2,2,2,3,3,3,3,3,3,3,3,3,3,0,0,0,0,0,0,0,0,2,2,2,2,2,2,2,2,2,4,4,4,4,4,4,1,1,1,1,5,5,5,5,5,5,1,1,1,1,4,4,4,4,4,4,4],\n",
    "    [6,6,6,6,6,6,6,6,6,3,3,3,3,4,4,4,4,4,4,3,3,3,7,7,7,7,7,0,0,0,0,0,0,2,2,2,2,2,3,3,3,3,3,3,3,3,3,3,0,0,0,0,0,0,0,2,2,2,2,2,2,2,2,2,2,4,4,4,4,4,4,1,1,1,1,5,5,5,5,5,5,1,1,1,1,4,4,4,4,4,4,4],\n",
    "    [6,6,6,6,6,6,6,6,6,3,3,3,3,4,4,4,4,4,4,3,3,3,7,7,7,7,7,0,0,0,0,0,0,2,2,2,2,2,3,3,3,3,3,3,3,3,3,3,0,0,0,0,0,0,0,2,2,2,2,2,2,2,2,2,2,4,4,4,4,4,4,1,1,1,1,5,5,5,5,5,5,1,1,1,1,4,4,4,4,4,4,4],\n",
    "    [6,6,6,6,6,6,6,6,6,3,3,3,3,4,4,4,4,4,4,3,3,3,7,7,7,7,7,0,0,0,0,0,0,2,2,2,2,2,3,3,3,3,3,3,3,3,3,3,0,0,0,0,0,0,0,2,2,2,2,2,2,2,2,2,2,4,4,4,4,4,4,1,1,1,1,5,5,5,5,5,5,1,1,1,1,4,4,4,4,4,4,4],\n",
    "    [6,6,6,6,6,6,6,6,6,3,3,3,3,4,4,4,4,4,4,3,3,3,7,7,7,7,7,0,0,0,0,0,0,2,2,2,2,2,3,3,3,3,3,3,3,3,3,3,0,0,0,0,0,0,0,2,2,2,2,2,2,2,2,2,2,4,4,4,4,4,4,1,1,1,5,5,5,5,5,5,5,1,1,1,1,4,4,4,4,4,4,4],\n",
    "    [6,6,6,6,6,6,6,6,3,3,3,3,3,4,4,4,4,4,4,3,3,3,7,7,7,7,7,0,0,0,0,0,0,2,2,2,2,2,3,3,3,3,3,3,3,3,3,3,0,0,0,0,0,0,0,2,2,2,2,2,2,2,2,2,2,4,4,4,4,4,4,1,1,1,5,5,5,5,5,5,5,1,1,1,1,4,4,4,4,4,4,4],\n",
    "    [1,1,1,1,1,1,1,1,3,3,3,3,3,3,4,4,4,4,3,3,3,3,7,7,7,7,7,0,0,0,0,0,0,2,2,2,2,2,3,3,3,3,3,3,3,3,3,3,0,0,0,0,0,0,0,2,2,2,2,2,2,2,2,2,2,4,4,4,4,4,4,1,1,1,1,5,5,5,5,5,5,1,1,1,1,4,4,4,4,4,4,4],\n",
    "    [1,1,1,1,1,1,1,1,3,3,3,3,3,3,3,3,3,3,3,3,3,3,1,1,1,1,1,0,0,0,0,0,0,2,2,2,2,2,3,3,3,3,3,3,3,3,3,3,0,0,0,0,0,0,0,2,2,2,2,2,2,2,2,2,2,4,4,4,4,4,4,1,1,1,1,1,1,1,1,1,1,1,1,1,1,4,4,4,4,4,4,4],\n",
    "    [1,1,1,1,1,1,1,1,3,3,3,3,3,3,3,3,3,3,3,3,3,3,1,1,1,1,1,0,0,0,0,0,0,2,2,2,2,2,3,3,3,3,3,3,3,3,3,3,0,0,0,0,0,0,0,2,2,2,2,2,2,2,2,2,2,4,4,4,4,4,4,1,1,1,1,1,1,1,1,1,1,1,1,1,1,4,4,4,4,4,4,4],\n",
    "    [1,1,1,1,1,1,1,1,3,3,3,3,3,3,3,3,3,3,3,3,3,3,1,1,1,1,1,0,0,0,0,0,0,2,2,2,2,2,3,3,3,3,3,3,3,3,3,3,0,0,0,0,0,0,2,2,2,2,2,2,2,2,2,2,2,4,4,4,4,4,1,1,1,1,1,1,1,1,1,1,1,1,1,1,1,4,4,4,4,4,4,4],\n",
    "    [1,1,1,1,1,1,1,1,3,3,3,3,3,3,3,3,3,3,3,3,3,3,1,1,1,1,1,0,0,0,0,0,0,2,2,2,2,2,3,3,3,3,3,3,3,3,3,3,0,0,0,0,0,0,2,2,2,2,2,2,2,2,2,2,2,4,4,4,4,4,1,1,1,1,1,1,1,1,1,1,1,1,1,1,1,4,4,4,4,4,4,4],\n",
    "    [1,1,1,1,1,1,1,1,3,3,3,3,3,3,3,3,3,3,3,3,3,3,1,1,1,1,1,0,0,0,0,0,0,2,2,2,2,2,3,3,3,3,3,3,3,3,3,3,0,0,0,0,0,0,2,2,2,2,2,2,2,2,2,2,2,4,4,4,4,4,1,1,1,1,1,1,1,1,1,1,1,1,1,1,1,4,4,4,4,4,4,4],\n",
    "    [1,1,1,1,1,1,1,1,3,3,3,3,3,3,3,3,3,3,3,3,3,3,1,1,1,1,1,0,0,0,0,0,0,2,2,2,2,2,3,3,3,3,3,3,3,3,3,3,0,0,0,0,0,0,2,2,2,2,2,2,2,2,2,2,2,4,4,4,4,4,1,1,1,1,1,1,1,1,1,1,1,1,1,1,1,4,4,4,4,4,4,4],\n",
    "])\n",
    "\n",
    "\n",
    "num_rows, num_cols = img_jmiv.shape\n",
    "img_jmiv_vector = img_jmiv.ravel()\n",
    "\n",
    "maxtree = mta.ComponentTree(img_jmiv_vector, num_rows, num_cols, True, 1.5)\n",
    "mintree = mta.ComponentTree(img_jmiv_vector, num_rows, num_cols, False, 1.5)\n",
    "\n",
    "showLevelSets(img_jmiv)\n",
    "print(\"\\n\\n\")\n",
    "showTree(mintree)\n",
    "print(\"\\n\\n\")\n",
    "showTree(maxtree)\n"
   ]
  },
  {
   "cell_type": "markdown",
   "id": "583bf237-aa9e-4b49-80e5-7d1ab90b46e2",
   "metadata": {
    "id": "583bf237-aa9e-4b49-80e5-7d1ab90b46e2"
   },
   "source": [
    "# 4. Pruning a leaf of the max-tree and adjusting the min-tree"
   ]
  },
  {
   "cell_type": "markdown",
   "id": "642a153d-4353-4642-8b72-0822c0aa5027",
   "metadata": {},
   "source": [
    "### 4.1 Selecting the leaf"
   ]
  },
  {
   "cell_type": "code",
   "execution_count": 12,
   "id": "fc3e410f-859f-4cb8-b919-02cd6068c793",
   "metadata": {
    "colab": {
     "base_uri": "https://localhost:8080/",
     "height": 461
    },
    "id": "fc3e410f-859f-4cb8-b919-02cd6068c793",
    "outputId": "fbe44374-0d0e-46af-84b3-7a7fac2d4fb4"
   },
   "outputs": [
    {
     "name": "stdout",
     "output_type": "stream",
     "text": [
      "List of leaves of the min-tree:\n",
      "\t [NodeCT(id=17, level=0), NodeCT(id=10, level=1), NodeCT(id=12, level=1), NodeCT(id=9, level=1), NodeCT(id=13, level=1), NodeCT(id=18, level=0), NodeCT(id=11, level=1), NodeCT(id=15, level=0), NodeCT(id=16, level=0), NodeCT(id=14, level=0)] \n",
      "\n"
     ]
    },
    {
     "data": {
      "image/png": "[encoded data removed]",
      "text/plain": [
       "<Figure size 640x480 with 1 Axes>"
      ]
     },
     "metadata": {},
     "output_type": "display_data"
    }
   ],
   "source": [
    "leaves_mintree = mintree.leaves()\n",
    "print(\"List of leaves of the min-tree:\\n\\t\", leaves_mintree, \"\\n\")\n",
    "\n",
    "L = leaves_mintree[3]\n",
    "showNode(L)"
   ]
  },
  {
   "cell_type": "code",
   "execution_count": 14,
   "id": "5ea99392-564e-4973-8df7-fcc0ddb4ad68",
   "metadata": {},
   "outputs": [
    {
     "name": "stdout",
     "output_type": "stream",
     "text": [
      "f(p) = a =  1\n",
      "g(p) = b =  4\n",
      "F_λ: {1: [NodeCT(id=1, level=1)], 4: [NodeCT(id=7, level=4)]}\n",
      "F_λ>b: []\n"
     ]
    }
   ],
   "source": [
    "adjust = mta.ComponentTreeAdjustment(mintree, maxtree)\n",
    "\n",
    "flatZone = L.cnps\n",
    "oldGrayLevel = L.level\n",
    "newGrayLevel = L.parent.level\n",
    "type_treeBeUpdated = True #False=mintree and True=maxtree\n",
    "\n",
    "(mapF, F_λb) = adjust.buildCollections(maxtree, flatZone, newGrayLevel, type_treeBeUpdated)\n",
    "\n",
    "print(\"f(p) = a = \", oldGrayLevel)\n",
    "print(\"g(p) = b = \", newGrayLevel)\n",
    "print(\"F_λ:\", mapF)\n",
    "print(\"F_λ>b:\", F_λb)"
   ]
  },
  {
   "cell_type": "code",
   "execution_count": 17,
   "id": "e2c1b954-91eb-4f9b-9045-e0484d79f966",
   "metadata": {},
   "outputs": [
    {
     "name": "stdout",
     "output_type": "stream",
     "text": [
      "The reconstruction images are equals? True\n"
     ]
    }
   ],
   "source": [
    "adjust = mta.ComponentTreeAdjustment(mintree, maxtree)\n",
    "\n",
    "adjust.updateTree(maxtree, L)\n",
    "\n",
    "#after, pruning the maxtree\n",
    "mintree.prunning(L)\n",
    "del L\n",
    "\n",
    "#reconstructed images of both trees\n",
    "img_g_vector_maxtree = maxtree.reconstructionImage()\n",
    "img_g_vector_mintree = mintree.reconstructionImage()\n",
    "\n",
    "print(\"The reconstruction images are equals?\", (img_g_vector_maxtree == img_g_vector_mintree).all() )"
   ]
  },
  {
   "cell_type": "code",
   "execution_count": 19,
   "id": "1b0a43bf-f44d-428e-ad04-21228a1ac4e4",
   "metadata": {
    "colab": {
     "base_uri": "https://localhost:8080/",
     "height": 609
    },
    "id": "1b0a43bf-f44d-428e-ad04-21228a1ac4e4",
    "outputId": "5e3cbfa8-8109-464e-db1b-be8ce6056ef7"
   },
   "outputs": [
    {
     "name": "stdout",
     "output_type": "stream",
     "text": [
      "Imagem and its min-tree representation. The indexes of min-tree nodes are shown as label in the imagem.\n"
     ]
    },
    {
     "data": {
      "image/png": "[encoded data removed]",
      "text/plain": [
       "<Figure size 800x600 with 1 Axes>"
      ]
     },
     "metadata": {},
     "output_type": "display_data"
    },
    {
     "name": "stdout",
     "output_type": "stream",
     "text": [
      "Each node is represented by <index>: <gray level>\n",
      "\n",
      "                                                                                       \u001b[40m\u001b[37m 0: 8: 6164 \u001b[0m\n",
      "                                                                                            |\n",
      "                                                                                       \u001b[40m\u001b[37m 1: 7: 5998 \u001b[0m\n",
      "                                                                                            |\n",
      "                                                                                       \u001b[40m\u001b[37m 2: 6: 5818 \u001b[0m\n",
      "                                                                               ┌────────────┴────────────┐\n",
      "                                                                          \u001b[40m\u001b[37m 3: 5: 4633 \u001b[0m              \u001b[40m\u001b[37m 17: 0: 44 \u001b[0m\n",
      "                                                                 ┌─────────────┴─────────────┐                 \n",
      "                                                            \u001b[40m\u001b[37m 4: 4: 4218 \u001b[0m                \u001b[40m\u001b[37m 10: 1: 23 \u001b[0m            \n",
      "                                                  ┌──────────────┴──────────────┐                              \n",
      "                                             \u001b[40m\u001b[37m 5: 3: 3439 \u001b[0m                  \u001b[40m\u001b[37m 12: 1: 244 \u001b[0m                        \n",
      "                                 ┌────────────────┴─────────────────┐                                          \n",
      "                            \u001b[40m\u001b[37m 6: 2: 2785 \u001b[0m                       \u001b[40m\u001b[37m 13: 1: 56 \u001b[0m                                     \n",
      "           ┌──────────────────┬──┴─────────┬───────────┐                                                       \n",
      "      \u001b[40m\u001b[37m 7: 1: 1061 \u001b[0m       \u001b[40m\u001b[37m 8: 1: 892 \u001b[0m  \u001b[40m\u001b[37m 11: 1: 78 \u001b[0m \u001b[40m\u001b[37m 18: 0: 134 \u001b[0m                                                 \n",
      "     ┌─────┴──────┐           |                                                                                \n",
      "\u001b[40m\u001b[37m 14: 0: 540 \u001b[0m \u001b[40m\u001b[37m 16: 0: 38 \u001b[0m \u001b[40m\u001b[37m 15: 0: 417 \u001b[0m\n",
      "\n",
      "\n",
      "\n",
      "Imagem and its max-tree representation. The indexes of max-tree nodes are shown as label in the imagem.\n"
     ]
    },
    {
     "data": {
      "image/png": "[encoded data removed]",
      "text/plain": [
       "<Figure size 800x600 with 1 Axes>"
      ]
     },
     "metadata": {},
     "output_type": "display_data"
    },
    {
     "name": "stdout",
     "output_type": "stream",
     "text": [
      "Each node is represented by <index>: <gray level>\n",
      "\n",
      "                                                                     \u001b[40m\u001b[37m 0: 0: 6164 \u001b[0m\n",
      "                            ┌─────────────────────────────────────────────┴──────────────────────────────────────────────┐\n",
      "                       \u001b[40m\u001b[37m 1: 1: 1353 \u001b[0m                                                                                 \u001b[40m\u001b[37m 2: 1: 3638 \u001b[0m                                \n",
      "                ┌───────────┴────────────┐                                               ┌───────────────────────────────┴─────────────┬──────────────────┐     \n",
      "           \u001b[40m\u001b[37m 6: 3: 464 \u001b[0m              \u001b[40m\u001b[37m 7: 4: 516 \u001b[0m                                     \u001b[40m\u001b[37m 3: 2: 2261 \u001b[0m                                  \u001b[40m\u001b[37m 4: 3: 311 \u001b[0m        \u001b[40m\u001b[37m 13: 5: 80 \u001b[0m\n",
      "    ┌───────────┼────────────┐           |                     ┌─────────────────────────┴─┬───────────┬────────────┐            ┌─────┴──────┐           |     \n",
      "\u001b[40m\u001b[37m 9: 4: 72 \u001b[0m \u001b[40m\u001b[37m 18: 6: 112 \u001b[0m \u001b[40m\u001b[37m 22: 7: 59 \u001b[0m \u001b[40m\u001b[37m 14: 6: 431 \u001b[0m          \u001b[40m\u001b[37m 5: 3: 595 \u001b[0m                 \u001b[40m\u001b[37m 8: 4: 378 \u001b[0m \u001b[40m\u001b[37m 10: 5: 295 \u001b[0m \u001b[40m\u001b[37m 16: 6: 373 \u001b[0m \u001b[40m\u001b[37m 11: 5: 146 \u001b[0m \u001b[40m\u001b[37m 20: 7: 53 \u001b[0m \u001b[40m\u001b[37m 19: 6: 36 \u001b[0m\n",
      "                                                      ┌────────┴─────────┐                             |                                                        \n",
      "                                                 \u001b[40m\u001b[37m 12: 5: 126 \u001b[0m       \u001b[40m\u001b[37m 17: 6: 204 \u001b[0m                  \u001b[40m\u001b[37m 15: 6: 123 \u001b[0m                                                  \n",
      "                                                      |            ┌─────┴─────┐                                                                                \n",
      "                                                 \u001b[40m\u001b[37m 23: 8: 96 \u001b[0m  \u001b[40m\u001b[37m 21: 7: 68 \u001b[0m \u001b[40m\u001b[37m 24: 8: 70 \u001b[0m\n"
     ]
    }
   ],
   "source": [
    "showTree(mintree)\n",
    "print(\"\\n\\n\")\n",
    "showTree(maxtree)"
   ]
  },
  {
   "cell_type": "markdown",
   "id": "ee462a97-fb6f-40dc-8b63-3da979f7c3db",
   "metadata": {},
   "source": [
    "# Other simple images for testing"
   ]
  },
  {
   "cell_type": "markdown",
   "id": "9844e3dd-f433-492b-88bc-61e4c1ea3cb8",
   "metadata": {},
   "source": [
    "- Example image created by Wonder"
   ]
  },
  {
   "cell_type": "code",
   "execution_count": null,
   "id": "ee91f19f-d1e2-4f89-aed9-5ad7bcd93872",
   "metadata": {},
   "outputs": [],
   "source": [
    "img_wonder = np.array([\n",
    "[203,203,203,203,203,203,203,203,203,203,203,203,203,203,203,203,203,203,203,203,203,203,203,203,203],\n",
    "[203,203,203, 78, 78, 78, 78, 78, 78, 78, 78, 78, 78, 78, 78, 78, 78,203,203,203,203,203,203,203,203],\n",
    "[203,203, 78, 78, 78, 78, 78, 78, 78, 78, 78, 78, 78, 78, 78, 78, 78, 78,203,203,203,203,203,203,203],\n",
    "[203,203, 78, 78,126,126,126,126,126,126,126, 78, 78, 78, 78, 78, 78, 78,203,203,203, 54, 54,203,203],\n",
    "[203,203, 78, 78,126, 38, 38, 38,126,126,126, 78, 78, 78, 78, 78, 78, 78,203,203, 54, 54, 54, 54,203],\n",
    "[203,203, 78, 78,126, 38, 38, 38,126,126,126, 78, 78, 78, 78, 78, 78, 78,203, 54, 54, 54, 80, 54,203],\n",
    "[203,203, 78, 78,126, 38, 38, 38,126, 78, 78, 78, 78, 78, 78, 78, 78, 78,203, 54, 80, 54, 54, 54,203],\n",
    "[203, 78, 78, 78,126, 38, 38,126,126, 78, 78, 78,203,203,203,203,203,203,203, 54, 54, 54, 54,203,203],\n",
    "[203, 78, 78, 78,126,126,126,126, 78, 78,203,203,203,203,203,203,203,203, 54, 54, 54, 54, 54,203,203],\n",
    "[203, 78, 78, 78,126,126,126, 78, 78, 78,203,203,253,253,253,203,203,203, 54, 80, 54, 54, 54,203,203],\n",
    "[203, 78, 78, 78,126,126,126, 78, 78, 78,203,203,253,253,253,203,203, 54, 54, 54, 54, 54,203,203,203],\n",
    "[203, 78, 78, 78,126,126,126, 78, 78, 78,203,203,253,253,253,203,203,203, 54, 54, 54,203,203,203,203],\n",
    "[203, 78, 78, 78,126,126,126, 78, 78, 78, 78,203,203,203,203,203,203,203,203,203,203,203,203,203,203],\n",
    "[203, 78, 78, 78,126,126,126, 78, 78, 78, 78,203,203,203,126,126,126,126,203,203,203,203,203,203,203],\n",
    "[203, 78, 78, 78,126,126,126, 78, 78, 78, 78,203,203,126,126,126,126,126,126,126,126,126,203,203,203],\n",
    "[203, 78, 78, 78, 78, 78, 78, 78, 78, 78, 78,203,203,126,126,126,126,126,126, 72,126,126,203,203,203],\n",
    "[203, 78, 78, 78, 78, 78, 78,161,161,161, 78, 78,203,126,126,126,126,126,126, 72, 72,126,126,126,203],\n",
    "[203, 78, 78, 78, 78, 78,161,161,161,161,161, 78,203,126,126,126,126,126, 72, 72, 72,126,126,126,203],\n",
    "[203, 78, 78, 78, 78, 78,161, 30, 30, 30,161, 78,203,203,126,126,126, 72, 72, 72, 72, 72,126,126,203],\n",
    "[203, 78, 78, 78, 78, 78,161, 30, 90, 30,161, 78, 78,203,126,126, 72, 72, 72, 72, 72, 72, 72,126,203],\n",
    "[203, 78, 78, 78, 78, 78,161, 30, 30, 30,161, 78, 78,203,203,126,126,126,126,126,126,126,126,126,203],\n",
    "[203, 78, 78, 78, 78, 78,161,161,161,161,161, 78, 78, 78,203,203,126,126,126,126,126,126,126,203,203],\n",
    "[203, 78, 78, 78, 78, 78,161,161,161,161,161, 78, 78, 78,203,203,203,203,126,126,126,126,203,203,203],\n",
    "[203,203, 78, 78, 78, 78, 78, 78, 78, 78, 78, 78, 78, 78, 78,203,203,203,203,203,203,203,203,203,203],\n",
    "[203,203,203,203,203,203,203,203,203,203,203,203,203,203,203,203,203,203,203,203,203,203,203,203,203]\n",
    "])\n",
    "\n",
    "num_rows, num_cols = img_wonder.shape\n",
    "img_wonder_vector = img_wonder.ravel()\n",
    "\n",
    "maxtree = mta.ComponentTree(img_wonder_vector, num_rows, num_cols, True, 1.5)\n",
    "mintree = mta.ComponentTree(img_wonder_vector, num_rows, num_cols, False, 1.5)\n",
    "\n",
    "showLevelSets(img_wonder)\n",
    "showTree(mintree)\n",
    "showTree(maxtree)"
   ]
  },
  {
   "cell_type": "markdown",
   "id": "e8339173-3210-4c11-9ae2-e2718d6d3f6d",
   "metadata": {},
   "source": [
    "- Image of the DGMM paper"
   ]
  },
  {
   "cell_type": "code",
   "execution_count": null,
   "id": "0594ffa5-e876-4a80-af71-441ad21be026",
   "metadata": {},
   "outputs": [],
   "source": [
    "img_dgmm = np.array([\n",
    "    [7, 7, 7, 7, 7, 7, 7, 7, 7],\n",
    "    [7, 5, 5, 5, 7, 7, 7, 7, 7],\n",
    "    [7, 5, 1, 5, 7, 7, 7, 7, 7],\n",
    "    [7, 5, 1, 5, 7, 2, 2, 2, 7],\n",
    "    [7, 5, 1, 5, 7, 2, 4, 2, 7],\n",
    "    [7, 5, 5, 5, 7, 2, 2, 2, 7],\n",
    "    [7, 7, 7, 7, 7, 2, 4, 2, 7],\n",
    "    [7, 7, 7, 7, 7, 2, 2, 2, 7],\n",
    "    [7, 7, 7, 7, 7, 7, 7, 7, 7]\n",
    "])\n",
    "\n",
    "\n",
    "num_rows, num_cols = img_dgmm.shape\n",
    "img_dgmm_vector = img_dgmm.ravel()\n",
    "\n",
    "maxtree = mta.ComponentTree(img_dgmm_vector, num_rows, num_cols, True, 1.5)\n",
    "mintree = mta.ComponentTree(img_dgmm_vector, num_rows, num_cols, False, 1.5)\n",
    "\n",
    "showLevelSets(img_dgmm)\n",
    "print(\"\\n\\n\")\n",
    "showTree(mintree)\n",
    "print(\"\\n\\n\")\n",
    "showTree(maxtree)"
   ]
  },
  {
   "cell_type": "markdown",
   "id": "09437013-66e1-4724-9ed3-101316c4e391",
   "metadata": {},
   "source": [
    " - Image of DGMM'25 paper"
   ]
  },
  {
   "cell_type": "code",
   "execution_count": 3,
   "id": "95df8a67-bdb6-4156-befe-dce201011377",
   "metadata": {},
   "outputs": [
    {
     "name": "stdout",
     "output_type": "stream",
     "text": [
      "Upper and lower level sets where in black are foreground pixels and white are background pixels\n"
     ]
    },
    {
     "data": {
      "image/png": "[encoded data removed]",
      "text/plain": [
       "<Figure size 500x1500 with 10 Axes>"
      ]
     },
     "metadata": {},
     "output_type": "display_data"
    },
    {
     "name": "stdout",
     "output_type": "stream",
     "text": [
      "\n",
      "\n",
      "\n",
      "Imagem and its min-tree representation. The indexes of min-tree nodes are shown as label in the imagem.\n"
     ]
    },
    {
     "data": {
      "image/png": "[encoded data removed]",
      "text/plain": [
       "<Figure size 800x600 with 1 Axes>"
      ]
     },
     "metadata": {},
     "output_type": "display_data"
    },
    {
     "name": "stdout",
     "output_type": "stream",
     "text": [
      "Each node is represented by <index>: <gray level>\n",
      "\n",
      "            \u001b[40m\u001b[37m 0: 6: 8 \u001b[0m\n",
      "         ┌──────┴───────┐\n",
      "     \u001b[40m\u001b[37m 1: 5: 4 \u001b[0m      \u001b[40m\u001b[37m 3: 3: 3 \u001b[0m\n",
      "    ┌────┴────┐         |    \n",
      "\u001b[40m\u001b[37m 2: 3: 1 \u001b[0m \u001b[40m\u001b[37m 4: 2: 2 \u001b[0m \u001b[40m\u001b[37m 5: 0: 2 \u001b[0m\n",
      "\n",
      "\n",
      "\n",
      "Imagem and its max-tree representation. The indexes of max-tree nodes are shown as label in the imagem.\n"
     ]
    },
    {
     "data": {
      "image/png": "[encoded data removed]",
      "text/plain": [
       "<Figure size 800x600 with 1 Axes>"
      ]
     },
     "metadata": {},
     "output_type": "display_data"
    },
    {
     "name": "stdout",
     "output_type": "stream",
     "text": [
      "Each node is represented by <index>: <gray level>\n",
      "\n",
      "            \u001b[40m\u001b[37m 0: 0: 8 \u001b[0m\n",
      "         ┌──────┴───────┐\n",
      "     \u001b[40m\u001b[37m 1: 2: 5 \u001b[0m      \u001b[40m\u001b[37m 3: 3: 1 \u001b[0m\n",
      "    ┌────┴────┐              \n",
      "\u001b[40m\u001b[37m 2: 3: 2 \u001b[0m \u001b[40m\u001b[37m 5: 6: 1 \u001b[0m          \n",
      "    |                        \n",
      "\u001b[40m\u001b[37m 4: 5: 1 \u001b[0m\n"
     ]
    }
   ],
   "source": [
    "img_dgmm = np.array([\n",
    "    [3, 5, 2, 2, 6, 0, 0, 3]\n",
    "])\n",
    "\n",
    "\n",
    "num_rows, num_cols = img_dgmm.shape\n",
    "img_dgmm_vector = img_dgmm.ravel()\n",
    "\n",
    "maxtree = mta.ComponentTree(img_dgmm_vector, num_rows, num_cols, True, 1)\n",
    "mintree = mta.ComponentTree(img_dgmm_vector, num_rows, num_cols, False, 1)\n",
    "\n",
    "showLevelSets(img_dgmm)\n",
    "print(\"\\n\\n\")\n",
    "showTree(mintree)\n",
    "print(\"\\n\\n\")\n",
    "showTree(maxtree)"
   ]
  },
  {
   "cell_type": "code",
   "execution_count": 5,
   "id": "a09a9f98-09d3-4990-b382-a894071eaed7",
   "metadata": {},
   "outputs": [
    {
     "name": "stdout",
     "output_type": "stream",
     "text": [
      "List of leaves of the min-tree:\n",
      "\t [NodeCT(id=5, level=0), NodeCT(id=4, level=2), NodeCT(id=2, level=3)] \n",
      "\n"
     ]
    },
    {
     "data": {
      "image/png": "[encoded data removed]",
      "text/plain": [
       "<Figure size 640x480 with 1 Axes>"
      ]
     },
     "metadata": {},
     "output_type": "display_data"
    }
   ],
   "source": [
    "leaves_mintree = mintree.leaves()\n",
    "print(\"List of leaves of the min-tree:\\n\\t\", leaves_mintree, \"\\n\")\n",
    "\n",
    "L = leaves_mintree[1]\n",
    "showNode(L)"
   ]
  },
  {
   "cell_type": "code",
   "execution_count": 7,
   "id": "3da91747-e9b6-4a31-8359-4c60f2951df4",
   "metadata": {},
   "outputs": [
    {
     "name": "stdout",
     "output_type": "stream",
     "text": [
      "f(p) = a =  2\n",
      "g(p) = b =  5\n",
      "F_λ: {2: [NodeCT(id=1, level=2)], 3: [NodeCT(id=2, level=3)], 5: [NodeCT(id=4, level=5)]}\n",
      "F_λ>b: [NodeCT(id=5, level=6)]\n"
     ]
    }
   ],
   "source": [
    "adjust = mta.ComponentTreeAdjustment(mintree, maxtree)\n",
    "\n",
    "flatZone = L.cnps\n",
    "oldGrayLevel = L.level\n",
    "newGrayLevel = L.parent.level\n",
    "type_treeBeUpdated = True #False=mintree and True=maxtree\n",
    "\n",
    "(mapF, F_λb) = adjust.buildCollections(maxtree, flatZone, newGrayLevel, type_treeBeUpdated)\n",
    "\n",
    "print(\"f(p) = a = \", oldGrayLevel)\n",
    "print(\"g(p) = b = \", newGrayLevel)\n",
    "print(\"F_λ:\", mapF)\n",
    "print(\"F_λ>b:\", F_λb)"
   ]
  },
  {
   "cell_type": "code",
   "execution_count": 9,
   "id": "d8564e08-5b61-4080-900a-c5a22d7976ba",
   "metadata": {},
   "outputs": [
    {
     "name": "stdout",
     "output_type": "stream",
     "text": [
      "The reconstruction images are equals? True\n",
      "Imagem and its min-tree representation. The indexes of min-tree nodes are shown as label in the imagem.\n"
     ]
    },
    {
     "data": {
      "image/png": "[encoded data removed]",
      "text/plain": [
       "<Figure size 800x600 with 1 Axes>"
      ]
     },
     "metadata": {},
     "output_type": "display_data"
    },
    {
     "name": "stdout",
     "output_type": "stream",
     "text": [
      "Each node is represented by <index>: <gray level>\n",
      "\n",
      "     \u001b[40m\u001b[37m 0: 6: 8 \u001b[0m\n",
      "    ┌────┴────┐\n",
      "\u001b[40m\u001b[37m 1: 5: 4 \u001b[0m \u001b[40m\u001b[37m 3: 3: 3 \u001b[0m\n",
      "    |         |    \n",
      "\u001b[40m\u001b[37m 2: 3: 1 \u001b[0m \u001b[40m\u001b[37m 5: 0: 2 \u001b[0m\n",
      "\n",
      "\n",
      "\n",
      "Imagem and its max-tree representation. The indexes of max-tree nodes are shown as label in the imagem.\n"
     ]
    },
    {
     "data": {
      "image/png": "[encoded data removed]",
      "text/plain": [
       "<Figure size 800x600 with 1 Axes>"
      ]
     },
     "metadata": {},
     "output_type": "display_data"
    },
    {
     "name": "stdout",
     "output_type": "stream",
     "text": [
      "Each node is represented by <index>: <gray level>\n",
      "\n",
      "     \u001b[40m\u001b[37m 0: 0: 8 \u001b[0m\n",
      "    ┌────┴────┐\n",
      "\u001b[40m\u001b[37m 3: 3: 1 \u001b[0m \u001b[40m\u001b[37m 2: 3: 5 \u001b[0m\n",
      "              |    \n",
      "          \u001b[40m\u001b[37m 4: 5: 4 \u001b[0m\n",
      "              |    \n",
      "          \u001b[40m\u001b[37m 5: 6: 1 \u001b[0m\n"
     ]
    }
   ],
   "source": [
    "adjust = mta.ComponentTreeAdjustment(mintree, maxtree)\n",
    "\n",
    "adjust.updateTree(maxtree, L)\n",
    "\n",
    "#after, pruning the maxtree\n",
    "mintree.prunning(L)\n",
    "del L\n",
    "\n",
    "#reconstructed images of both trees\n",
    "img_g_vector_maxtree = maxtree.reconstructionImage()\n",
    "img_g_vector_mintree = mintree.reconstructionImage()\n",
    "\n",
    "print(\"The reconstruction images are equals?\", (img_g_vector_maxtree == img_g_vector_mintree).all() )\n",
    "\n",
    "showTree(mintree)\n",
    "print(\"\\n\\n\")\n",
    "showTree(maxtree)"
   ]
  },
  {
   "cell_type": "code",
   "execution_count": 6,
   "id": "65918b1d-fbc3-45e0-9031-6fe7aef1af9f",
   "metadata": {},
   "outputs": [
    {
     "name": "stdout",
     "output_type": "stream",
     "text": [
      "List of leaves of the min-tree:\n",
      "\t [NodeCT(id=6, level=0), NodeCT(id=4, level=2), NodeCT(id=2, level=3)] \n",
      "\n",
      "f(p) = a =  2\n",
      "g(p) = b =  5\n",
      "F_λ: {2: [NodeCT(id=1, level=2)], 3: [NodeCT(id=2, level=3)], 5: [NodeCT(id=4, level=5)]}\n",
      "F_λ>b: [NodeCT(id=5, level=6)]\n"
     ]
    }
   ],
   "source": [
    "img_dgmm = np.array([\n",
    "    [3, 5, 2, 2, 6, 2, 0, 3]\n",
    "])\n",
    "\n",
    "\n",
    "num_rows, num_cols = img_dgmm.shape\n",
    "img_dgmm_vector = img_dgmm.ravel()\n",
    "\n",
    "maxtree = mta.ComponentTree(img_dgmm_vector, num_rows, num_cols, True, 1)\n",
    "mintree = mta.ComponentTree(img_dgmm_vector, num_rows, num_cols, False, 1)\n",
    "\n",
    "leaves_mintree = mintree.leaves()\n",
    "print(\"List of leaves of the min-tree:\\n\\t\", leaves_mintree, \"\\n\")\n",
    "\n",
    "L = leaves_mintree[1]\n",
    "adjust = mta.ComponentTreeAdjustment(mintree, maxtree)\n",
    "\n",
    "flatZone = L.cnps\n",
    "oldGrayLevel = L.level\n",
    "newGrayLevel = L.parent.level\n",
    "type_treeBeUpdated = True #False=mintree and True=maxtree\n",
    "\n",
    "(mapF, F_λb) = adjust.buildCollections(maxtree, flatZone, newGrayLevel, type_treeBeUpdated)\n",
    "\n",
    "print(\"f(p) = a = \", oldGrayLevel)\n",
    "print(\"g(p) = b = \", newGrayLevel)\n",
    "print(\"F_λ:\", mapF)\n",
    "print(\"F_λ>b:\", F_λb)"
   ]
  },
  {
   "cell_type": "code",
   "execution_count": 8,
   "id": "00b43654-9eee-4a57-b383-5df8126abe06",
   "metadata": {},
   "outputs": [
    {
     "name": "stdout",
     "output_type": "stream",
     "text": [
      "The reconstruction images are equals? True\n",
      "Imagem and its min-tree representation. The indexes of min-tree nodes are shown as label in the imagem.\n"
     ]
    },
    {
     "data": {
      "image/png": "[encoded data removed]",
      "text/plain": [
       "<Figure size 800x600 with 1 Axes>"
      ]
     },
     "metadata": {},
     "output_type": "display_data"
    },
    {
     "name": "stdout",
     "output_type": "stream",
     "text": [
      "Each node is represented by <index>: <gray level>\n",
      "\n",
      "     \u001b[40m\u001b[37m 0: 6: 8 \u001b[0m\n",
      "    ┌────┴────┐\n",
      "\u001b[40m\u001b[37m 1: 5: 4 \u001b[0m \u001b[40m\u001b[37m 3: 3: 3 \u001b[0m\n",
      "    |         |    \n",
      "\u001b[40m\u001b[37m 2: 3: 1 \u001b[0m \u001b[40m\u001b[37m 5: 2: 2 \u001b[0m\n",
      "              |    \n",
      "          \u001b[40m\u001b[37m 6: 0: 1 \u001b[0m\n",
      "\n",
      "\n",
      "\n",
      "Imagem and its max-tree representation. The indexes of max-tree nodes are shown as label in the imagem.\n"
     ]
    },
    {
     "data": {
      "image/png": "[encoded data removed]",
      "text/plain": [
       "<Figure size 800x600 with 1 Axes>"
      ]
     },
     "metadata": {},
     "output_type": "display_data"
    },
    {
     "name": "stdout",
     "output_type": "stream",
     "text": [
      "Each node is represented by <index>: <gray level>\n",
      "\n",
      "     \u001b[40m\u001b[37m 0: 0: 8 \u001b[0m\n",
      "    ┌────┴────┐\n",
      "\u001b[40m\u001b[37m 1: 2: 6 \u001b[0m \u001b[40m\u001b[37m 3: 3: 1 \u001b[0m\n",
      "    |              \n",
      "\u001b[40m\u001b[37m 2: 3: 5 \u001b[0m          \n",
      "    |              \n",
      "\u001b[40m\u001b[37m 4: 5: 4 \u001b[0m          \n",
      "    |              \n",
      "\u001b[40m\u001b[37m 5: 6: 1 \u001b[0m\n"
     ]
    }
   ],
   "source": [
    "adjust = mta.ComponentTreeAdjustment(mintree, maxtree)\n",
    "\n",
    "adjust.updateTree(maxtree, L)\n",
    "\n",
    "#after, pruning the maxtree\n",
    "mintree.prunning(L)\n",
    "del L\n",
    "\n",
    "#reconstructed images of both trees\n",
    "img_g_vector_maxtree = maxtree.reconstructionImage()\n",
    "img_g_vector_mintree = mintree.reconstructionImage()\n",
    "\n",
    "print(\"The reconstruction images are equals?\", (img_g_vector_maxtree == img_g_vector_mintree).all() )\n",
    "\n",
    "showTree(mintree)\n",
    "print(\"\\n\\n\")\n",
    "showTree(maxtree)"
   ]
  },
  {
   "cell_type": "code",
   "execution_count": null,
   "id": "cf03bb04-443d-4a79-9eea-61ea772c88aa",
   "metadata": {},
   "outputs": [],
   "source": []
  }
 ],
 "metadata": {
  "colab": {
   "provenance": []
  },
  "kernelspec": {
   "display_name": "Python 3 (ipykernel)",
   "language": "python",
   "name": "python3"
  },
  "language_info": {
   "codemirror_mode": {
    "name": "ipython",
    "version": 3
   },
   "file_extension": ".py",
   "mimetype": "text/x-python",
   "name": "python",
   "nbconvert_exporter": "python",
   "pygments_lexer": "ipython3",
   "version": "3.9.19"
  }
 },
 "nbformat": 4,
 "nbformat_minor": 5
}
