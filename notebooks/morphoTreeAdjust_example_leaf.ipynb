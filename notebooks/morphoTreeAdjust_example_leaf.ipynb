{
 "cells": [
  {
   "cell_type": "markdown",
   "id": "8117ac5e",
   "metadata": {
    "colab_type": "text",
    "id": "view-in-github"
   },
   "source": [
    "<a href=\"https://colab.research.google.com/github/wonderalexandre/MorphoTreeAdjust/blob/main/notebooks/morphoTreeAdjust_example_leaf.ipynb\" target=\"_parent\"><img src=\"https://colab.research.google.com/assets/colab-badge.svg\" alt=\"Open In Colab\"/></a>"
   ]
  },
  {
   "cell_type": "markdown",
   "id": "91c62304-7e82-49ab-9830-575459a6b06f",
   "metadata": {
    "id": "91c62304-7e82-49ab-9830-575459a6b06f"
   },
   "source": [
    "# 1. Install Library"
   ]
  },
  {
   "cell_type": "code",
   "execution_count": 1,
   "id": "ff43bae8-0956-4930-bd9c-8eadc3286131",
   "metadata": {
    "colab": {
     "base_uri": "https://localhost:8080/"
    },
    "id": "ff43bae8-0956-4930-bd9c-8eadc3286131",
    "outputId": "dc88b01b-e23b-4917-854d-516e833b577a"
   },
   "outputs": [
    {
     "name": "stdout",
     "output_type": "stream",
     "text": [
      "Collecting morphoTreeAdjust\n",
      "  Downloading morphotreeadjust-0.1.8.tar.gz (43 kB)\n",
      "\u001b[?25l     \u001b[90m━━━━━━━━━━━━━━━━━━━━━━━━━━━━━━━━━━━━━━━━\u001b[0m \u001b[32m0.0/43.4 kB\u001b[0m \u001b[31m?\u001b[0m eta \u001b[36m-:--:--\u001b[0m\r",
      "\u001b[2K     \u001b[90m━━━━━━━━━━━━━━━━━━━━━━━━━━━━━━━━━━━━━━━━\u001b[0m \u001b[32m43.4/43.4 kB\u001b[0m \u001b[31m1.5 MB/s\u001b[0m eta \u001b[36m0:00:00\u001b[0m\n",
      "\u001b[?25h  Preparing metadata (setup.py) ... \u001b[?25l\u001b[?25hdone\n",
      "Building wheels for collected packages: morphoTreeAdjust\n",
      "  Building wheel for morphoTreeAdjust (setup.py) ... \u001b[?25l\u001b[?25hdone\n",
      "  Created wheel for morphoTreeAdjust: filename=morphoTreeAdjust-0.1.8-cp311-cp311-linux_x86_64.whl size=202214 sha256=cea9e6a0ba8340fd1f6101669aa3a918400243fd15cef13f935673e42f949c6b\n",
      "  Stored in directory: /root/.cache/pip/wheels/9b/8e/68/5849f077549d26da05e983cbc89824b1098300044fe5dcc600\n",
      "Successfully built morphoTreeAdjust\n",
      "Installing collected packages: morphoTreeAdjust\n",
      "Successfully installed morphoTreeAdjust-0.1.8\n",
      "Collecting PrettyPrintTree\n",
      "  Downloading PrettyPrintTree-2.0.1-py3-none-any.whl.metadata (9.6 kB)\n",
      "Collecting colorama (from PrettyPrintTree)\n",
      "  Downloading colorama-0.4.6-py2.py3-none-any.whl.metadata (17 kB)\n",
      "Collecting cmd2 (from PrettyPrintTree)\n",
      "  Downloading cmd2-2.7.0-py3-none-any.whl.metadata (17 kB)\n",
      "Requirement already satisfied: pyperclip>=1.8 in /usr/local/lib/python3.11/dist-packages (from cmd2->PrettyPrintTree) (1.9.0)\n",
      "Collecting rich-argparse>=1.7.1 (from cmd2->PrettyPrintTree)\n",
      "  Downloading rich_argparse-1.7.1-py3-none-any.whl.metadata (14 kB)\n",
      "Requirement already satisfied: wcwidth>=0.2.10 in /usr/local/lib/python3.11/dist-packages (from cmd2->PrettyPrintTree) (0.2.13)\n",
      "Requirement already satisfied: rich>=11.0.0 in /usr/local/lib/python3.11/dist-packages (from rich-argparse>=1.7.1->cmd2->PrettyPrintTree) (13.9.4)\n",
      "Requirement already satisfied: markdown-it-py>=2.2.0 in /usr/local/lib/python3.11/dist-packages (from rich>=11.0.0->rich-argparse>=1.7.1->cmd2->PrettyPrintTree) (3.0.0)\n",
      "Requirement already satisfied: pygments<3.0.0,>=2.13.0 in /usr/local/lib/python3.11/dist-packages (from rich>=11.0.0->rich-argparse>=1.7.1->cmd2->PrettyPrintTree) (2.19.2)\n",
      "Requirement already satisfied: mdurl~=0.1 in /usr/local/lib/python3.11/dist-packages (from markdown-it-py>=2.2.0->rich>=11.0.0->rich-argparse>=1.7.1->cmd2->PrettyPrintTree) (0.1.2)\n",
      "Downloading PrettyPrintTree-2.0.1-py3-none-any.whl (14 kB)\n",
      "Downloading cmd2-2.7.0-py3-none-any.whl (154 kB)\n",
      "\u001b[2K   \u001b[90m━━━━━━━━━━━━━━━━━━━━━━━━━━━━━━━━━━━━━━━━\u001b[0m \u001b[32m154.3/154.3 kB\u001b[0m \u001b[31m7.8 MB/s\u001b[0m eta \u001b[36m0:00:00\u001b[0m\n",
      "\u001b[?25hDownloading colorama-0.4.6-py2.py3-none-any.whl (25 kB)\n",
      "Downloading rich_argparse-1.7.1-py3-none-any.whl (25 kB)\n",
      "Installing collected packages: colorama, rich-argparse, cmd2, PrettyPrintTree\n",
      "Successfully installed PrettyPrintTree-2.0.1 cmd2-2.7.0 colorama-0.4.6 rich-argparse-1.7.1\n"
     ]
    }
   ],
   "source": [
    "!pip install morphoTreeAdjust\n",
    "!pip install PrettyPrintTree"
   ]
  },
  {
   "cell_type": "code",
   "execution_count": 1,
   "id": "75c66246-ec22-4e26-b048-93a6dd5b1cc7",
   "metadata": {},
   "outputs": [],
   "source": [
    "import sys\n",
    "sys.path.append(\"/opt/anaconda3/lib\")"
   ]
  },
  {
   "cell_type": "markdown",
   "id": "59559460-1879-4add-b09d-b1083af31258",
   "metadata": {
    "id": "59559460-1879-4add-b09d-b1083af31258"
   },
   "source": [
    "# 2. Importing library and defining plotting functions"
   ]
  },
  {
   "cell_type": "code",
   "execution_count": 4,
   "id": "b222cb83-f1ec-49b9-93fe-26d4f26b35ed",
   "metadata": {
    "id": "b222cb83-f1ec-49b9-93fe-26d4f26b35ed"
   },
   "outputs": [],
   "source": [
    "import numpy as np\n",
    "import cv2 as cv\n",
    "import matplotlib.pyplot as plt\n",
    "import matplotlib.cm as cm\n",
    "import morphoTreeAdjust as mta\n",
    "\n",
    "from PrettyPrint import PrettyPrintTree\n",
    "from colorama import Fore, Back\n",
    "\n",
    "printTree = PrettyPrintTree(\n",
    "    lambda node: node.children,\n",
    "    lambda node: (str(node.id) + \": \" +str(node.level) +\": \" +str(node.area)), color=Back.BLACK + Fore.WHITE,\n",
    "    start_message=lambda node: f'Each node is represented by <index>: <gray level>: <area>\\n'\n",
    ")\n",
    "\n",
    "def showLevelSets(img_f):\n",
    "    print(\"Upper and lower level sets where in black are foreground pixels and white are background pixels\")\n",
    "    t_values = np.unique(img_f)\n",
    "    len = np.size(t_values)\n",
    "    max_value = np.max(img_f)\n",
    "    fig, axes = plt.subplots(len, 2, figsize=(5, 15))\n",
    "\n",
    "    # Preenchendo os subplots com imagens limiares\n",
    "    for i, t in enumerate(t_values):\n",
    "        # Primeira coluna: img_f >= t\n",
    "        thr = t_values[i]\n",
    "        img_threshold_ge = np.where(img_f >= thr, 1, 0)\n",
    "        axes[i, 0].imshow(img_threshold_ge, cmap='gray_r', vmax=1, vmin=0, interpolation='nearest')\n",
    "        axes[i, 0].set_title(f'image ≥ {t}')\n",
    "        axes[i, 0].axis('off')\n",
    "        axes[i, 0].add_patch(plt.Rectangle((0, 0), img_threshold_ge.shape[1] - 1, img_threshold_ge.shape[0] - 1,\n",
    "                                   edgecolor='red', linewidth=0.5, fill=False))\n",
    "        # Segunda coluna: img_f <= t\n",
    "        thr = t_values[len - i -1]\n",
    "        img_threshold_le = np.where(img_f <= thr, 1, 0)\n",
    "        axes[i, 1].imshow(img_threshold_le, cmap='gray_r',vmax=1, vmin=0, interpolation='nearest')\n",
    "        axes[i, 1].set_title(f'image ≤ {thr}')\n",
    "        axes[i, 1].axis('off')\n",
    "        axes[i, 1].add_patch(plt.Rectangle((0, 0), img_threshold_le.shape[1] - 1, img_threshold_le.shape[0] - 1,\n",
    "                                   edgecolor='blue', linewidth=0.5, fill=False))\n",
    "\n",
    "    # Ajuste de layout para evitar sobreposição\n",
    "    plt.tight_layout()\n",
    "    plt.show()\n",
    "\n",
    "\n",
    "def computeCentroid(cnps):\n",
    "    closest_pixel = cnps[len(cnps)//2]\n",
    "    px, py = closest_pixel // num_cols, closest_pixel % num_cols\n",
    "    return px, py\n",
    "\n",
    "def showTree(tree):\n",
    "    if(tree.isMaxtree):\n",
    "        print(\"Imagem and its max-tree representation. The indexes of max-tree nodes are shown as label in the imagem.\")\n",
    "    else:\n",
    "        print(\"Imagem and its min-tree representation. The indexes of min-tree nodes are shown as label in the imagem.\")\n",
    "    img_vector = tree.reconstructionImage()\n",
    "    ids_position = []\n",
    "\n",
    "    for node in tree.root.postOrderTraversal():\n",
    "      px, py = computeCentroid(node.cnps)\n",
    "      ids_position.append( (node.id, px, py) )\n",
    "\n",
    "    # Plota a imagem\n",
    "    plt.figure(figsize=(8, 6))\n",
    "    image = img_vector.reshape(tree.numRows, tree.numCols)\n",
    "    # Adicionando uma borda ao redor da imagem\n",
    "    ax = plt.gca()  # Obtém o eixo atual\n",
    "    ax.add_patch(plt.Rectangle((0, 0), image.shape[1] - 1, image.shape[0] - 1,\n",
    "                               edgecolor='red', linewidth=0.5, fill=False))\n",
    "\n",
    "    plt.imshow(image, cmap='gray')\n",
    "\n",
    "    # Adiciona rótulos nos centróides fictícios\n",
    "    for i, (id, x, y) in enumerate(ids_position):\n",
    "        plt.text(y, x, f'•{id}', color='red', fontsize=9)\n",
    "\n",
    "\n",
    "    plt.axis('off')\n",
    "    plt.show()\n",
    "    printTree(tree.root)\n",
    "\n",
    "def showNode(tree, node):\n",
    "    image = tree.reconstructionNode(node).reshape(num_rows, num_cols)\n",
    "    ax = plt.gca()  # Obtém o eixo atual\n",
    "    ax.imshow(image, cmap='gray_r')\n",
    "    ax.add_patch(plt.Rectangle((0, 0), image.shape[1] - 1, image.shape[0] - 1,\n",
    "                               edgecolor='red', linewidth=0.5, fill=False))\n",
    "    ax.set_title(f\"{node}\")\n",
    "    ax.axis(\"off\")\n",
    "\n",
    "def buildMapIds(tree):\n",
    "    mapIds = np.zeros(num_rows*num_cols)\n",
    "    for p in range(num_rows*num_cols):\n",
    "        mapIds[p] = tree.getSC(p).id\n",
    "    return mapIds\n",
    "\n",
    "\n",
    "import matplotlib.pyplot as plt\n",
    "import matplotlib.patches as patches\n",
    "import matplotlib.cm as cm\n",
    "\n",
    "def getNodeContour(tree, node):\n",
    "    adj = mta.AdjacencyRelation(num_rows, num_cols, 1.5)  # Relação de adjacência\n",
    "    contour = []\n",
    "\n",
    "    for idP in node.cnps:  # Percorre os pixels do nó\n",
    "        for idQ in adj.getAdjPixels(idP):  # Verifica seus vizinhos\n",
    "            sc_p = tree.getSC(idP)\n",
    "            sc_q = tree.getSC(idQ)\n",
    "\n",
    "            if sc_p and sc_q and sc_p.id != sc_q.id:  # Verifica se são nós diferentes\n",
    "                pixel_x = idQ // num_cols\n",
    "                pixel_y = idQ % num_cols\n",
    "                contour.append((pixel_y, pixel_x))  # (x=coluna, y=linha)\n",
    "\n",
    "    return contour\n",
    "\n",
    "\n",
    "\n",
    "def showNodesOfSubtree(tree, root):\n",
    "    image = tree.reconstructionImage().reshape(num_rows, num_cols)\n",
    "    adj = mta.AdjacencyRelation(num_rows, num_cols, 1.5)\n",
    "    fig, ax = plt.subplots()\n",
    "    ax.imshow(image, cmap='gray')\n",
    "\n",
    "    # Desenha a borda do retângulo em vermelho\n",
    "    ax.add_patch(patches.Rectangle((0, 0), image.shape[1] - 1, image.shape[0] - 1,\n",
    "                                   edgecolor='red', linewidth=0.5, fill=False))\n",
    "\n",
    "    colormap = plt.colormaps['Paired']  # Obtém a paleta de cores (versão compatível)\n",
    "    ids_position = []\n",
    "    map_adj = {}\n",
    "\n",
    "    for node in root.BFSTraversal():\n",
    "        contours_x = []\n",
    "        contours_y = []\n",
    "        color = colormap(node.id % 10)  # Seleciona cor baseada no ID do nó\n",
    "\n",
    "        # Obtém um ponto de referência do nó para exibir seu ID\n",
    "        (px, py) = computeCentroid(node.cnps)\n",
    "        ids_position.append((node.id, px, py, color))\n",
    "\n",
    "        contour = getNodeContour(tree, node)\n",
    "        if contour:\n",
    "            contour_x, contour_y = zip(*contour) if contour else ([], [])\n",
    "            ax.scatter(contour_x, contour_y, color=color, s=0.5, label=f\"Node {node.id}\")\n",
    "\n",
    "        for idP in node.cnps:\n",
    "            for idQ in adj.getAdjPixels(idP):\n",
    "                sc_p = tree.getSC(idP)\n",
    "                sc_q = tree.getSC(idQ)\n",
    "                if sc_p and sc_q and sc_p.id != sc_q.id:\n",
    "                    if idQ not in map_adj:\n",
    "                        nodeQ = sc_q\n",
    "                        (qx, qy) = computeCentroid(nodeQ.cnps)\n",
    "                        map_adj[idQ] = (nodeQ.id, qx, qy)\n",
    "\n",
    "\n",
    "\n",
    "\n",
    "    # Plota os IDs dos nós vizinhos (em vermelho)\n",
    "    for node_id, x, y in map_adj.values():\n",
    "        plt.text(y, x, f'{node_id}', color='red', fontsize=9)\n",
    "\n",
    "    # Plota os IDs dos nós no centro\n",
    "    for node_id, x, y, color in ids_position:\n",
    "        plt.text(y, x, f'{node_id}*', color=color, fontsize=9)\n",
    "\n",
    "\n",
    "    ax.set_title(f\"Subárvore com raiz {root}\")\n",
    "    ax.axis(\"off\")  # Remove os eixos\n",
    "    plt.show()\n"
   ]
  },
  {
   "cell_type": "markdown",
   "id": "59473491-70e7-4708-ae01-986c7a200da0",
   "metadata": {
    "id": "59473491-70e7-4708-ae01-986c7a200da0"
   },
   "source": [
    "# 3. Creating the mintree and maxtree of an input image"
   ]
  },
  {
   "cell_type": "markdown",
   "id": "57017205-89e8-48f2-80ca-f0ab021103b0",
   "metadata": {
    "id": "57017205-89e8-48f2-80ca-f0ab021103b0"
   },
   "source": [
    "- Image of the JMIV paper"
   ]
  },
  {
   "cell_type": "code",
   "execution_count": 8,
   "id": "TIKz5B0Hm5Ob",
   "metadata": {
    "colab": {
     "base_uri": "https://localhost:8080/",
     "height": 1000
    },
    "id": "TIKz5B0Hm5Ob",
    "outputId": "cc6cf0d7-888a-4c7a-fb50-01738ed41757"
   },
   "outputs": [
    {
     "name": "stdout",
     "output_type": "stream",
     "text": [
      "Upper and lower level sets where in black are foreground pixels and white are background pixels\n"
     ]
    },
    {
     "data": {
      "image/png": "[encoded data removed]",
      "text/plain": [
       "<Figure size 500x1500 with 22 Axes>"
      ]
     },
     "metadata": {},
     "output_type": "display_data"
    },
    {
     "name": "stdout",
     "output_type": "stream",
     "text": [
      "\n",
      "\n",
      "\n",
      "Imagem and its min-tree representation. The indexes of min-tree nodes are shown as label in the imagem.\n"
     ]
    },
    {
     "data": {
      "image/png": "[encoded data removed]",
      "text/plain": [
       "<Figure size 800x600 with 1 Axes>"
      ]
     },
     "metadata": {},
     "output_type": "display_data"
    },
    {
     "name": "stdout",
     "output_type": "stream",
     "text": [
      "Each node is represented by <index>: <gray level>: <area>\n",
      "\n",
      "                                \u001b[40m\u001b[37m 0: 253: 625 \u001b[0m\n",
      "                                      |\n",
      "                                \u001b[40m\u001b[37m 1: 203: 616 \u001b[0m\n",
      "                     ┌────────────────┴────┬────────────┐\n",
      "               \u001b[40m\u001b[37m 2: 161: 277 \u001b[0m          \u001b[40m\u001b[37m 4: 126: 84 \u001b[0m \u001b[40m\u001b[37m 6: 80: 38 \u001b[0m\n",
      "           ┌─────────┴─────────┐           |            |     \n",
      "     \u001b[40m\u001b[37m 3: 126: 244 \u001b[0m         \u001b[40m\u001b[37m 5: 90: 9 \u001b[0m \u001b[40m\u001b[37m 8: 72: 18 \u001b[0m  \u001b[40m\u001b[37m 9: 54: 35 \u001b[0m\n",
      "     ┌─────┴──────┐            |                              \n",
      "\u001b[40m\u001b[37m 7: 78: 191 \u001b[0m \u001b[40m\u001b[37m 10: 38: 11 \u001b[0m \u001b[40m\u001b[37m 11: 30: 8 \u001b[0m\n",
      "\n",
      "\n",
      "\n",
      "Imagem and its max-tree representation. The indexes of max-tree nodes are shown as label in the imagem.\n"
     ]
    },
    {
     "data": {
      "image/png": "[encoded data removed]",
      "text/plain": [
       "<Figure size 800x600 with 1 Axes>"
      ]
     },
     "metadata": {},
     "output_type": "display_data"
    },
    {
     "name": "stdout",
     "output_type": "stream",
     "text": [
      "Each node is represented by <index>: <gray level>: <area>\n",
      "\n",
      "                                                        \u001b[40m\u001b[37m 0: 30: 625 \u001b[0m\n",
      "                                           ┌─────────────────┴─────────────────┐\n",
      "                                      \u001b[40m\u001b[37m 1: 38: 616 \u001b[0m                         \u001b[40m\u001b[37m 8: 90: 1 \u001b[0m\n",
      "                                           |                                         \n",
      "                                      \u001b[40m\u001b[37m 2: 54: 605 \u001b[0m                                   \n",
      "                   ┌───────────────────────┴──┬──────────┬──────────┐                \n",
      "              \u001b[40m\u001b[37m 3: 72: 567 \u001b[0m                \u001b[40m\u001b[37m 5: 80: 1 \u001b[0m \u001b[40m\u001b[37m 6: 80: 1 \u001b[0m \u001b[40m\u001b[37m 7: 80: 1 \u001b[0m           \n",
      "                   |                                                                 \n",
      "              \u001b[40m\u001b[37m 4: 78: 549 \u001b[0m                                                           \n",
      "     ┌─────────────┼──────────────┐                                                  \n",
      "\u001b[40m\u001b[37m 9: 126: 42 \u001b[0m \u001b[40m\u001b[37m 10: 126: 292 \u001b[0m \u001b[40m\u001b[37m 11: 161: 24 \u001b[0m                                            \n",
      "                   |                                                                 \n",
      "             \u001b[40m\u001b[37m 12: 203: 226 \u001b[0m                                                          \n",
      "                   |                                                                 \n",
      "              \u001b[40m\u001b[37m 13: 253: 9 \u001b[0m\n"
     ]
    }
   ],
   "source": [
    "img_jmiv =  np.array([\n",
    "[203,203,203,203,203,203,203,203,203,203,203,203,203,203,203,203,203,203,203,203,203,203,203,203,203],\n",
    "[203,203,203, 78, 78, 78, 78, 78, 78, 78, 78, 78, 78, 78, 78, 78, 78,203,203,203,203,203,203,203,203],\n",
    "[203,203, 78, 78, 78, 78, 78, 78, 78, 78, 78, 78, 78, 78, 78, 78, 78, 78,203,203,203,203,203,203,203],\n",
    "[203,203, 78, 78,126,126,126,126,126,126,126, 78, 78, 78, 78, 78, 78, 78,203,203,203, 54, 54,203,203],\n",
    "[203,203, 78, 78,126, 38, 38, 38,126,126,126, 78, 78, 78, 78, 78, 78, 78,203,203, 54, 54, 54, 54,203],\n",
    "[203,203, 78, 78,126, 38, 38, 38,126,126,126, 78, 78, 78, 78, 78, 78, 78,203, 54, 54, 54, 80, 54,203],\n",
    "[203,203, 78, 78,126, 38, 38, 38,126, 78, 78, 78, 78, 78, 78, 78, 78, 78,203, 54, 80, 54, 54, 54,203],\n",
    "[203, 78, 78, 78,126, 38, 38,126,126, 78, 78, 78,203,203,203,203,203,203,203, 54, 54, 54, 54,203,203],\n",
    "[203, 78, 78, 78,126,126,126,126, 78, 78,203,203,203,203,203,203,203,203, 54, 54, 54, 54, 54,203,203],\n",
    "[203, 78, 78, 78,126,126,126, 78, 78, 78,203,203,253,253,253,203,203,203, 54, 80, 54, 54, 54,203,203],\n",
    "[203, 78, 78, 78,126,126,126, 78, 78, 78,203,203,253,253,253,203,203, 54, 54, 54, 54, 54,203,203,203],\n",
    "[203, 78, 78, 78,126,126,126, 78, 78, 78,203,203,253,253,253,203,203,203, 54, 54, 54,203,203,203,203],\n",
    "[203, 78, 78, 78,126,126,126, 78, 78, 78, 78,203,203,203,203,203,203,203,203,203,203,203,203,203,203],\n",
    "[203, 78, 78, 78,126,126,126, 78, 78, 78, 78,203,203,203,126,126,126,126,203,203,203,203,203,203,203],\n",
    "[203, 78, 78, 78,126,126,126, 78, 78, 78, 78,203,203,126,126,126,126,126,126,126,126,126,203,203,203],\n",
    "[203, 78, 78, 78, 78, 78, 78, 78, 78, 78, 78,203,203,126,126,126,126,126,126, 72,126,126,203,203,203],\n",
    "[203, 78, 78, 78, 78, 78, 78,161,161,161, 78, 78,203,126,126,126,126,126,126, 72, 72,126,126,126,203],\n",
    "[203, 78, 78, 78, 78, 78,161,161,161,161,161, 78,203,126,126,126,126,126, 72, 72, 72,126,126,126,203],\n",
    "[203, 78, 78, 78, 78, 78,161, 30, 30, 30,161, 78,203,203,126,126,126, 72, 72, 72, 72, 72,126,126,203],\n",
    "[203, 78, 78, 78, 78, 78,161, 30, 90, 30,161, 78, 78,203,126,126, 72, 72, 72, 72, 72, 72, 72,126,203],\n",
    "[203, 78, 78, 78, 78, 78,161, 30, 30, 30,161, 78, 78,203,203,126,126,126,126,126,126,126,126,126,203],\n",
    "[203, 78, 78, 78, 78, 78,161,161,161,161,161, 78, 78, 78,203,203,126,126,126,126,126,126,126,203,203],\n",
    "[203, 78, 78, 78, 78, 78,161,161,161,161,161, 78, 78, 78,203,203,203,203,126,126,126,126,203,203,203],\n",
    "[203,203, 78, 78, 78, 78, 78, 78, 78, 78, 78, 78, 78, 78, 78,203,203,203,203,203,203,203,203,203,203],\n",
    "[203,203,203,203,203,203,203,203,203,203,203,203,203,203,203,203,203,203,203,203,203,203,203,203,203]\n",
    "], dtype=np.uint8)\n",
    "\n",
    "\n",
    "\n",
    "num_rows, num_cols = img_jmiv.shape\n",
    "img_jmiv_vector = img_jmiv.ravel()\n",
    "\n",
    "graph = mta.FlatZonesGraph(img_jmiv_vector, num_rows, num_cols, 1.5)\n",
    "maxtree = mta.ComponentTree(graph, True)\n",
    "mintree = mta.ComponentTree(graph, False)\n",
    "\n",
    "showLevelSets(img_jmiv)\n",
    "print(\"\\n\\n\")\n",
    "showTree(mintree)\n",
    "print(\"\\n\\n\")\n",
    "showTree(maxtree)\n"
   ]
  },
  {
   "cell_type": "markdown",
   "id": "583bf237-aa9e-4b49-80e5-7d1ab90b46e2",
   "metadata": {
    "id": "583bf237-aa9e-4b49-80e5-7d1ab90b46e2"
   },
   "source": [
    "# 4. Pruning a leaf of the max-tree and adjusting the min-tree"
   ]
  },
  {
   "cell_type": "markdown",
   "id": "642a153d-4353-4642-8b72-0822c0aa5027",
   "metadata": {
    "id": "642a153d-4353-4642-8b72-0822c0aa5027"
   },
   "source": [
    "### 4.1 Selecting the leaf"
   ]
  },
  {
   "cell_type": "code",
   "execution_count": 12,
   "id": "fc3e410f-859f-4cb8-b919-02cd6068c793",
   "metadata": {
    "colab": {
     "base_uri": "https://localhost:8080/",
     "height": 474
    },
    "id": "fc3e410f-859f-4cb8-b919-02cd6068c793",
    "outputId": "420f1759-08a3-4a39-bbc7-4b4de1de3f46"
   },
   "outputs": [
    {
     "name": "stdout",
     "output_type": "stream",
     "text": [
      "List of leaves of the min-tree:\n",
      "\t [NodeCT(id=8, level=72), NodeCT(id=9, level=54), NodeCT(id=7, level=78), NodeCT(id=10, level=38), NodeCT(id=11, level=30)] \n",
      "\n"
     ]
    },
    {
     "data": {
      "image/png": "[encoded data removed]",
      "text/plain": [
       "<Figure size 640x480 with 1 Axes>"
      ]
     },
     "metadata": {},
     "output_type": "display_data"
    }
   ],
   "source": [
    "leaves_mintree = mintree.leaves()\n",
    "print(\"List of leaves of the min-tree:\\n\\t\", leaves_mintree, \"\\n\")\n",
    "\n",
    "L = leaves_mintree[2]\n",
    "showNode(maxtree, L)"
   ]
  },
  {
   "cell_type": "code",
   "execution_count": 14,
   "id": "5ea99392-564e-4973-8df7-fcc0ddb4ad68",
   "metadata": {
    "colab": {
     "base_uri": "https://localhost:8080/"
    },
    "id": "5ea99392-564e-4973-8df7-fcc0ddb4ad68",
    "outputId": "071fee8f-5d41-4713-ecae-39ed91c8f6ba"
   },
   "outputs": [
    {
     "name": "stdout",
     "output_type": "stream",
     "text": [
      "f(p) = a =  78\n",
      "g(p) = b =  126\n",
      "F_λ: {78: [NodeCT(id=4, level=78)], 126: [NodeCT(id=10, level=126), NodeCT(id=9, level=126)]}\n",
      "F_λ>b: [11]\n"
     ]
    }
   ],
   "source": [
    "adjust = mta.ComponentTreeAdjustmentByLeaf(mintree, maxtree)\n",
    "\n",
    "oldGrayLevel = L.level\n",
    "newGrayLevel = L.parent.level\n",
    "\n",
    "(F_λ, F_λb) = adjust.buildCollections(maxtree, L, newGrayLevel)\n",
    "\n",
    "print(\"f(p) = a = \", oldGrayLevel)\n",
    "print(\"g(p) = b = \", newGrayLevel)\n",
    "print(\"F_λ:\", F_λ)\n",
    "print(\"F_λ>b:\", F_λb)"
   ]
  },
  {
   "cell_type": "code",
   "execution_count": 16,
   "id": "e2c1b954-91eb-4f9b-9045-e0484d79f966",
   "metadata": {
    "colab": {
     "base_uri": "https://localhost:8080/",
     "height": 1000
    },
    "id": "e2c1b954-91eb-4f9b-9045-e0484d79f966",
    "outputId": "ca251124-1024-43a1-fb1e-85ee2269028a"
   },
   "outputs": [
    {
     "name": "stdout",
     "output_type": "stream",
     "text": [
      "The reconstruction images are equals? True\n",
      "Imagem and its min-tree representation. The indexes of min-tree nodes are shown as label in the imagem.\n"
     ]
    },
    {
     "data": {
      "image/png": "[encoded data removed]",
      "text/plain": [
       "<Figure size 800x600 with 1 Axes>"
      ]
     },
     "metadata": {},
     "output_type": "display_data"
    },
    {
     "name": "stdout",
     "output_type": "stream",
     "text": [
      "Each node is represented by <index>: <gray level>: <area>\n",
      "\n",
      "                      \u001b[40m\u001b[37m 0: 253: 625 \u001b[0m\n",
      "                            |\n",
      "                      \u001b[40m\u001b[37m 1: 203: 616 \u001b[0m\n",
      "            ┌───────────────┴──┬────────────┐\n",
      "      \u001b[40m\u001b[37m 2: 161: 277 \u001b[0m       \u001b[40m\u001b[37m 4: 126: 84 \u001b[0m \u001b[40m\u001b[37m 6: 80: 38 \u001b[0m\n",
      "      ┌─────┴──────┐           |            |     \n",
      "\u001b[40m\u001b[37m 3: 126: 244 \u001b[0m  \u001b[40m\u001b[37m 5: 90: 9 \u001b[0m \u001b[40m\u001b[37m 8: 72: 18 \u001b[0m  \u001b[40m\u001b[37m 9: 54: 35 \u001b[0m\n",
      "      |            |                              \n",
      " \u001b[40m\u001b[37m 10: 38: 11 \u001b[0m \u001b[40m\u001b[37m 11: 30: 8 \u001b[0m\n",
      "\n",
      "\n",
      "\n",
      "Imagem and its max-tree representation. The indexes of max-tree nodes are shown as label in the imagem.\n"
     ]
    },
    {
     "data": {
      "image/png": "[encoded data removed]",
      "text/plain": [
       "<Figure size 800x600 with 1 Axes>"
      ]
     },
     "metadata": {},
     "output_type": "display_data"
    },
    {
     "name": "stdout",
     "output_type": "stream",
     "text": [
      "Each node is represented by <index>: <gray level>: <area>\n",
      "\n",
      "                                             \u001b[40m\u001b[37m 0: 30: 625 \u001b[0m\n",
      "                                  ┌───────────────┴───────────────┐\n",
      "                             \u001b[40m\u001b[37m 1: 38: 616 \u001b[0m                     \u001b[40m\u001b[37m 8: 90: 1 \u001b[0m\n",
      "                                  |                                     \n",
      "                             \u001b[40m\u001b[37m 2: 54: 605 \u001b[0m                               \n",
      "             ┌───────────────────┬┴─────────┬──────────┐                \n",
      "        \u001b[40m\u001b[37m 3: 72: 567 \u001b[0m         \u001b[40m\u001b[37m 5: 80: 1 \u001b[0m \u001b[40m\u001b[37m 6: 80: 1 \u001b[0m \u001b[40m\u001b[37m 7: 80: 1 \u001b[0m           \n",
      "             |                                                          \n",
      "       \u001b[40m\u001b[37m 10: 126: 549 \u001b[0m                                                   \n",
      "      ┌──────┴───────┐                                                  \n",
      "\u001b[40m\u001b[37m 12: 203: 226 \u001b[0m \u001b[40m\u001b[37m 11: 161: 24 \u001b[0m                                            \n",
      "      |                                                                 \n",
      " \u001b[40m\u001b[37m 13: 253: 9 \u001b[0m\n"
     ]
    }
   ],
   "source": [
    "#adjust = mta.ComponentTreeAdjustmentByLeaf(mintree, maxtree)\n",
    "\n",
    "adjust.updateTree(maxtree, L)\n",
    "\n",
    "#after, pruning the maxtree\n",
    "mintree.prunning(L)\n",
    "del L\n",
    "\n",
    "#reconstructed images of both trees\n",
    "img_g_vector_maxtree = maxtree.reconstructionImage()\n",
    "img_g_vector_mintree = mintree.reconstructionImage()\n",
    "\n",
    "print(\"The reconstruction images are equals?\", (img_g_vector_maxtree == img_g_vector_mintree).all() )\n",
    "showTree(mintree)\n",
    "print(\"\\n\\n\")\n",
    "showTree(maxtree)"
   ]
  },
  {
   "cell_type": "code",
   "execution_count": 18,
   "id": "006cb84a-5246-4468-a3d4-0dee23d40bfa",
   "metadata": {},
   "outputs": [
    {
     "name": "stdout",
     "output_type": "stream",
     "text": [
      "List of leaves of the min-tree:\n",
      "\t [NodeCT(id=8, level=72), NodeCT(id=9, level=54), NodeCT(id=10, level=38), NodeCT(id=11, level=30)] \n",
      "\n"
     ]
    },
    {
     "data": {
      "image/png": "[encoded data removed]",
      "text/plain": [
       "<Figure size 640x480 with 1 Axes>"
      ]
     },
     "metadata": {},
     "output_type": "display_data"
    }
   ],
   "source": [
    "leaves_mintree = mintree.leaves()\n",
    "print(\"List of leaves of the min-tree:\\n\\t\", leaves_mintree, \"\\n\")\n",
    "\n",
    "L = leaves_mintree[2]\n",
    "showNode(maxtree, L)"
   ]
  },
  {
   "cell_type": "code",
   "execution_count": 20,
   "id": "9a7b51c2-63a2-4b6a-8e74-a518e8930ff9",
   "metadata": {},
   "outputs": [
    {
     "name": "stdout",
     "output_type": "stream",
     "text": [
      "f(p) = a =  38\n",
      "g(p) = b =  126\n",
      "F_λ: {38: [NodeCT(id=1, level=38)], 54: [NodeCT(id=2, level=54)], 72: [NodeCT(id=3, level=72)], 126: [NodeCT(id=10, level=126)]}\n",
      "F_λ>b: []\n",
      "The reconstruction images are equals? True\n",
      "Imagem and its min-tree representation. The indexes of min-tree nodes are shown as label in the imagem.\n"
     ]
    },
    {
     "data": {
      "image/png": "[encoded data removed]",
      "text/plain": [
       "<Figure size 800x600 with 1 Axes>"
      ]
     },
     "metadata": {},
     "output_type": "display_data"
    },
    {
     "name": "stdout",
     "output_type": "stream",
     "text": [
      "Each node is represented by <index>: <gray level>: <area>\n",
      "\n",
      "                      \u001b[40m\u001b[37m 0: 253: 625 \u001b[0m\n",
      "                            |\n",
      "                      \u001b[40m\u001b[37m 1: 203: 616 \u001b[0m\n",
      "            ┌───────────────┴──┬────────────┐\n",
      "      \u001b[40m\u001b[37m 2: 161: 277 \u001b[0m       \u001b[40m\u001b[37m 4: 126: 84 \u001b[0m \u001b[40m\u001b[37m 6: 80: 38 \u001b[0m\n",
      "      ┌─────┴──────┐           |            |     \n",
      "\u001b[40m\u001b[37m 3: 126: 244 \u001b[0m  \u001b[40m\u001b[37m 5: 90: 9 \u001b[0m \u001b[40m\u001b[37m 8: 72: 18 \u001b[0m  \u001b[40m\u001b[37m 9: 54: 35 \u001b[0m\n",
      "                   |                              \n",
      "              \u001b[40m\u001b[37m 11: 30: 8 \u001b[0m\n",
      "\n",
      "\n",
      "\n",
      "Imagem and its max-tree representation. The indexes of max-tree nodes are shown as label in the imagem.\n"
     ]
    },
    {
     "data": {
      "image/png": "[encoded data removed]",
      "text/plain": [
       "<Figure size 800x600 with 1 Axes>"
      ]
     },
     "metadata": {},
     "output_type": "display_data"
    },
    {
     "name": "stdout",
     "output_type": "stream",
     "text": [
      "Each node is represented by <index>: <gray level>: <area>\n",
      "\n",
      "               \u001b[40m\u001b[37m 0: 30: 625 \u001b[0m\n",
      "    ┌───────────────┴───────────────┐\n",
      "\u001b[40m\u001b[37m 8: 90: 1 \u001b[0m                     \u001b[40m\u001b[37m 2: 54: 616 \u001b[0m                             \n",
      "               ┌──────────┬─────────┴┬───────────────────┐              \n",
      "           \u001b[40m\u001b[37m 5: 80: 1 \u001b[0m \u001b[40m\u001b[37m 6: 80: 1 \u001b[0m \u001b[40m\u001b[37m 7: 80: 1 \u001b[0m         \u001b[40m\u001b[37m 3: 72: 578 \u001b[0m        \n",
      "                                                         |              \n",
      "                                                   \u001b[40m\u001b[37m 10: 126: 560 \u001b[0m       \n",
      "                                                  ┌──────┴───────┐      \n",
      "                                            \u001b[40m\u001b[37m 12: 203: 226 \u001b[0m \u001b[40m\u001b[37m 11: 161: 24 \u001b[0m\n",
      "                                                  |                     \n",
      "                                             \u001b[40m\u001b[37m 13: 253: 9 \u001b[0m\n"
     ]
    }
   ],
   "source": [
    "\n",
    "oldGrayLevel = L.level\n",
    "newGrayLevel = L.parent.level\n",
    "\n",
    "(F_λ, F_λb) = adjust.buildCollections(maxtree, L, newGrayLevel)\n",
    "\n",
    "print(\"f(p) = a = \", oldGrayLevel)\n",
    "print(\"g(p) = b = \", newGrayLevel)\n",
    "print(\"F_λ:\", F_λ)\n",
    "print(\"F_λ>b:\", F_λb)\n",
    "\n",
    "\n",
    "\n",
    "adjust.updateTree(maxtree, L)\n",
    "\n",
    "#after, pruning the maxtree\n",
    "mintree.prunning(L)\n",
    "del L\n",
    "\n",
    "#reconstructed images of both trees\n",
    "img_g_vector_maxtree = maxtree.reconstructionImage()\n",
    "img_g_vector_mintree = mintree.reconstructionImage()\n",
    "\n",
    "print(\"The reconstruction images are equals?\", (img_g_vector_maxtree == img_g_vector_mintree).all() )\n",
    "showTree(mintree)\n",
    "print(\"\\n\\n\")\n",
    "showTree(maxtree)"
   ]
  },
  {
   "cell_type": "code",
   "execution_count": null,
   "id": "c240579f-8644-40ca-a696-e361f0116f6e",
   "metadata": {},
   "outputs": [],
   "source": []
  }
 ],
 "metadata": {
  "colab": {
   "include_colab_link": true,
   "provenance": []
  },
  "kernelspec": {
   "display_name": "Python 3 (ipykernel)",
   "language": "python",
   "name": "python3"
  },
  "language_info": {
   "codemirror_mode": {
    "name": "ipython",
    "version": 3
   },
   "file_extension": ".py",
   "mimetype": "text/x-python",
   "name": "python",
   "nbconvert_exporter": "python",
   "pygments_lexer": "ipython3",
   "version": "3.9.19"
  }
 },
 "nbformat": 4,
 "nbformat_minor": 5
}
