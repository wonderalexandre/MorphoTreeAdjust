{
  "cells": [
    {
      "cell_type": "markdown",
      "metadata": {
        "id": "view-in-github",
        "colab_type": "text"
      },
      "source": [
        "<a href=\"https://colab.research.google.com/github/wonderalexandre/MorphoTreeAdjust/blob/main/notebooks/morphoTreeAdjust_example_subtree.ipynb\" target=\"_parent\"><img src=\"https://colab.research.google.com/assets/colab-badge.svg\" alt=\"Open In Colab\"/></a>"
      ]
    },
    {
      "cell_type": "markdown",
      "id": "5ffc9dd6-f3f6-40ae-9148-98da1ea64ab4",
      "metadata": {
        "id": "5ffc9dd6-f3f6-40ae-9148-98da1ea64ab4"
      },
      "source": [
        "# Theoretical considerations\n",
        "\n",
        "**Characterization of the Subtree $S$**\n",
        "\n",
        "- Let $S_\\text{root}$ be a node of ${T}^{min}_{f}$.\n",
        "- We define the subtree $S$ as: $S = \\{\\tau \\in {T}^{min}_{f} \\mid \\tau \\subseteq S_{\\text{root}} \\}$.\n",
        "- Note that the flatezones present in $S$ constitute a partition of the connected component $S_\\text{root}$.\n",
        "\n",
        "**Definition of the Corresponding Max-Tree Nodes**\n",
        "- We define the set of max-tree nodes corresponding to $S$ as:\n",
        "$$\n",
        "\\tau_S = \\{ \\text{flat}({{T}^{max}_{f}, p}) \\mid p \\in S_\\text{root} \\}\n",
        "$$\n",
        "\n",
        "- We define $\\tau^{\\star}$ as the node in $\\tau_S$ with the **highest** gray-level value:\n",
        "$$\n",
        "\\tau^{\\star} = \\arg\\max_{\\tau \\in \\tau_S}\\{ \\text{level}({T}^{max}_{f}, \\tau) \\}\n",
        "$$\n",
        "\n",
        "**Definition of the Interval [a, b]**\n",
        "\n",
        "- We define the interval $[a, b]$ as:\n",
        "    - $a = \\text{level}({T}^{max}_{f}, \\tau^{\\star})$\n",
        "    - $b = \\text{level}({T}^{min}_{f}, \\text{Parent}( S_\\text{root} ))$\n",
        "\n",
        "**Definitions of collections $F_\\lambda$ and $F_{\\lambda > b}$**\n",
        "\n",
        "Previously, we defined the sets $F_\\lambda$ and $F_{\\lambda > b}$ in terms of nodes in ${T}^{max}_{f}$ whose gray levels fall within the interval $[a, b]$ and that are $\\alpha$-connected to the leaf $L$.\n",
        "Now,\n",
        "- $F_\\lambda$ contains all nodes in $\\tau_S$ that are $\\alpha$-connected to a flat zone of $S$ and have level $a \\leq \\lambda \\leq b$.\n",
        "- $F_{\\lambda > b}$ contains nodes of ${T}^{max}_{f}$ whose levels are greater than $b$ and are $\\alpha$-connected to a flat zone of $S$.\n",
        "\n",
        "**Node updating**\n",
        "\n",
        "- When $\\lambda = b$, we merge the set $F_b$ with all flat zones present in the subtree $S$, forming the new node:\n",
        "$$\n",
        "\\tau_b = S \\cup \\bigcup F_b \\cup \\bigcup F_{\\lambda > b}\n",
        "$$\n",
        "\n",
        "   > However, this operation can lead to the **extinction of some nodes** in  $F_{\\lambda}$.\n",
        "    Specifically: if a node $\\tau \\in F_{\\lambda} \\cap \\tau_S$, (with $\\lambda \\neq b$), has all its cnps is merged into $\\tau_b$, then $\\tau$ ceases to exist as an individual node in ${T}^{min}_{g}$.\n",
        "    \n",
        "- When $a+1 \\leq \\lambda \\leq b-1$ is same but consider into account if the node has been extinguished.\n",
        "\n",
        "- When $\\lambda = a$ we have $\\tau_a = \\tau^{\\star}$.\n",
        "\n",
        "**Edges updating**\n",
        "- Similarly, but consider if the node has been extinguished."
      ]
    },
    {
      "cell_type": "markdown",
      "id": "91c62304-7e82-49ab-9830-575459a6b06f",
      "metadata": {
        "id": "91c62304-7e82-49ab-9830-575459a6b06f"
      },
      "source": [
        "# 1. Install Library"
      ]
    },
    {
      "cell_type": "code",
      "execution_count": 1,
      "id": "ff43bae8-0956-4930-bd9c-8eadc3286131",
      "metadata": {
        "colab": {
          "base_uri": "https://localhost:8080/"
        },
        "id": "ff43bae8-0956-4930-bd9c-8eadc3286131",
        "outputId": "38cb9fc1-ea68-4e4a-9ec1-4bc3955e5254"
      },
      "outputs": [
        {
          "output_type": "stream",
          "name": "stdout",
          "text": [
            "Collecting morphoTreeAdjust\n",
            "  Downloading morphotreeadjust-0.1.6.tar.gz (40 kB)\n",
            "\u001b[?25l     \u001b[90m━━━━━━━━━━━━━━━━━━━━━━━━━━━━━━━━━━━━━━━━\u001b[0m \u001b[32m0.0/40.8 kB\u001b[0m \u001b[31m?\u001b[0m eta \u001b[36m-:--:--\u001b[0m\r\u001b[2K     \u001b[90m━━━━━━━━━━━━━━━━━━━━━━━━━━━━━━━━━━━━━━━━\u001b[0m \u001b[32m40.8/40.8 kB\u001b[0m \u001b[31m2.2 MB/s\u001b[0m eta \u001b[36m0:00:00\u001b[0m\n",
            "\u001b[?25h  Preparing metadata (setup.py) ... \u001b[?25l\u001b[?25hdone\n",
            "Building wheels for collected packages: morphoTreeAdjust\n",
            "  Building wheel for morphoTreeAdjust (setup.py) ... \u001b[?25l\u001b[?25hdone\n",
            "  Created wheel for morphoTreeAdjust: filename=morphoTreeAdjust-0.1.6-cp311-cp311-linux_x86_64.whl size=191155 sha256=664357f96983cec560400a6ac2ef5a9c33a4a3292da9eea1f969cdb5ffb0bbe3\n",
            "  Stored in directory: /root/.cache/pip/wheels/43/c4/2e/2e6042d42b8dd17a221868cd089c660cc85545d582cc189160\n",
            "Successfully built morphoTreeAdjust\n",
            "Installing collected packages: morphoTreeAdjust\n",
            "Successfully installed morphoTreeAdjust-0.1.6\n",
            "Collecting PrettyPrintTree\n",
            "  Downloading PrettyPrintTree-2.0.1-py3-none-any.whl.metadata (9.6 kB)\n",
            "Collecting colorama (from PrettyPrintTree)\n",
            "  Downloading colorama-0.4.6-py2.py3-none-any.whl.metadata (17 kB)\n",
            "Collecting cmd2 (from PrettyPrintTree)\n",
            "  Downloading cmd2-2.5.11-py3-none-any.whl.metadata (17 kB)\n",
            "Requirement already satisfied: pyperclip>=1.8 in /usr/local/lib/python3.11/dist-packages (from cmd2->PrettyPrintTree) (1.9.0)\n",
            "Requirement already satisfied: wcwidth>=0.2.10 in /usr/local/lib/python3.11/dist-packages (from cmd2->PrettyPrintTree) (0.2.13)\n",
            "Downloading PrettyPrintTree-2.0.1-py3-none-any.whl (14 kB)\n",
            "Downloading cmd2-2.5.11-py3-none-any.whl (152 kB)\n",
            "\u001b[2K   \u001b[90m━━━━━━━━━━━━━━━━━━━━━━━━━━━━━━━━━━━━━━━━\u001b[0m \u001b[32m152.8/152.8 kB\u001b[0m \u001b[31m7.6 MB/s\u001b[0m eta \u001b[36m0:00:00\u001b[0m\n",
            "\u001b[?25hDownloading colorama-0.4.6-py2.py3-none-any.whl (25 kB)\n",
            "Installing collected packages: colorama, cmd2, PrettyPrintTree\n",
            "Successfully installed PrettyPrintTree-2.0.1 cmd2-2.5.11 colorama-0.4.6\n"
          ]
        }
      ],
      "source": [
        "!pip install morphoTreeAdjust\n",
        "!pip install PrettyPrintTree"
      ]
    },
    {
      "cell_type": "markdown",
      "id": "59559460-1879-4add-b09d-b1083af31258",
      "metadata": {
        "id": "59559460-1879-4add-b09d-b1083af31258"
      },
      "source": [
        "# 2. Importing library and defining plotting functions"
      ]
    },
    {
      "cell_type": "code",
      "execution_count": 2,
      "id": "b222cb83-f1ec-49b9-93fe-26d4f26b35ed",
      "metadata": {
        "id": "b222cb83-f1ec-49b9-93fe-26d4f26b35ed"
      },
      "outputs": [],
      "source": [
        "# @title\n",
        "import numpy as np\n",
        "import cv2 as cv\n",
        "import matplotlib.pyplot as plt\n",
        "import matplotlib.cm as cm\n",
        "import morphoTreeAdjust as mta\n",
        "\n",
        "from PrettyPrint import PrettyPrintTree\n",
        "from colorama import Fore, Back\n",
        "\n",
        "printTree = PrettyPrintTree(\n",
        "    lambda node: node.children,\n",
        "    lambda node: (str(node.id) + \": \" +str(node.level) +\": \" +str(len(node.cnps))), color=Back.BLACK + Fore.WHITE,\n",
        "    start_message=lambda node: f'Each node is represented by <index>: <gray level>: |cnps|\\n'\n",
        ")\n",
        "\n",
        "def showLevelSets(img_f):\n",
        "    print(\"Upper and lower level sets where in the black (highlighted are cnps) are foreground pixels and white are background pixels\")\n",
        "    t_values = np.unique(img_f)\n",
        "    len = np.size(t_values)\n",
        "    max_value = np.max(img_f)\n",
        "    fig, axes = plt.subplots(len, 2, figsize=(5, 15))\n",
        "\n",
        "    # Preenchendo os subplots com imagens limiares\n",
        "    for i, t in enumerate(t_values):\n",
        "        # Primeira coluna: img_f >= t\n",
        "        thr = t_values[i]\n",
        "        img_threshold_ge = np.where(img_f > thr, 1, 0)\n",
        "        img_threshold_cnps = np.where(img_f == thr, 1, 0)\n",
        "\n",
        "        axes[i, 0].imshow(img_threshold_ge, cmap='gray_r', vmax=1, vmin=0, interpolation='nearest')\n",
        "        axes[i, 0].imshow(img_threshold_cnps, cmap='gray_r', vmax=1, vmin=0, alpha=0.4, interpolation='nearest')\n",
        "        axes[i, 0].set_title(f'image ≥ {t}')\n",
        "        axes[i, 0].axis('off')\n",
        "        axes[i, 0].add_patch(plt.Rectangle((0, 0), img_threshold_ge.shape[1] - 1, img_threshold_ge.shape[0] - 1,\n",
        "                                   edgecolor='red', linewidth=0.5, fill=False))\n",
        "        # Segunda coluna: img_f <= t\n",
        "        thr = t_values[len - i -1]\n",
        "        img_threshold_le = np.where(img_f < thr, 1, 0)\n",
        "        img_threshold_cnps = np.where(img_f == thr, 1, 0)\n",
        "        axes[i, 1].imshow(img_threshold_le, cmap='gray_r',vmax=1, vmin=0, interpolation='nearest')\n",
        "        axes[i, 1].imshow(img_threshold_cnps, cmap='gray_r', vmax=1, vmin=0, alpha=0.4, interpolation='nearest')\n",
        "        axes[i, 1].set_title(f'image ≤ {thr}')\n",
        "        axes[i, 1].axis('off')\n",
        "        axes[i, 1].add_patch(plt.Rectangle((0, 0), img_threshold_le.shape[1] - 1, img_threshold_le.shape[0] - 1,\n",
        "                                   edgecolor='blue', linewidth=0.5, fill=False))\n",
        "\n",
        "    # Ajuste de layout para evitar sobreposição\n",
        "    plt.tight_layout()\n",
        "    plt.show()\n",
        "\n",
        "\n",
        "def computeCentroid(cnps):\n",
        "    closest_pixel = cnps[len(cnps)//2]\n",
        "    px, py = closest_pixel // num_cols, closest_pixel % num_cols\n",
        "    return px, py\n",
        "\n",
        "def showTree(tree):\n",
        "    if(tree.isMaxtree):\n",
        "        print(\"Imagem and its max-tree representation. The indexes of max-tree nodes are shown as label in the imagem.\")\n",
        "    else:\n",
        "        print(\"Imagem and its min-tree representation. The indexes of min-tree nodes are shown as label in the imagem.\")\n",
        "    img_vector = tree.reconstructionImage()\n",
        "    ids_position = []\n",
        "\n",
        "    for node in tree.root.BFSTraversal():\n",
        "      px, py = computeCentroid(node.cnps)\n",
        "      ids_position.append( (node.id, px, py) )\n",
        "\n",
        "    # Plota a imagem\n",
        "    plt.figure(figsize=(8, 6))\n",
        "    image = img_vector.reshape(tree.numRows, tree.numCols)\n",
        "    # Adicionando uma borda ao redor da imagem\n",
        "    ax = plt.gca()  # Obtém o eixo atual\n",
        "    ax.add_patch(plt.Rectangle((0, 0), image.shape[1] - 1, image.shape[0] - 1,\n",
        "                               edgecolor='red', linewidth=0.5, fill=False))\n",
        "\n",
        "    plt.imshow(image, cmap='gray')\n",
        "\n",
        "    # Adiciona rótulos nos centróides fictícios\n",
        "    for i, (id, x, y) in enumerate(ids_position):\n",
        "        plt.text(y, x, f'•{id}', color='red', fontsize=9)\n",
        "\n",
        "\n",
        "    plt.axis('off')\n",
        "    plt.show()\n",
        "    printTree(tree.root)\n",
        "\n",
        "def showNode(node, showCNPs=False):\n",
        "    image = node.recNode().reshape(num_rows, num_cols)\n",
        "    ax = plt.gca()  # Obtém o eixo atual\n",
        "    ax.imshow(image, cmap='gray_r')\n",
        "    ax.add_patch(plt.Rectangle((0, 0), image.shape[1] - 1, image.shape[0] - 1,\n",
        "                               edgecolor='red', linewidth=0.5, fill=False))\n",
        "    if showCNPs:\n",
        "        for p in node.cnps:\n",
        "            row, col = divmod(p, num_cols)  # Converter índice linear para coordenadas 2D\n",
        "            ax.scatter(col, row, color='red', s=5)\n",
        "\n",
        "\n",
        "    ax.set_title(f\"{node}\")\n",
        "    ax.axis(\"off\")\n",
        "\n",
        "def buildMapIds(tree):\n",
        "    mapIds = np.zeros(num_rows*num_cols)\n",
        "    for p in range(num_rows*num_cols):\n",
        "        mapIds[p] = tree.getSC(p).id\n",
        "    return mapIds\n",
        "\n",
        "\n",
        "import matplotlib.pyplot as plt\n",
        "import matplotlib.patches as patches\n",
        "import matplotlib.cm as cm\n",
        "\n",
        "def getNodeContour(tree, node):\n",
        "    adj = mta.AdjacencyRelation(num_rows, num_cols, 1.5)  # Relação de adjacência\n",
        "    contour = []\n",
        "\n",
        "    for idP in node.cnps:  # Percorre os pixels do nó\n",
        "        for idQ in adj.getAdjPixels(idP):  # Verifica seus vizinhos\n",
        "            sc_p = tree.getSC(idP)\n",
        "            sc_q = tree.getSC(idQ)\n",
        "\n",
        "            if sc_p and sc_q and sc_p.id != sc_q.id:  # Verifica se são nós diferentes\n",
        "                pixel_x = idQ // num_cols\n",
        "                pixel_y = idQ % num_cols\n",
        "                contour.append((pixel_y, pixel_x))  # (x=coluna, y=linha)\n",
        "\n",
        "    return contour\n",
        "\n",
        "\n",
        "\n",
        "def showNodesOfSubtree(tree, root):\n",
        "    image = tree.reconstructionImage().reshape(num_rows, num_cols)\n",
        "    adj = mta.AdjacencyRelation(num_rows, num_cols, 1.5)\n",
        "    fig, ax = plt.subplots()\n",
        "    ax.imshow(image, cmap='gray')\n",
        "\n",
        "    # Desenha a borda do retângulo em vermelho\n",
        "    ax.add_patch(patches.Rectangle((0, 0), image.shape[1] - 1, image.shape[0] - 1,\n",
        "                                   edgecolor='red', linewidth=0.5, fill=False))\n",
        "\n",
        "    colormap = plt.colormaps['Paired']  # Obtém a paleta de cores (versão compatível)\n",
        "    ids_position = []\n",
        "    map_adj = {}\n",
        "\n",
        "    for node in root.BFSTraversal():\n",
        "        contours_x = []\n",
        "        contours_y = []\n",
        "        color = colormap(node.id % 10)  # Seleciona cor baseada no ID do nó\n",
        "\n",
        "        # Obtém um ponto de referência do nó para exibir seu ID\n",
        "        (px, py) = computeCentroid(node.cnps)\n",
        "        ids_position.append((node.id, px, py, color))\n",
        "\n",
        "        contour = getNodeContour(tree, node)\n",
        "        if contour:\n",
        "            contour_x, contour_y = zip(*contour) if contour else ([], [])\n",
        "            ax.scatter(contour_x, contour_y, color=color, s=0.5, label=f\"Node {node.id}\")\n",
        "\n",
        "        for idP in node.cnps:\n",
        "            for idQ in adj.getAdjPixels(idP):\n",
        "                sc_p = tree.getSC(idP)\n",
        "                sc_q = tree.getSC(idQ)\n",
        "                if sc_p and sc_q and sc_p.id != sc_q.id:\n",
        "                    if idQ not in map_adj:\n",
        "                        nodeQ = sc_q\n",
        "                        (qx, qy) = computeCentroid(nodeQ.cnps)\n",
        "                        map_adj[idQ] = (nodeQ.id, qx, qy)\n",
        "\n",
        "\n",
        "\n",
        "\n",
        "    # Plota os IDs dos nós vizinhos (em vermelho)\n",
        "    for node_id, x, y in map_adj.values():\n",
        "        plt.text(y, x, f'{node_id}', color='red', fontsize=9)\n",
        "\n",
        "    # Plota os IDs dos nós no centro\n",
        "    for node_id, x, y, color in ids_position:\n",
        "        plt.text(y, x, f'•{node_id}•', color=color, fontsize=9)\n",
        "\n",
        "\n",
        "    ax.set_title(f\"Corresponding max-tree nodes and their neighbors\")\n",
        "    ax.axis(\"off\")  # Remove os eixos\n",
        "    plt.show()\n"
      ]
    },
    {
      "cell_type": "markdown",
      "id": "59473491-70e7-4708-ae01-986c7a200da0",
      "metadata": {
        "id": "59473491-70e7-4708-ae01-986c7a200da0"
      },
      "source": [
        "# 3. Creating the mintree and maxtree of an input image"
      ]
    },
    {
      "cell_type": "markdown",
      "id": "57017205-89e8-48f2-80ca-f0ab021103b0",
      "metadata": {
        "id": "57017205-89e8-48f2-80ca-f0ab021103b0"
      },
      "source": [
        "- Image of the JMIV paper"
      ]
    },
    {
      "cell_type": "code",
      "execution_count": 3,
      "id": "TIKz5B0Hm5Ob",
      "metadata": {
        "colab": {
          "base_uri": "https://localhost:8080/",
          "height": 1000
        },
        "id": "TIKz5B0Hm5Ob",
        "outputId": "45dd51d2-4297-4755-d950-4876df41e6a7"
      },
      "outputs": [
        {
          "output_type": "stream",
          "name": "stdout",
          "text": [
            "Imagem and its min-tree representation. The indexes of min-tree nodes are shown as label in the imagem.\n"
          ]
        },
        {
          "output_type": "display_data",
          "data": {
            "text/plain": [
              "<Figure size 800x600 with 1 Axes>"
            ],
            "image/png": "[encoded data removed]"
          },
          "metadata": {}
        },
        {
          "output_type": "stream",
          "name": "stdout",
          "text": [
            "Each node is represented by <index>: <gray level>: |cnps|\n",
            "\n",
            "                                                                                                \u001b[40m\u001b[37m 0: 8: 166 \u001b[0m\n",
            "                                                                                                     |\n",
            "                                                                                                \u001b[40m\u001b[37m 1: 7: 180 \u001b[0m\n",
            "                                                                                                     |\n",
            "                                                                                                \u001b[40m\u001b[37m 2: 6: 1141 \u001b[0m\n",
            "                                                                                       ┌─────────────┴──────────────┐\n",
            "                                                                                  \u001b[40m\u001b[37m 3: 5: 392 \u001b[0m                  \u001b[40m\u001b[37m 17: 0: 44 \u001b[0m\n",
            "                                                                      ┌────────────────┴────────────────┐                 \n",
            "                                                                 \u001b[40m\u001b[37m 4: 4: 493 \u001b[0m                       \u001b[40m\u001b[37m 10: 1: 23 \u001b[0m            \n",
            "                                                  ┌───────────────────┴────────┬───────────┐                              \n",
            "                                             \u001b[40m\u001b[37m 5: 3: 598 \u001b[0m                   \u001b[40m\u001b[37m 9: 1: 42 \u001b[0m \u001b[40m\u001b[37m 12: 1: 244 \u001b[0m                        \n",
            "                                 ┌────────────────┴─────────────────┐                                                     \n",
            "                            \u001b[40m\u001b[37m 6: 2: 620 \u001b[0m                        \u001b[40m\u001b[37m 13: 1: 56 \u001b[0m                                                \n",
            "           ┌──────────────────┬──┴─────────┬───────────┐                                                                  \n",
            "      \u001b[40m\u001b[37m 7: 1: 483 \u001b[0m        \u001b[40m\u001b[37m 8: 1: 475 \u001b[0m  \u001b[40m\u001b[37m 11: 1: 78 \u001b[0m \u001b[40m\u001b[37m 18: 0: 134 \u001b[0m                                                            \n",
            "     ┌─────┴──────┐           |                                                                                           \n",
            "\u001b[40m\u001b[37m 14: 0: 540 \u001b[0m \u001b[40m\u001b[37m 16: 0: 38 \u001b[0m \u001b[40m\u001b[37m 15: 0: 417 \u001b[0m\n",
            "\n",
            "\n",
            "\n",
            "Imagem and its max-tree representation. The indexes of max-tree nodes are shown as label in the imagem.\n"
          ]
        },
        {
          "output_type": "display_data",
          "data": {
            "text/plain": [
              "<Figure size 800x600 with 1 Axes>"
            ],
            "image/png": "[encoded data removed]"
          },
          "metadata": {}
        },
        {
          "output_type": "stream",
          "name": "stdout",
          "text": [
            "Each node is represented by <index>: <gray level>: |cnps|\n",
            "\n",
            "                                                                     \u001b[40m\u001b[37m 0: 0: 1173 \u001b[0m\n",
            "                            ┌─────────────────────────────────────────────┴──────────────────────────────────────────────┐\n",
            "                       \u001b[40m\u001b[37m 1: 1: 415 \u001b[0m                                                                                  \u001b[40m\u001b[37m 2: 1: 986 \u001b[0m                                \n",
            "                ┌───────────┴────────────┐                                               ┌───────────────────────────────┴────────────┬──────────────────┐     \n",
            "           \u001b[40m\u001b[37m 6: 3: 221 \u001b[0m               \u001b[40m\u001b[37m 7: 4: 43 \u001b[0m                                     \u001b[40m\u001b[37m 3: 2: 620 \u001b[0m                                  \u001b[40m\u001b[37m 4: 3: 112 \u001b[0m        \u001b[40m\u001b[37m 13: 5: 44 \u001b[0m\n",
            "    ┌───────────┼────────────┐           |                     ┌─────────────────────────┴┬───────────┬────────────┐            ┌─────┴──────┐           |     \n",
            "\u001b[40m\u001b[37m 9: 4: 72 \u001b[0m \u001b[40m\u001b[37m 18: 6: 112 \u001b[0m \u001b[40m\u001b[37m 22: 7: 59 \u001b[0m \u001b[40m\u001b[37m 14: 6: 431 \u001b[0m          \u001b[40m\u001b[37m 5: 3: 265 \u001b[0m                \u001b[40m\u001b[37m 8: 4: 378 \u001b[0m \u001b[40m\u001b[37m 10: 5: 172 \u001b[0m \u001b[40m\u001b[37m 16: 6: 373 \u001b[0m \u001b[40m\u001b[37m 11: 5: 146 \u001b[0m \u001b[40m\u001b[37m 20: 7: 53 \u001b[0m \u001b[40m\u001b[37m 19: 6: 36 \u001b[0m\n",
            "                                                      ┌────────┴────────┐                             |                                                        \n",
            "                                                 \u001b[40m\u001b[37m 12: 5: 30 \u001b[0m       \u001b[40m\u001b[37m 17: 6: 66 \u001b[0m                   \u001b[40m\u001b[37m 15: 6: 123 \u001b[0m                                                  \n",
            "                                                      |           ┌─────┴─────┐                                                                                \n",
            "                                                 \u001b[40m\u001b[37m 23: 8: 96 \u001b[0m \u001b[40m\u001b[37m 21: 7: 68 \u001b[0m \u001b[40m\u001b[37m 24: 8: 70 \u001b[0m\n"
          ]
        }
      ],
      "source": [
        "img_jmiv = np.array([\n",
        "    [6,6,6,6,6,6,6,6,6,6,6,6,6,6,6,6,6,6,6,1,1,1,1,1,1,1,0,0,0,0,0,0,0,0,1,1,1,1,1,1,6,6,6,6,6,6,6,6,6,6,5,5,5,5,2,2,2,2,2,2,2,1,1,1,1,1,1,1,1,1,1,1,1,1,1,0,0,0,0,0,0,0,0,7,7,7,7,7,7,7,7,7],\n",
        "    [6,6,6,6,6,6,6,6,6,6,6,6,6,6,6,6,6,6,6,1,1,1,1,1,1,1,0,0,0,0,0,0,0,0,1,1,1,1,1,1,6,6,6,6,6,6,6,6,6,6,5,5,5,5,2,2,2,2,2,2,2,1,1,1,1,1,1,1,1,1,1,1,1,1,1,0,0,0,0,0,0,0,0,7,7,7,7,7,7,7,7,7],\n",
        "    [6,6,6,6,6,6,6,6,6,6,6,6,6,6,6,6,6,6,6,1,1,1,1,1,1,1,0,0,0,0,0,0,0,0,1,1,1,1,1,1,6,6,6,6,6,6,6,6,6,6,5,5,5,5,2,2,2,2,2,2,2,1,1,1,1,1,1,1,1,1,1,1,1,1,1,0,0,0,0,0,0,0,0,7,7,7,7,7,7,7,7,7],\n",
        "    [6,6,6,6,6,6,6,6,6,6,6,6,6,6,6,6,6,6,6,1,1,1,1,1,1,1,0,0,0,0,0,0,0,1,1,1,1,1,1,1,6,6,6,6,6,6,6,6,6,6,5,5,5,5,2,2,2,2,2,2,2,1,1,1,1,1,1,1,1,1,1,1,1,1,1,0,0,0,0,0,0,0,0,7,7,7,7,7,7,7,7,7],\n",
        "    [6,6,6,6,6,6,6,6,6,6,6,6,6,6,6,6,6,6,6,1,1,1,1,1,1,1,0,0,0,0,0,0,0,1,1,1,1,1,1,1,6,6,6,6,6,6,6,6,6,6,5,5,5,5,2,2,2,2,2,2,2,1,1,1,1,1,1,1,1,1,1,1,1,1,1,0,0,0,0,0,0,0,0,7,7,7,7,7,7,7,7,7],\n",
        "    [6,6,6,6,6,6,6,6,6,6,6,6,6,6,6,6,6,6,6,1,1,1,1,1,1,1,0,0,0,0,0,0,0,1,1,1,1,1,1,1,6,6,6,6,6,6,6,6,6,6,5,5,5,5,2,2,2,2,2,2,2,1,1,1,1,1,1,1,1,1,1,1,1,1,1,0,0,0,0,0,0,0,0,3,3,3,7,7,7,7,7,7],\n",
        "    [6,6,6,6,6,6,6,6,6,6,6,6,6,6,6,6,6,6,6,1,1,1,1,1,1,1,0,0,0,0,0,0,0,1,1,1,1,1,1,6,6,6,6,6,6,6,6,6,6,6,5,5,5,5,2,2,2,2,2,2,2,2,2,1,1,1,1,1,1,1,1,1,1,1,1,0,0,0,0,0,0,0,0,3,3,3,3,3,3,3,7,7],\n",
        "    [6,6,6,6,6,6,6,6,6,6,6,6,6,6,6,6,6,6,6,1,1,1,1,1,1,1,0,0,0,0,0,0,0,1,1,1,1,1,1,6,6,6,6,6,6,6,6,6,6,6,5,5,5,5,2,2,2,2,2,2,2,2,2,1,1,1,1,1,1,1,1,1,1,1,1,0,0,0,0,0,0,0,0,3,3,3,3,3,3,3,3,3],\n",
        "    [6,6,6,6,6,6,6,1,1,1,1,1,1,6,6,6,6,6,6,1,1,1,1,1,1,1,0,0,0,0,0,0,0,1,1,1,1,1,1,6,6,6,6,6,6,6,6,6,6,5,5,5,5,5,2,2,2,2,2,2,2,2,2,1,1,1,1,1,1,1,1,1,1,1,1,0,0,0,0,0,0,0,0,3,3,3,3,3,3,3,3,3],\n",
        "    [6,6,6,6,6,6,6,1,1,1,1,1,1,1,6,6,6,6,6,1,1,1,1,1,1,1,0,0,0,0,0,0,0,1,1,1,1,1,1,6,6,6,6,6,6,6,6,6,6,5,5,5,5,5,2,2,2,2,2,2,2,2,2,2,1,1,1,1,1,1,1,1,1,1,1,0,0,0,0,0,0,0,0,3,3,3,3,3,3,3,3,3],\n",
        "    [6,6,6,6,6,6,6,1,1,1,1,1,1,1,6,6,6,6,6,1,1,1,1,1,1,1,0,0,0,0,0,0,0,1,1,1,1,1,1,6,6,6,6,6,6,6,6,6,6,5,5,5,5,5,2,2,2,2,2,2,2,2,2,2,1,1,1,1,1,1,1,1,1,1,1,0,0,0,0,0,0,0,0,3,3,3,3,3,3,3,3,3],\n",
        "    [6,6,6,6,6,6,6,1,1,1,1,1,1,1,6,6,6,6,6,1,1,1,1,1,1,1,0,0,0,0,0,0,0,1,1,1,1,1,1,6,6,6,6,6,6,6,6,6,6,5,5,5,5,5,2,2,2,2,2,2,2,2,2,2,1,1,1,1,1,1,1,1,1,1,1,0,0,0,0,0,0,0,0,3,3,3,3,3,3,3,3,3],\n",
        "    [6,6,6,6,6,6,6,1,1,1,1,1,1,1,6,6,6,6,6,1,1,1,1,1,1,0,0,0,0,0,0,0,0,1,1,1,1,1,1,5,5,5,5,6,1,1,1,1,1,5,5,5,5,5,2,2,2,2,2,2,2,2,2,2,1,1,1,1,1,1,1,1,1,1,1,0,0,0,0,0,0,0,0,3,3,3,3,3,3,3,3,3],\n",
        "    [6,6,6,6,6,6,6,1,1,1,1,1,1,1,6,6,6,6,6,1,1,1,1,1,1,0,0,0,0,0,0,0,0,1,1,1,1,1,1,5,5,5,5,5,1,1,1,1,1,5,5,5,5,5,2,2,2,2,2,2,2,2,2,2,1,1,1,1,1,1,1,1,1,1,1,0,0,0,0,0,0,0,0,3,3,3,3,3,3,3,3,3],\n",
        "    [6,6,6,6,6,6,6,1,4,4,4,4,4,6,6,6,6,6,6,0,0,0,0,0,0,0,0,0,0,0,0,0,0,1,1,1,1,1,1,5,5,5,5,5,1,1,1,1,1,5,5,5,5,5,2,2,2,2,2,2,2,2,2,2,1,1,1,1,1,1,1,1,1,1,1,0,0,0,0,0,0,0,0,3,3,3,3,3,3,3,3,3],\n",
        "    [6,6,6,6,6,6,6,4,4,4,4,4,4,6,6,6,6,6,6,0,0,0,0,0,0,0,0,0,0,0,0,0,0,1,1,1,1,1,1,5,5,5,5,5,1,1,1,1,1,5,5,5,5,5,2,2,2,2,2,2,2,2,2,2,1,1,1,1,1,1,1,1,1,1,1,0,0,0,0,0,0,0,0,3,3,3,3,3,3,3,3,3],\n",
        "    [6,6,6,6,6,6,6,4,4,4,4,4,4,6,6,6,6,6,6,0,0,0,0,0,0,0,0,0,0,0,0,0,0,1,1,1,1,1,1,5,5,5,5,5,5,1,1,1,5,5,5,5,5,5,5,2,2,2,2,2,2,2,2,2,1,1,1,1,1,1,1,1,1,1,1,0,0,0,0,0,0,0,0,3,3,3,3,3,3,3,3,3],\n",
        "    [6,6,6,6,6,6,6,4,4,4,4,4,4,4,0,0,0,0,0,0,0,0,0,0,0,0,0,0,0,0,0,0,0,1,1,1,1,1,1,5,5,5,5,5,5,5,5,5,5,5,5,5,5,5,1,1,1,1,1,1,2,2,2,2,1,1,1,1,1,1,1,1,1,1,1,0,0,0,0,0,0,0,0,5,5,5,3,3,3,3,3,3],\n",
        "    [6,6,6,6,6,6,6,4,4,4,4,4,4,4,0,0,0,0,0,0,0,0,0,6,6,6,6,6,6,0,0,0,0,1,1,1,1,1,1,5,5,5,5,5,5,5,5,5,5,5,5,5,5,1,1,1,1,1,1,1,1,2,2,2,1,1,1,1,1,1,1,1,1,1,1,0,0,0,0,0,0,0,0,5,5,5,5,5,3,3,3,3],\n",
        "    [6,6,6,6,6,6,6,4,4,4,4,4,4,4,0,0,0,0,0,0,0,0,6,6,6,6,6,6,6,6,6,0,0,1,1,1,1,1,1,5,5,5,5,5,5,5,5,5,5,5,5,5,1,1,1,1,1,1,1,1,1,3,3,3,1,1,1,1,1,1,1,1,1,1,1,0,0,0,0,0,0,0,0,5,5,5,5,5,5,5,3,3],\n",
        "    [6,6,6,6,6,6,6,4,4,4,4,4,1,0,0,0,0,0,0,0,0,6,6,6,6,6,6,6,6,6,6,6,6,6,1,1,1,1,0,0,0,5,5,5,5,5,5,5,5,5,1,1,1,1,1,1,1,1,1,1,1,3,3,3,1,1,1,1,1,1,1,1,1,1,1,0,0,0,0,0,0,0,0,5,5,5,5,5,5,5,5,5],\n",
        "    [6,6,6,6,6,6,6,1,1,1,1,1,1,0,0,0,0,0,0,0,6,6,6,6,6,6,6,6,6,6,6,6,6,6,6,6,1,1,0,0,0,0,0,0,5,5,5,5,5,1,1,1,1,1,1,1,1,1,1,1,3,3,3,3,1,1,1,1,1,1,1,1,1,1,1,0,0,0,0,0,0,0,0,5,5,5,5,5,5,5,5,5],\n",
        "    [6,6,6,6,6,6,6,1,1,1,1,1,1,0,0,0,0,0,0,6,6,6,6,6,6,6,6,6,6,6,6,6,6,6,6,6,6,1,0,0,0,0,0,0,0,5,5,5,5,1,1,1,1,1,1,1,1,1,1,3,3,3,3,3,1,1,1,1,1,1,1,1,1,1,1,0,0,0,0,0,0,0,5,5,5,5,5,5,5,5,5,5],\n",
        "    [6,6,6,6,6,6,6,1,1,1,1,1,1,0,0,0,0,0,0,6,6,6,6,6,6,6,6,6,6,6,6,6,6,6,6,6,6,6,0,0,0,0,0,0,0,5,5,5,5,1,1,1,1,1,1,1,1,1,1,3,3,3,3,3,1,1,1,1,1,1,1,1,1,1,1,0,0,0,0,0,0,0,5,5,5,5,5,5,5,5,5,5],\n",
        "    [6,6,6,6,6,6,6,1,1,1,1,1,1,0,0,0,0,0,0,6,6,6,6,6,6,6,6,6,6,6,6,6,6,6,6,6,6,6,0,0,0,0,0,0,0,5,5,5,5,1,1,1,1,1,1,1,5,5,5,5,3,3,3,1,1,1,1,1,1,1,1,1,1,1,1,0,0,0,0,0,0,0,5,5,5,5,5,5,5,5,5,5],\n",
        "    [6,6,6,6,6,6,6,1,1,1,1,1,1,0,0,0,0,0,6,6,6,6,6,6,6,6,6,6,6,6,6,6,6,6,6,6,6,6,6,0,0,0,0,0,2,2,2,2,2,2,1,1,1,1,5,5,5,5,5,5,5,3,3,1,1,1,1,1,1,1,1,1,1,1,0,0,0,0,0,0,0,0,5,5,5,5,5,5,5,5,5,5],\n",
        "    [6,6,6,6,6,6,6,1,1,1,1,1,0,0,0,0,0,6,6,6,6,6,6,6,6,6,6,6,6,6,6,6,6,6,6,6,6,6,6,0,0,0,2,2,2,2,2,2,2,2,2,1,1,5,5,5,5,5,5,5,5,3,3,1,1,1,1,1,1,1,1,1,1,1,0,0,0,0,0,0,0,0,5,5,5,5,5,5,5,5,5,5],\n",
        "    [6,6,6,6,6,6,6,1,1,1,1,1,0,0,0,0,0,6,6,6,6,6,6,6,6,6,6,6,6,6,6,6,6,6,6,6,6,6,6,2,2,2,2,2,2,2,2,2,2,2,2,2,2,5,5,5,5,5,5,8,8,8,8,1,1,1,1,1,1,1,1,1,1,0,0,0,0,0,0,0,0,0,5,5,5,5,5,5,5,5,5,5],\n",
        "    [6,6,6,6,6,6,6,1,1,1,1,1,0,0,0,0,0,6,6,6,6,6,6,6,6,6,6,6,6,0,0,0,0,6,6,6,6,6,2,2,2,2,2,2,2,2,2,2,2,2,2,2,2,5,5,5,5,8,8,8,8,8,8,8,1,1,1,1,1,1,1,1,0,0,0,0,0,0,0,0,0,0,5,5,5,5,5,5,5,5,5,5],\n",
        "    [6,6,6,6,6,6,6,1,1,1,1,1,0,0,0,0,0,6,6,6,6,6,6,6,6,6,0,0,0,0,0,0,0,6,6,6,6,6,2,2,2,2,2,2,2,2,2,2,2,2,2,2,2,2,5,8,8,8,8,8,8,8,8,8,1,1,1,1,1,1,1,1,0,0,0,0,0,0,0,0,0,0,5,5,5,5,5,5,5,5,5,5],\n",
        "    [6,6,6,6,6,6,6,1,1,1,1,1,0,0,0,0,0,6,6,6,6,6,6,6,0,0,0,0,0,0,0,0,0,6,6,6,6,6,2,2,2,2,2,2,2,2,2,2,2,2,2,2,2,2,8,8,8,8,8,8,8,8,8,8,1,1,1,1,1,1,1,0,0,0,0,0,0,0,0,0,0,0,5,5,5,5,5,5,5,5,5,5],\n",
        "    [6,6,6,6,6,6,6,1,1,1,1,1,0,0,0,0,0,6,6,6,6,6,6,6,0,0,0,0,0,0,0,0,6,6,6,6,6,6,2,2,2,2,2,2,2,2,2,2,2,2,2,2,2,2,8,8,8,8,8,8,8,8,8,8,1,1,1,1,1,1,0,0,0,0,0,0,0,0,0,0,0,1,1,1,5,5,5,5,5,5,5,5],\n",
        "    [6,6,6,6,6,6,6,1,1,1,1,1,0,0,0,0,0,6,6,6,6,6,6,0,0,0,0,0,0,0,6,6,6,6,6,6,6,6,2,2,2,2,2,2,2,2,2,2,2,2,2,2,2,2,8,8,8,8,8,8,8,8,8,8,1,1,1,1,1,0,0,0,0,0,0,0,0,0,0,0,1,1,1,1,1,5,5,5,5,5,5,5],\n",
        "    [6,6,6,6,6,6,6,1,1,1,1,1,0,0,0,0,0,6,6,6,6,6,6,0,0,0,0,0,0,6,6,6,6,6,6,6,6,6,2,2,2,2,2,2,2,2,2,2,2,2,2,2,2,2,8,8,8,8,8,8,8,8,8,8,1,1,1,1,0,0,0,0,0,0,0,0,0,0,0,1,1,1,1,1,1,1,1,1,5,5,5,5],\n",
        "    [6,6,6,6,6,6,6,1,1,1,1,1,0,0,0,0,0,6,6,6,6,6,6,6,6,0,0,0,6,6,6,6,6,6,6,6,6,6,2,2,2,2,2,2,2,2,2,2,2,2,2,2,2,2,8,8,8,8,8,8,8,8,8,8,1,1,1,0,0,0,0,0,0,0,0,0,0,0,0,1,1,1,1,1,1,1,1,1,1,5,5,5],\n",
        "    [6,6,6,6,6,6,6,1,1,1,1,1,0,0,0,0,0,6,6,6,6,6,6,6,6,6,6,6,6,6,6,6,6,6,6,6,6,6,1,2,2,2,2,2,2,2,2,2,2,2,2,2,2,2,8,8,8,8,8,8,8,8,8,8,8,0,0,0,0,0,0,0,0,0,0,0,0,0,1,1,1,1,1,1,1,1,1,1,1,1,1,5],\n",
        "    [6,6,6,6,6,6,6,1,1,1,1,0,0,0,0,0,0,6,6,6,6,6,6,6,6,6,6,6,6,6,6,6,6,6,6,6,6,1,1,2,2,2,2,2,2,2,2,2,2,2,2,2,2,2,3,3,8,8,8,8,8,8,8,8,0,0,0,0,0,0,0,0,0,0,0,0,0,0,1,1,1,1,1,1,1,1,1,1,1,1,1,1],\n",
        "    [6,6,6,6,6,6,6,1,1,1,1,0,0,0,0,0,0,0,6,6,6,6,6,6,6,6,6,6,6,6,6,6,6,6,6,6,1,1,1,1,2,2,2,2,2,2,2,2,2,2,2,2,2,2,3,3,3,3,3,8,8,8,8,0,0,0,0,0,0,0,0,0,0,0,0,0,0,4,4,4,1,1,1,1,1,1,1,1,1,1,1,1],\n",
        "    [6,6,6,6,6,6,6,1,1,1,1,1,0,0,0,0,0,0,6,6,6,6,6,6,6,6,6,6,6,6,6,6,6,6,6,1,1,1,1,1,2,2,2,2,2,2,2,2,2,2,2,2,2,3,3,3,3,3,3,8,8,8,0,0,0,0,0,0,0,0,0,0,0,0,0,0,4,4,4,4,4,1,1,1,1,1,1,1,1,1,1,1],\n",
        "    [6,6,6,6,6,6,6,1,1,1,1,1,0,0,0,0,0,0,0,6,6,6,6,6,6,6,6,6,6,6,6,6,6,6,1,1,1,1,1,1,2,2,2,2,2,2,2,2,2,2,2,2,8,3,3,3,3,3,3,3,3,0,0,0,0,0,0,0,0,0,0,0,0,0,0,4,4,4,4,4,4,4,4,1,1,1,1,1,1,1,1,1],\n",
        "    [6,6,6,6,6,6,1,1,1,1,1,1,0,0,0,0,0,0,0,0,0,0,6,6,6,6,6,6,6,6,6,6,1,1,1,1,1,1,1,1,7,7,7,2,2,2,2,2,2,2,8,8,8,8,3,3,3,3,3,3,3,0,0,0,0,0,0,0,0,0,0,0,0,4,4,4,4,4,4,4,4,4,4,4,4,1,1,1,1,1,1,1],\n",
        "    [1,1,1,1,1,1,1,1,1,1,1,1,0,0,0,0,0,0,0,0,0,0,0,0,0,6,6,6,6,0,0,0,0,1,1,1,1,1,1,1,7,7,7,7,7,3,3,3,3,8,8,8,8,8,8,3,3,3,3,3,0,0,0,0,0,0,0,0,0,0,0,0,4,4,4,4,4,4,4,4,4,4,4,4,4,4,1,1,1,1,1,1],\n",
        "    [1,1,1,1,1,1,1,1,1,1,1,1,1,0,0,0,0,0,0,0,0,0,0,0,0,0,0,0,0,0,0,0,0,1,1,1,7,7,7,7,7,7,7,7,3,3,3,3,3,3,8,8,8,8,8,8,8,3,3,3,0,0,0,0,0,0,0,0,0,0,4,4,4,4,4,4,4,4,4,4,4,4,4,4,4,4,4,4,1,1,1,1],\n",
        "    [1,1,1,1,1,1,1,1,1,1,1,1,1,1,0,3,0,0,0,0,0,0,0,0,0,0,0,0,0,0,0,0,0,0,7,7,7,7,7,7,7,7,7,3,3,3,3,3,3,3,8,8,8,8,8,8,8,8,8,8,0,0,0,0,0,0,0,0,4,4,4,4,4,4,4,4,4,4,1,1,1,1,4,4,4,4,4,4,4,4,1,1],\n",
        "    [1,1,1,1,1,1,1,1,1,1,1,1,1,1,3,3,3,3,3,0,0,0,0,0,0,0,0,0,0,0,0,0,0,0,7,7,7,7,7,7,7,7,7,3,3,3,3,3,3,3,8,8,8,8,8,8,8,8,8,8,8,0,0,0,0,0,4,4,4,4,4,4,4,4,4,4,1,1,1,1,1,1,1,1,4,4,4,4,4,4,4,4],\n",
        "    [1,1,1,1,1,1,1,1,1,1,1,1,1,3,3,3,3,3,3,3,3,0,0,0,0,0,0,0,0,0,0,0,0,0,7,7,7,7,7,7,6,6,6,3,3,3,3,3,3,3,6,8,8,8,8,8,8,8,8,8,8,8,0,0,0,4,4,4,4,4,4,4,4,4,1,1,1,1,1,1,1,1,1,1,1,4,4,4,4,4,4,4],\n",
        "    [1,1,1,1,1,1,1,1,1,1,1,1,1,3,3,3,3,3,3,3,3,3,0,0,0,0,0,0,0,0,0,0,0,0,7,7,7,7,7,6,6,6,6,3,3,3,3,3,3,3,6,8,8,8,8,8,8,8,8,2,2,2,2,2,2,4,4,4,4,4,4,4,4,1,1,1,1,1,1,1,1,1,1,1,1,4,4,4,4,4,4,4],\n",
        "    [1,1,1,1,1,1,6,6,6,1,3,3,3,3,3,3,3,3,3,3,3,3,3,0,0,0,0,0,0,0,0,0,0,0,7,7,7,7,6,6,6,6,6,6,3,3,3,3,3,6,6,6,6,8,8,8,8,8,8,2,2,2,2,2,2,4,4,4,4,4,4,4,1,1,1,1,1,1,1,1,1,1,1,1,1,1,4,4,4,4,4,4],\n",
        "    [6,6,6,6,6,6,6,6,6,6,3,3,3,3,4,4,4,3,3,3,3,3,3,7,7,0,0,0,0,0,0,0,0,0,7,7,7,7,6,6,6,6,6,6,6,6,3,3,6,6,6,6,6,6,0,8,8,8,8,2,2,2,2,2,2,4,4,4,4,4,4,1,1,1,1,6,6,6,6,6,6,1,1,1,1,1,4,4,4,4,4,4],\n",
        "    [6,6,6,6,6,6,6,6,6,6,3,3,3,4,4,4,4,4,3,3,3,3,3,7,7,7,7,0,0,0,0,0,0,0,7,7,7,7,6,6,6,6,6,6,6,6,6,6,6,6,6,6,0,0,0,0,0,8,8,2,2,2,2,2,2,4,4,4,4,4,4,1,1,1,1,6,6,6,6,6,6,1,1,1,1,1,4,4,4,4,4,4],\n",
        "    [6,6,6,6,6,6,6,6,6,3,3,3,3,4,4,4,4,4,4,3,3,3,3,7,7,7,7,0,0,0,0,0,0,0,7,7,7,7,6,6,6,6,6,6,6,6,6,6,6,6,6,0,0,0,0,0,0,0,0,2,2,2,2,2,2,4,4,4,4,4,4,1,1,1,1,6,6,6,6,6,6,1,1,1,1,1,4,4,4,4,4,4],\n",
        "    [6,6,6,6,6,6,6,6,6,3,3,3,3,4,4,4,4,4,4,3,3,3,3,7,7,7,7,0,0,0,0,0,0,0,7,7,7,7,3,3,3,3,3,6,6,6,6,6,6,0,0,0,0,0,0,0,0,0,0,2,2,2,2,2,2,4,4,4,4,4,4,1,1,1,1,6,6,6,6,6,6,1,1,1,1,1,4,4,4,4,4,4],\n",
        "    [6,6,6,6,6,6,6,6,6,3,3,3,3,4,4,4,4,4,4,3,3,3,7,7,7,7,7,0,0,0,0,0,0,0,7,7,7,3,3,3,3,3,3,3,3,3,3,3,0,0,0,0,0,0,0,0,0,0,0,2,2,2,2,2,2,4,4,4,4,4,4,1,1,1,1,6,6,6,6,6,6,1,1,1,1,1,4,4,4,4,4,4],\n",
        "    [6,6,6,6,6,6,6,6,6,3,3,3,3,4,4,4,4,4,4,3,3,3,7,7,7,7,7,0,0,0,0,0,0,0,2,2,2,3,3,3,3,3,3,3,3,3,3,3,0,0,0,0,0,0,0,0,0,0,0,2,2,2,2,2,2,4,4,4,4,4,4,1,1,1,1,6,6,6,6,6,6,1,1,1,1,4,4,4,4,4,4,4],\n",
        "    [6,6,6,6,6,6,6,6,6,3,3,3,3,4,4,4,4,4,4,3,3,3,7,7,7,7,7,0,0,0,0,0,0,2,2,2,2,2,3,3,3,3,3,3,3,3,3,3,0,0,0,0,0,0,0,0,2,2,2,2,2,2,2,2,2,4,4,4,4,4,4,1,1,1,1,5,5,5,5,5,5,1,1,1,1,4,4,4,4,4,4,4],\n",
        "    [6,6,6,6,6,6,6,6,6,3,3,3,3,4,4,4,4,4,4,3,3,3,7,7,7,7,7,0,0,0,0,0,0,2,2,2,2,2,3,3,3,3,3,3,3,3,3,3,0,0,0,0,0,0,0,2,2,2,2,2,2,2,2,2,2,4,4,4,4,4,4,1,1,1,1,5,5,5,5,5,5,1,1,1,1,4,4,4,4,4,4,4],\n",
        "    [6,6,6,6,6,6,6,6,6,3,3,3,3,4,4,4,4,4,4,3,3,3,7,7,7,7,7,0,0,0,0,0,0,2,2,2,2,2,3,3,3,3,3,3,3,3,3,3,0,0,0,0,0,0,0,2,2,2,2,2,2,2,2,2,2,4,4,4,4,4,4,1,1,1,1,5,5,5,5,5,5,1,1,1,1,4,4,4,4,4,4,4],\n",
        "    [6,6,6,6,6,6,6,6,6,3,3,3,3,4,4,4,4,4,4,3,3,3,7,7,7,7,7,0,0,0,0,0,0,2,2,2,2,2,3,3,3,3,3,3,3,3,3,3,0,0,0,0,0,0,0,2,2,2,2,2,2,2,2,2,2,4,4,4,4,4,4,1,1,1,1,5,5,5,5,5,5,1,1,1,1,4,4,4,4,4,4,4],\n",
        "    [6,6,6,6,6,6,6,6,6,3,3,3,3,4,4,4,4,4,4,3,3,3,7,7,7,7,7,0,0,0,0,0,0,2,2,2,2,2,3,3,3,3,3,3,3,3,3,3,0,0,0,0,0,0,0,2,2,2,2,2,2,2,2,2,2,4,4,4,4,4,4,1,1,1,5,5,5,5,5,5,5,1,1,1,1,4,4,4,4,4,4,4],\n",
        "    [6,6,6,6,6,6,6,6,3,3,3,3,3,4,4,4,4,4,4,3,3,3,7,7,7,7,7,0,0,0,0,0,0,2,2,2,2,2,3,3,3,3,3,3,3,3,3,3,0,0,0,0,0,0,0,2,2,2,2,2,2,2,2,2,2,4,4,4,4,4,4,1,1,1,5,5,5,5,5,5,5,1,1,1,1,4,4,4,4,4,4,4],\n",
        "    [1,1,1,1,1,1,1,1,3,3,3,3,3,3,4,4,4,4,3,3,3,3,7,7,7,7,7,0,0,0,0,0,0,2,2,2,2,2,3,3,3,3,3,3,3,3,3,3,0,0,0,0,0,0,0,2,2,2,2,2,2,2,2,2,2,4,4,4,4,4,4,1,1,1,1,5,5,5,5,5,5,1,1,1,1,4,4,4,4,4,4,4],\n",
        "    [1,1,1,1,1,1,1,1,3,3,3,3,3,3,3,3,3,3,3,3,3,3,1,1,1,1,1,0,0,0,0,0,0,2,2,2,2,2,3,3,3,3,3,3,3,3,3,3,0,0,0,0,0,0,0,2,2,2,2,2,2,2,2,2,2,4,4,4,4,4,4,1,1,1,1,1,1,1,1,1,1,1,1,1,1,4,4,4,4,4,4,4],\n",
        "    [1,1,1,1,1,1,1,1,3,3,3,3,3,3,3,3,3,3,3,3,3,3,1,1,1,1,1,0,0,0,0,0,0,2,2,2,2,2,3,3,3,3,3,3,3,3,3,3,0,0,0,0,0,0,0,2,2,2,2,2,2,2,2,2,2,4,4,4,4,4,4,1,1,1,1,1,1,1,1,1,1,1,1,1,1,4,4,4,4,4,4,4],\n",
        "    [1,1,1,1,1,1,1,1,3,3,3,3,3,3,3,3,3,3,3,3,3,3,1,1,1,1,1,0,0,0,0,0,0,2,2,2,2,2,3,3,3,3,3,3,3,3,3,3,0,0,0,0,0,0,2,2,2,2,2,2,2,2,2,2,2,4,4,4,4,4,1,1,1,1,1,1,1,1,1,1,1,1,1,1,1,4,4,4,4,4,4,4],\n",
        "    [1,1,1,1,1,1,1,1,3,3,3,3,3,3,3,3,3,3,3,3,3,3,1,1,1,1,1,0,0,0,0,0,0,2,2,2,2,2,3,3,3,3,3,3,3,3,3,3,0,0,0,0,0,0,2,2,2,2,2,2,2,2,2,2,2,4,4,4,4,4,1,1,1,1,1,1,1,1,1,1,1,1,1,1,1,4,4,4,4,4,4,4],\n",
        "    [1,1,1,1,1,1,1,1,3,3,3,3,3,3,3,3,3,3,3,3,3,3,1,1,1,1,1,0,0,0,0,0,0,2,2,2,2,2,3,3,3,3,3,3,3,3,3,3,0,0,0,0,0,0,2,2,2,2,2,2,2,2,2,2,2,4,4,4,4,4,1,1,1,1,1,1,1,1,1,1,1,1,1,1,1,4,4,4,4,4,4,4],\n",
        "    [1,1,1,1,1,1,1,1,3,3,3,3,3,3,3,3,3,3,3,3,3,3,1,1,1,1,1,0,0,0,0,0,0,2,2,2,2,2,3,3,3,3,3,3,3,3,3,3,0,0,0,0,0,0,2,2,2,2,2,2,2,2,2,2,2,4,4,4,4,4,1,1,1,1,1,1,1,1,1,1,1,1,1,1,1,4,4,4,4,4,4,4],\n",
        "])\n",
        "\n",
        "\n",
        "num_rows, num_cols = img_jmiv.shape\n",
        "img_jmiv_vector = img_jmiv.ravel()\n",
        "\n",
        "maxtree = mta.ComponentTree(img_jmiv_vector, num_rows, num_cols, True, 1.5)\n",
        "mintree = mta.ComponentTree(img_jmiv_vector, num_rows, num_cols, False, 1.5)\n",
        "\n",
        "#showLevelSets(img_jmiv)\n",
        "#print(\"\\n\\n\")\n",
        "showTree(mintree)\n",
        "print(\"\\n\\n\")\n",
        "showTree(maxtree)\n"
      ]
    },
    {
      "cell_type": "markdown",
      "id": "642a153d-4353-4642-8b72-0822c0aa5027",
      "metadata": {
        "id": "642a153d-4353-4642-8b72-0822c0aa5027"
      },
      "source": [
        "### 4.1 Selecting the subtree"
      ]
    },
    {
      "cell_type": "code",
      "execution_count": 4,
      "id": "fc3e410f-859f-4cb8-b919-02cd6068c793",
      "metadata": {
        "colab": {
          "base_uri": "https://localhost:8080/",
          "height": 823
        },
        "id": "fc3e410f-859f-4cb8-b919-02cd6068c793",
        "outputId": "b6310036-95f5-413e-c8ae-599782beb0ac"
      },
      "outputs": [
        {
          "output_type": "display_data",
          "data": {
            "text/plain": [
              "<Figure size 640x480 with 1 Axes>"
            ],
            "image/png": "[encoded data removed]"
          },
          "metadata": {}
        },
        {
          "output_type": "display_data",
          "data": {
            "text/plain": [
              "<Figure size 640x480 with 1 Axes>"
            ],
            "image/png": "[encoded data removed]"
          },
          "metadata": {}
        }
      ],
      "source": [
        "mapNodes = mintree.nodes()\n",
        "S = mapNodes[8]\n",
        "\n",
        "showNode(S)\n",
        "showNodesOfSubtree(maxtree, S)"
      ]
    },
    {
      "cell_type": "markdown",
      "id": "73bbe75d-0347-406c-9f2e-3ff52e8e3533",
      "metadata": {
        "id": "73bbe75d-0347-406c-9f2e-3ff52e8e3533"
      },
      "source": [
        "### 4.2 Analyzing collections $F_\\lambda$ and $F_{\\lambda>b}$"
      ]
    },
    {
      "cell_type": "code",
      "execution_count": 5,
      "id": "e2c1b954-91eb-4f9b-9045-e0484d79f966",
      "metadata": {
        "id": "e2c1b954-91eb-4f9b-9045-e0484d79f966",
        "outputId": "275cec50-6719-4b8a-eff3-ae39a8debff8",
        "colab": {
          "base_uri": "https://localhost:8080/"
        }
      },
      "outputs": [
        {
          "output_type": "stream",
          "name": "stdout",
          "text": [
            "Area(rSubtree)= 892, level(rSubtree)= 1, level(parent(rSubtree))= 2\n",
            "newGrayLevel: 2\n",
            "unionNodes (Tau_S): [\t(id:2, level:1, |cnps|:986, idFZ:2933, |fz|:105), \n",
            "\t\t(id:2, level:1, |cnps|:986, idFZ:61, |fz|:370), \n",
            "\t\t(id:0, level:0, |cnps|:1173, idFZ:75, |fz|:417), \n",
            "]\n",
            "Intervalo: [0, 2]\n",
            "nodeTauStar: Id:0; level:0; |cnps|:1173; |flatZoneTauStar|:417\n",
            "F_λ = { 2:[ Id:3 ] 1:[ Id:2 ] }\n",
            "F_{λ>b} = { Id:4 }\n",
            "\n",
            "F_{2} = \n",
            "\t(Id:3; level:2; |cnps|:620) \n",
            "\t\tAfter add CNPs of S: (Id:3; level:2; |cnps|:1512) \n",
            "\tnodeUnion = union(F_{2}) =  id:3, level: 2, |cnps|: 1512, |children|: 5\n",
            "F_{1} = \n",
            "\t(Id:2; level:1; |cnps|:511) \n",
            "\tnodeUnion = union(F_{1}) =  id:2, level: 1, |cnps|: 511, |children|: 2\n",
            "\n"
          ]
        }
      ],
      "source": [
        "adjust = mta.ComponentTreeAdjustment(mintree, maxtree)\n",
        "\n",
        "adjust.updateTree2(maxtree, S)\n",
        "\n",
        "#after, pruning the maxtree\n",
        "mintree.prunning(S)\n",
        "del S\n",
        "\n",
        "print(adjust.log())"
      ]
    },
    {
      "cell_type": "code",
      "execution_count": 7,
      "id": "0924816c-42fe-432a-9863-949da9f626fe",
      "metadata": {
        "id": "0924816c-42fe-432a-9863-949da9f626fe",
        "outputId": "18a99671-2475-4dd6-f391-d731793c9c9f",
        "colab": {
          "base_uri": "https://localhost:8080/",
          "height": 1000
        }
      },
      "outputs": [
        {
          "output_type": "stream",
          "name": "stdout",
          "text": [
            "The reconstruction images are equals? True\n",
            "Imagem and its min-tree representation. The indexes of min-tree nodes are shown as label in the imagem.\n"
          ]
        },
        {
          "output_type": "display_data",
          "data": {
            "text/plain": [
              "<Figure size 800x600 with 1 Axes>"
            ],
            "image/png": "[encoded data removed]"
          },
          "metadata": {}
        },
        {
          "output_type": "stream",
          "name": "stdout",
          "text": [
            "Each node is represented by <index>: <gray level>: |cnps|\n",
            "\n",
            "                                                                                    \u001b[40m\u001b[37m 0: 8: 166 \u001b[0m\n",
            "                                                                                         |\n",
            "                                                                                    \u001b[40m\u001b[37m 1: 7: 180 \u001b[0m\n",
            "                                                                                         |\n",
            "                                                                                    \u001b[40m\u001b[37m 2: 6: 1141 \u001b[0m\n",
            "                                                                           ┌─────────────┴─────────────┐\n",
            "                                                                      \u001b[40m\u001b[37m 3: 5: 392 \u001b[0m                 \u001b[40m\u001b[37m 17: 0: 44 \u001b[0m\n",
            "                                                           ┌───────────────┴───────────────┐                 \n",
            "                                                      \u001b[40m\u001b[37m 4: 4: 493 \u001b[0m                     \u001b[40m\u001b[37m 10: 1: 23 \u001b[0m            \n",
            "                                        ┌──────────────────┴──────┬───────────┐                              \n",
            "                                   \u001b[40m\u001b[37m 5: 3: 598 \u001b[0m                \u001b[40m\u001b[37m 9: 1: 42 \u001b[0m \u001b[40m\u001b[37m 12: 1: 244 \u001b[0m                        \n",
            "                          ┌─────────────┴──────────────┐                                                     \n",
            "                     \u001b[40m\u001b[37m 6: 2: 1512 \u001b[0m                 \u001b[40m\u001b[37m 13: 1: 56 \u001b[0m                                                \n",
            "           ┌──────────────┴───┬───────────┐                                                                  \n",
            "      \u001b[40m\u001b[37m 7: 1: 483 \u001b[0m        \u001b[40m\u001b[37m 11: 1: 78 \u001b[0m \u001b[40m\u001b[37m 18: 0: 134 \u001b[0m                                                            \n",
            "     ┌─────┴──────┐                                                                                          \n",
            "\u001b[40m\u001b[37m 14: 0: 540 \u001b[0m \u001b[40m\u001b[37m 16: 0: 38 \u001b[0m\n",
            "\n",
            "\n",
            "\n",
            "Imagem and its max-tree representation. The indexes of max-tree nodes are shown as label in the imagem.\n"
          ]
        },
        {
          "output_type": "display_data",
          "data": {
            "text/plain": [
              "<Figure size 800x600 with 1 Axes>"
            ],
            "image/png": "[encoded data removed]"
          },
          "metadata": {}
        },
        {
          "output_type": "stream",
          "name": "stdout",
          "text": [
            "Each node is represented by <index>: <gray level>: |cnps|\n",
            "\n",
            "                                                  \u001b[40m\u001b[37m 0: 0: 756 \u001b[0m\n",
            "                            ┌──────────────────────────┴──────────────────────────┐\n",
            "                       \u001b[40m\u001b[37m 1: 1: 415 \u001b[0m                                           \u001b[40m\u001b[37m 2: 1: 511 \u001b[0m                                                                       \n",
            "                ┌───────────┴────────────┐            ┌───────────────────────────┴───────────────────────────┐                                                \n",
            "           \u001b[40m\u001b[37m 6: 3: 221 \u001b[0m               \u001b[40m\u001b[37m 7: 4: 43 \u001b[0m  \u001b[40m\u001b[37m 13: 5: 44 \u001b[0m                                             \u001b[40m\u001b[37m 3: 2: 1512 \u001b[0m                                          \n",
            "    ┌───────────┼────────────┐           |            |                    ┌──────────────────────────┬───────┴───┬────────────┬──────────────────┐            \n",
            "\u001b[40m\u001b[37m 9: 4: 72 \u001b[0m \u001b[40m\u001b[37m 18: 6: 112 \u001b[0m \u001b[40m\u001b[37m 22: 7: 59 \u001b[0m \u001b[40m\u001b[37m 14: 6: 431 \u001b[0m \u001b[40m\u001b[37m 19: 6: 36 \u001b[0m          \u001b[40m\u001b[37m 5: 3: 265 \u001b[0m                \u001b[40m\u001b[37m 8: 4: 378 \u001b[0m \u001b[40m\u001b[37m 10: 5: 172 \u001b[0m \u001b[40m\u001b[37m 16: 6: 373 \u001b[0m       \u001b[40m\u001b[37m 4: 3: 112 \u001b[0m       \n",
            "                                                                  ┌────────┴────────┐                             |                         ┌─────┴──────┐     \n",
            "                                                             \u001b[40m\u001b[37m 12: 5: 30 \u001b[0m       \u001b[40m\u001b[37m 17: 6: 66 \u001b[0m                   \u001b[40m\u001b[37m 15: 6: 123 \u001b[0m              \u001b[40m\u001b[37m 11: 5: 146 \u001b[0m \u001b[40m\u001b[37m 20: 7: 53 \u001b[0m\n",
            "                                                                  |           ┌─────┴─────┐                                                                    \n",
            "                                                             \u001b[40m\u001b[37m 23: 8: 96 \u001b[0m \u001b[40m\u001b[37m 21: 7: 68 \u001b[0m \u001b[40m\u001b[37m 24: 8: 70 \u001b[0m\n"
          ]
        }
      ],
      "source": [
        "#reconstructed images of both trees\n",
        "img_g_vector_maxtree = maxtree.reconstructionImage()\n",
        "img_g_vector_mintree = mintree.reconstructionImage()\n",
        "\n",
        "print(\"The reconstruction images are equals?\", (img_g_vector_maxtree == img_g_vector_mintree).all() )\n",
        "\n",
        "showTree(mintree)\n",
        "print(\"\\n\\n\")\n",
        "showTree(maxtree)"
      ]
    },
    {
      "cell_type": "markdown",
      "id": "ee462a97-fb6f-40dc-8b63-3da979f7c3db",
      "metadata": {
        "id": "ee462a97-fb6f-40dc-8b63-3da979f7c3db"
      },
      "source": [
        "# Other simple images for testing"
      ]
    },
    {
      "cell_type": "markdown",
      "id": "9844e3dd-f433-492b-88bc-61e4c1ea3cb8",
      "metadata": {
        "id": "9844e3dd-f433-492b-88bc-61e4c1ea3cb8"
      },
      "source": [
        "- Example image created by Wonder"
      ]
    },
    {
      "cell_type": "code",
      "execution_count": null,
      "id": "ee91f19f-d1e2-4f89-aed9-5ad7bcd93872",
      "metadata": {
        "id": "ee91f19f-d1e2-4f89-aed9-5ad7bcd93872"
      },
      "outputs": [],
      "source": [
        "img_wonder = np.array([\n",
        "[203,203,203,203,203,203,203,203,203,203,203,203,203,203,203,203,203,203,203,203,203,203,203,203,203],\n",
        "[203,203,203, 78, 78, 78, 78, 78, 78, 78, 78, 78, 78, 78, 78, 78, 78,203,203,203,203,203,203,203,203],\n",
        "[203,203, 78, 78, 78, 78, 78, 78, 78, 78, 78, 78, 78, 78, 78, 78, 78, 78,203,203,203,203,203,203,203],\n",
        "[203,203, 78, 78,126,126,126,126,126,126,126, 78, 78, 78, 78, 78, 78, 78,203,203,203, 54, 54,203,203],\n",
        "[203,203, 78, 78,126, 38, 38, 38,126,126,126, 78, 78, 78, 78, 78, 78, 78,203,203, 54, 54, 54, 54,203],\n",
        "[203,203, 78, 78,126, 38, 38, 38,126,126,126, 78, 78, 78, 78, 78, 78, 78,203, 54, 54, 54, 80, 54,203],\n",
        "[203,203, 78, 78,126, 38, 38, 38,126, 78, 78, 78, 78, 78, 78, 78, 78, 78,203, 54, 80, 54, 54, 54,203],\n",
        "[203, 78, 78, 78,126, 38, 38,126,126, 78, 78, 78,203,203,203,203,203,203,203, 54, 54, 54, 54,203,203],\n",
        "[203, 78, 78, 78,126,126,126,126, 78, 78,203,203,203,203,203,203,203,203, 54, 54, 54, 54, 54,203,203],\n",
        "[203, 78, 78, 78,126,126,126, 78, 78, 78,203,203,253,253,253,203,203,203, 54, 80, 54, 54, 54,203,203],\n",
        "[203, 78, 78, 78,126,126,126, 78, 78, 78,203,203,253,253,253,203,203, 54, 54, 54, 54, 54,203,203,203],\n",
        "[203, 78, 78, 78,126,126,126, 78, 78, 78,203,203,253,253,253,203,203,203, 54, 54, 54,203,203,203,203],\n",
        "[203, 78, 78, 78,126,126,126, 78, 78, 78, 78,203,203,203,203,203,203,203,203,203,203,203,203,203,203],\n",
        "[203, 78, 78, 78,126,126,126, 78, 78, 78, 78,203,203,203,126,126,126,126,203,203,203,203,203,203,203],\n",
        "[203, 78, 78, 78,126,126,126, 78, 78, 78, 78,203,203,126,126,126,126,126,126,126,126,126,203,203,203],\n",
        "[203, 78, 78, 78, 78, 78, 78, 78, 78, 78, 78,203,203,126,126,126,126,126,126, 72,126,126,203,203,203],\n",
        "[203, 78, 78, 78, 78, 78, 78,161,161,161, 78, 78,203,126,126,126,126,126,126, 72, 72,126,126,126,203],\n",
        "[203, 78, 78, 78, 78, 78,161,161,161,161,161, 78,203,126,126,126,126,126, 72, 72, 72,126,126,126,203],\n",
        "[203, 78, 78, 78, 78, 78,161, 30, 30, 30,161, 78,203,203,126,126,126, 72, 72, 72, 72, 72,126,126,203],\n",
        "[203, 78, 78, 78, 78, 78,161, 30, 90, 30,161, 78, 78,203,126,126, 72, 72, 72, 72, 72, 72, 72,126,203],\n",
        "[203, 78, 78, 78, 78, 78,161, 30, 30, 30,161, 78, 78,203,203,126,126,126,126,126,126,126,126,126,203],\n",
        "[203, 78, 78, 78, 78, 78,161,161,161,161,161, 78, 78, 78,203,203,126,126,126,126,126,126,126,203,203],\n",
        "[203, 78, 78, 78, 78, 78,161,161,161,161,161, 78, 78, 78,203,203,203,203,126,126,126,126,203,203,203],\n",
        "[203,203, 78, 78, 78, 78, 78, 78, 78, 78, 78, 78, 78, 78, 78,203,203,203,203,203,203,203,203,203,203],\n",
        "[203,203,203,203,203,203,203,203,203,203,203,203,203,203,203,203,203,203,203,203,203,203,203,203,203]\n",
        "])\n",
        "\n",
        "num_rows, num_cols = img_wonder.shape\n",
        "img_wonder_vector = img_wonder.ravel()\n",
        "\n",
        "maxtree = mta.ComponentTree(img_wonder_vector, num_rows, num_cols, True, 1.5)\n",
        "mintree = mta.ComponentTree(img_wonder_vector, num_rows, num_cols, False, 1.5)\n",
        "\n",
        "showLevelSets(img_wonder)\n",
        "showTree(mintree)\n",
        "showTree(maxtree)"
      ]
    },
    {
      "cell_type": "markdown",
      "id": "e8339173-3210-4c11-9ae2-e2718d6d3f6d",
      "metadata": {
        "id": "e8339173-3210-4c11-9ae2-e2718d6d3f6d"
      },
      "source": [
        "- Image of the DGMM paper"
      ]
    },
    {
      "cell_type": "code",
      "execution_count": null,
      "id": "0594ffa5-e876-4a80-af71-441ad21be026",
      "metadata": {
        "id": "0594ffa5-e876-4a80-af71-441ad21be026"
      },
      "outputs": [],
      "source": [
        "img_dgmm = np.array([\n",
        "    [7, 7, 7, 7, 7, 7, 7, 7, 7],\n",
        "    [7, 5, 5, 5, 7, 7, 7, 7, 7],\n",
        "    [7, 5, 1, 5, 7, 7, 7, 7, 7],\n",
        "    [7, 5, 1, 5, 7, 2, 2, 2, 7],\n",
        "    [7, 5, 1, 5, 7, 2, 4, 2, 7],\n",
        "    [7, 5, 5, 5, 7, 2, 2, 2, 7],\n",
        "    [7, 7, 7, 7, 7, 2, 4, 2, 7],\n",
        "    [7, 7, 7, 7, 7, 2, 2, 2, 7],\n",
        "    [7, 7, 7, 7, 7, 7, 7, 7, 7]\n",
        "])\n",
        "\n",
        "\n",
        "num_rows, num_cols = img_dgmm.shape\n",
        "img_dgmm_vector = img_dgmm.ravel()\n",
        "\n",
        "maxtree = mta.ComponentTree(img_dgmm_vector, num_rows, num_cols, True, 1.5)\n",
        "mintree = mta.ComponentTree(img_dgmm_vector, num_rows, num_cols, False, 1.5)\n",
        "\n",
        "showLevelSets(img_dgmm)\n",
        "print(\"\\n\\n\")\n",
        "showTree(mintree)\n",
        "print(\"\\n\\n\")\n",
        "showTree(maxtree)"
      ]
    }
  ],
  "metadata": {
    "colab": {
      "provenance": [],
      "include_colab_link": true
    },
    "kernelspec": {
      "display_name": "Python 3 (ipykernel)",
      "language": "python",
      "name": "python3"
    },
    "language_info": {
      "codemirror_mode": {
        "name": "ipython",
        "version": 3
      },
      "file_extension": ".py",
      "mimetype": "text/x-python",
      "name": "python",
      "nbconvert_exporter": "python",
      "pygments_lexer": "ipython3",
      "version": "3.9.19"
    }
  },
  "nbformat": 4,
  "nbformat_minor": 5
}